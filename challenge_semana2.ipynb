{
  "nbformat": 4,
  "nbformat_minor": 0,
  "metadata": {
    "colab": {
      "provenance": [],
      "include_colab_link": true
    },
    "kernelspec": {
      "name": "python3",
      "display_name": "Python 3"
    },
    "language_info": {
      "name": "python"
    }
  },
  "cells": [
    {
      "cell_type": "markdown",
      "metadata": {
        "id": "view-in-github",
        "colab_type": "text"
      },
      "source": [
        "<a href=\"https://colab.research.google.com/github/sordib/exercicios_bootcamp_womakerscode/blob/main/challenge_semana2.ipynb\" target=\"_parent\"><img src=\"https://colab.research.google.com/assets/colab-badge.svg\" alt=\"Open In Colab\"/></a>"
      ]
    },
    {
      "cell_type": "markdown",
      "source": [
        "\n",
        "\n",
        "\n",
        "\n",
        "\n",
        "\n",
        "\n",
        "\n",
        "\n",
        "\n",
        "# **Desafio Probabilidade e Amostragem**"
      ],
      "metadata": {
        "id": "MOPIR1Q6wNYh"
      }
    },
    {
      "cell_type": "markdown",
      "source": [
        "Integrantes Squad Grace Hopper:\n",
        "\n",
        "\n",
        "*   Aline Alvino\n",
        "*   Bianca Sordi\n",
        "*   Maitê S. Cuevas\n",
        "*   Marina Arthur\n",
        "*   Marina Neves\n",
        "*   Mayara Reghin\n",
        "*   Victória Viana\n",
        "*   Wellen Nascimento\n",
        "\n"
      ],
      "metadata": {
        "id": "AiA5XP_gwlkj"
      }
    },
    {
      "cell_type": "markdown",
      "source": [
        "## **Como nossa squad se organizou**"
      ],
      "metadata": {
        "id": "F3EZknpowpJC"
      }
    },
    {
      "cell_type": "markdown",
      "source": [
        "\n",
        "*  Nos reunimos para discutir sobre o desafio\n",
        "\n",
        "*  Compartilhamos o colab para deixar livre para todas colaborarem com o desafio\n",
        "\n",
        "*  Nos reunimos após o desafio estar pronto para conversar sobre o que fizemos, revisar e ajustar\n",
        "\n",
        "* As integrantes Aline, Bianca, Maitê e Mayara ficaram responsáveis pela apresentação."
      ],
      "metadata": {
        "id": "ZUNh-uBJw3Ss"
      }
    },
    {
      "cell_type": "markdown",
      "source": [
        "## **Desafios e facilidades**"
      ],
      "metadata": {
        "id": "fcqQIRQcwzBD"
      }
    },
    {
      "cell_type": "markdown",
      "source": [
        "Desafios\n",
        "\n",
        "*   Aplicação de conceitos de probabilidade\n",
        "\n",
        "Facilidades\n",
        "\n",
        "\n",
        "*   Trabalho em conjunto pelo Colab\n",
        "*   Houve uma melhora na nossa organização\n",
        "*   Dados Fornecidos\n",
        "\n",
        "\n",
        "\n",
        "\n"
      ],
      "metadata": {
        "id": "beIl-fogw4DL"
      }
    },
    {
      "cell_type": "markdown",
      "source": [
        "________________________________________________________________________________\n",
        "## **Importando bibliotecas e bases de dados**"
      ],
      "metadata": {
        "id": "z2EwBy9Uw5xq"
      }
    },
    {
      "cell_type": "code",
      "source": [
        "#Importando bibliotecas\n",
        "import pandas as pd\n",
        "import seaborn as sns\n",
        "import numpy as np\n",
        "import matplotlib.pyplot as plt\n",
        "from scipy.stats import norm\n",
        "from matplotlib._api.deprecation import math\n",
        "from scipy.stats import norm\n"
      ],
      "metadata": {
        "id": "v3r95HCNxPAD"
      },
      "execution_count": null,
      "outputs": []
    },
    {
      "cell_type": "code",
      "source": [
        "#Importando bases de dados\n",
        "\n",
        "consumidor = pd.read_csv(\"/content/desafio01consumidor-230829-103627.csv\")\n",
        "estoque = pd.read_csv(\"/content/desafio_02_estoque-230829-103603.csv\")"
      ],
      "metadata": {
        "id": "PETkrIvtxUak"
      },
      "execution_count": null,
      "outputs": []
    },
    {
      "cell_type": "markdown",
      "source": [
        "________________________________________________________________________________\n",
        "# **Desafio 1: Entendendo o consumidor**"
      ],
      "metadata": {
        "id": "N8q-eftRxbMZ"
      }
    },
    {
      "cell_type": "markdown",
      "source": [
        "Neste desafio iremos entender a *diferença de perfil do consumidor* de uma empresa de produtos de beleza *pré e pós-pandemia*.\n",
        "\n",
        "Queremos saber se:\n",
        "\n",
        "*   Houve mudança de fato?\n",
        "*   Quais as diferenças do perfil do cliente novo para o antigo?\n",
        "\n",
        "Nosso objetivo é descobrir como o time de marketing pode personalizar melhor os anúncios para o *novo perfil de consumidor*."
      ],
      "metadata": {
        "id": "bAcGKRR7yxTU"
      }
    },
    {
      "cell_type": "markdown",
      "source": [
        "## **Conhecendo o dataset consumidor**\n",
        "\n",
        "Exibir o dataset e verificar se há missing datas.\n",
        "Exibir quantidade de linhas e colunas e tipos de dados das colunas.\n",
        "Explorar variáveis."
      ],
      "metadata": {
        "id": "HwZ-ursrzcv0"
      }
    },
    {
      "cell_type": "code",
      "source": [
        "#Conhecendo as colunas do dataframe de Consumidor\n",
        "consumidor.head()"
      ],
      "metadata": {
        "colab": {
          "base_uri": "https://localhost:8080/",
          "height": 204
        },
        "id": "UAm2U2CTywrH",
        "outputId": "8d63b1a4-df54-4d04-b26f-530981e6d382"
      },
      "execution_count": null,
      "outputs": [
        {
          "output_type": "execute_result",
          "data": {
            "text/plain": [
              "  id_cliente  idade  renda      produto     regiao-BR  pre-pandemia\n",
              "0  XXXXXXX72     30   7452        batom       Sudeste             1\n",
              "1  XXXXXXX15     59    837  desodorante      Nordeste             1\n",
              "2  XXXXXXX70     28   3231       sombra  Centro-Oeste             1\n",
              "3  XXXXXXX99     27   5409        batom           Sul             1\n",
              "4  XXXXXXX98     24   1142        batom       Sudeste             1"
            ],
            "text/html": [
              "\n",
              "  <div id=\"df-d1e93ae1-13b2-4857-800f-147342cdb104\" class=\"colab-df-container\">\n",
              "    <div>\n",
              "<style scoped>\n",
              "    .dataframe tbody tr th:only-of-type {\n",
              "        vertical-align: middle;\n",
              "    }\n",
              "\n",
              "    .dataframe tbody tr th {\n",
              "        vertical-align: top;\n",
              "    }\n",
              "\n",
              "    .dataframe thead th {\n",
              "        text-align: right;\n",
              "    }\n",
              "</style>\n",
              "<table border=\"1\" class=\"dataframe\">\n",
              "  <thead>\n",
              "    <tr style=\"text-align: right;\">\n",
              "      <th></th>\n",
              "      <th>id_cliente</th>\n",
              "      <th>idade</th>\n",
              "      <th>renda</th>\n",
              "      <th>produto</th>\n",
              "      <th>regiao-BR</th>\n",
              "      <th>pre-pandemia</th>\n",
              "    </tr>\n",
              "  </thead>\n",
              "  <tbody>\n",
              "    <tr>\n",
              "      <th>0</th>\n",
              "      <td>XXXXXXX72</td>\n",
              "      <td>30</td>\n",
              "      <td>7452</td>\n",
              "      <td>batom</td>\n",
              "      <td>Sudeste</td>\n",
              "      <td>1</td>\n",
              "    </tr>\n",
              "    <tr>\n",
              "      <th>1</th>\n",
              "      <td>XXXXXXX15</td>\n",
              "      <td>59</td>\n",
              "      <td>837</td>\n",
              "      <td>desodorante</td>\n",
              "      <td>Nordeste</td>\n",
              "      <td>1</td>\n",
              "    </tr>\n",
              "    <tr>\n",
              "      <th>2</th>\n",
              "      <td>XXXXXXX70</td>\n",
              "      <td>28</td>\n",
              "      <td>3231</td>\n",
              "      <td>sombra</td>\n",
              "      <td>Centro-Oeste</td>\n",
              "      <td>1</td>\n",
              "    </tr>\n",
              "    <tr>\n",
              "      <th>3</th>\n",
              "      <td>XXXXXXX99</td>\n",
              "      <td>27</td>\n",
              "      <td>5409</td>\n",
              "      <td>batom</td>\n",
              "      <td>Sul</td>\n",
              "      <td>1</td>\n",
              "    </tr>\n",
              "    <tr>\n",
              "      <th>4</th>\n",
              "      <td>XXXXXXX98</td>\n",
              "      <td>24</td>\n",
              "      <td>1142</td>\n",
              "      <td>batom</td>\n",
              "      <td>Sudeste</td>\n",
              "      <td>1</td>\n",
              "    </tr>\n",
              "  </tbody>\n",
              "</table>\n",
              "</div>\n",
              "    <div class=\"colab-df-buttons\">\n",
              "\n",
              "  <div class=\"colab-df-container\">\n",
              "    <button class=\"colab-df-convert\" onclick=\"convertToInteractive('df-d1e93ae1-13b2-4857-800f-147342cdb104')\"\n",
              "            title=\"Convert this dataframe to an interactive table.\"\n",
              "            style=\"display:none;\">\n",
              "\n",
              "  <svg xmlns=\"http://www.w3.org/2000/svg\" height=\"24px\" viewBox=\"0 -960 960 960\">\n",
              "    <path d=\"M120-120v-720h720v720H120Zm60-500h600v-160H180v160Zm220 220h160v-160H400v160Zm0 220h160v-160H400v160ZM180-400h160v-160H180v160Zm440 0h160v-160H620v160ZM180-180h160v-160H180v160Zm440 0h160v-160H620v160Z\"/>\n",
              "  </svg>\n",
              "    </button>\n",
              "\n",
              "  <style>\n",
              "    .colab-df-container {\n",
              "      display:flex;\n",
              "      gap: 12px;\n",
              "    }\n",
              "\n",
              "    .colab-df-convert {\n",
              "      background-color: #E8F0FE;\n",
              "      border: none;\n",
              "      border-radius: 50%;\n",
              "      cursor: pointer;\n",
              "      display: none;\n",
              "      fill: #1967D2;\n",
              "      height: 32px;\n",
              "      padding: 0 0 0 0;\n",
              "      width: 32px;\n",
              "    }\n",
              "\n",
              "    .colab-df-convert:hover {\n",
              "      background-color: #E2EBFA;\n",
              "      box-shadow: 0px 1px 2px rgba(60, 64, 67, 0.3), 0px 1px 3px 1px rgba(60, 64, 67, 0.15);\n",
              "      fill: #174EA6;\n",
              "    }\n",
              "\n",
              "    .colab-df-buttons div {\n",
              "      margin-bottom: 4px;\n",
              "    }\n",
              "\n",
              "    [theme=dark] .colab-df-convert {\n",
              "      background-color: #3B4455;\n",
              "      fill: #D2E3FC;\n",
              "    }\n",
              "\n",
              "    [theme=dark] .colab-df-convert:hover {\n",
              "      background-color: #434B5C;\n",
              "      box-shadow: 0px 1px 3px 1px rgba(0, 0, 0, 0.15);\n",
              "      filter: drop-shadow(0px 1px 2px rgba(0, 0, 0, 0.3));\n",
              "      fill: #FFFFFF;\n",
              "    }\n",
              "  </style>\n",
              "\n",
              "    <script>\n",
              "      const buttonEl =\n",
              "        document.querySelector('#df-d1e93ae1-13b2-4857-800f-147342cdb104 button.colab-df-convert');\n",
              "      buttonEl.style.display =\n",
              "        google.colab.kernel.accessAllowed ? 'block' : 'none';\n",
              "\n",
              "      async function convertToInteractive(key) {\n",
              "        const element = document.querySelector('#df-d1e93ae1-13b2-4857-800f-147342cdb104');\n",
              "        const dataTable =\n",
              "          await google.colab.kernel.invokeFunction('convertToInteractive',\n",
              "                                                    [key], {});\n",
              "        if (!dataTable) return;\n",
              "\n",
              "        const docLinkHtml = 'Like what you see? Visit the ' +\n",
              "          '<a target=\"_blank\" href=https://colab.research.google.com/notebooks/data_table.ipynb>data table notebook</a>'\n",
              "          + ' to learn more about interactive tables.';\n",
              "        element.innerHTML = '';\n",
              "        dataTable['output_type'] = 'display_data';\n",
              "        await google.colab.output.renderOutput(dataTable, element);\n",
              "        const docLink = document.createElement('div');\n",
              "        docLink.innerHTML = docLinkHtml;\n",
              "        element.appendChild(docLink);\n",
              "      }\n",
              "    </script>\n",
              "  </div>\n",
              "\n",
              "\n",
              "<div id=\"df-b02924a2-eb6c-44c2-aa0f-dba7f23b2ca1\">\n",
              "  <button class=\"colab-df-quickchart\" onclick=\"quickchart('df-b02924a2-eb6c-44c2-aa0f-dba7f23b2ca1')\"\n",
              "            title=\"Suggest charts\"\n",
              "            style=\"display:none;\">\n",
              "\n",
              "<svg xmlns=\"http://www.w3.org/2000/svg\" height=\"24px\"viewBox=\"0 0 24 24\"\n",
              "     width=\"24px\">\n",
              "    <g>\n",
              "        <path d=\"M19 3H5c-1.1 0-2 .9-2 2v14c0 1.1.9 2 2 2h14c1.1 0 2-.9 2-2V5c0-1.1-.9-2-2-2zM9 17H7v-7h2v7zm4 0h-2V7h2v10zm4 0h-2v-4h2v4z\"/>\n",
              "    </g>\n",
              "</svg>\n",
              "  </button>\n",
              "\n",
              "<style>\n",
              "  .colab-df-quickchart {\n",
              "      --bg-color: #E8F0FE;\n",
              "      --fill-color: #1967D2;\n",
              "      --hover-bg-color: #E2EBFA;\n",
              "      --hover-fill-color: #174EA6;\n",
              "      --disabled-fill-color: #AAA;\n",
              "      --disabled-bg-color: #DDD;\n",
              "  }\n",
              "\n",
              "  [theme=dark] .colab-df-quickchart {\n",
              "      --bg-color: #3B4455;\n",
              "      --fill-color: #D2E3FC;\n",
              "      --hover-bg-color: #434B5C;\n",
              "      --hover-fill-color: #FFFFFF;\n",
              "      --disabled-bg-color: #3B4455;\n",
              "      --disabled-fill-color: #666;\n",
              "  }\n",
              "\n",
              "  .colab-df-quickchart {\n",
              "    background-color: var(--bg-color);\n",
              "    border: none;\n",
              "    border-radius: 50%;\n",
              "    cursor: pointer;\n",
              "    display: none;\n",
              "    fill: var(--fill-color);\n",
              "    height: 32px;\n",
              "    padding: 0;\n",
              "    width: 32px;\n",
              "  }\n",
              "\n",
              "  .colab-df-quickchart:hover {\n",
              "    background-color: var(--hover-bg-color);\n",
              "    box-shadow: 0 1px 2px rgba(60, 64, 67, 0.3), 0 1px 3px 1px rgba(60, 64, 67, 0.15);\n",
              "    fill: var(--button-hover-fill-color);\n",
              "  }\n",
              "\n",
              "  .colab-df-quickchart-complete:disabled,\n",
              "  .colab-df-quickchart-complete:disabled:hover {\n",
              "    background-color: var(--disabled-bg-color);\n",
              "    fill: var(--disabled-fill-color);\n",
              "    box-shadow: none;\n",
              "  }\n",
              "\n",
              "  .colab-df-spinner {\n",
              "    border: 2px solid var(--fill-color);\n",
              "    border-color: transparent;\n",
              "    border-bottom-color: var(--fill-color);\n",
              "    animation:\n",
              "      spin 1s steps(1) infinite;\n",
              "  }\n",
              "\n",
              "  @keyframes spin {\n",
              "    0% {\n",
              "      border-color: transparent;\n",
              "      border-bottom-color: var(--fill-color);\n",
              "      border-left-color: var(--fill-color);\n",
              "    }\n",
              "    20% {\n",
              "      border-color: transparent;\n",
              "      border-left-color: var(--fill-color);\n",
              "      border-top-color: var(--fill-color);\n",
              "    }\n",
              "    30% {\n",
              "      border-color: transparent;\n",
              "      border-left-color: var(--fill-color);\n",
              "      border-top-color: var(--fill-color);\n",
              "      border-right-color: var(--fill-color);\n",
              "    }\n",
              "    40% {\n",
              "      border-color: transparent;\n",
              "      border-right-color: var(--fill-color);\n",
              "      border-top-color: var(--fill-color);\n",
              "    }\n",
              "    60% {\n",
              "      border-color: transparent;\n",
              "      border-right-color: var(--fill-color);\n",
              "    }\n",
              "    80% {\n",
              "      border-color: transparent;\n",
              "      border-right-color: var(--fill-color);\n",
              "      border-bottom-color: var(--fill-color);\n",
              "    }\n",
              "    90% {\n",
              "      border-color: transparent;\n",
              "      border-bottom-color: var(--fill-color);\n",
              "    }\n",
              "  }\n",
              "</style>\n",
              "\n",
              "  <script>\n",
              "    async function quickchart(key) {\n",
              "      const quickchartButtonEl =\n",
              "        document.querySelector('#' + key + ' button');\n",
              "      quickchartButtonEl.disabled = true;  // To prevent multiple clicks.\n",
              "      quickchartButtonEl.classList.add('colab-df-spinner');\n",
              "      try {\n",
              "        const charts = await google.colab.kernel.invokeFunction(\n",
              "            'suggestCharts', [key], {});\n",
              "      } catch (error) {\n",
              "        console.error('Error during call to suggestCharts:', error);\n",
              "      }\n",
              "      quickchartButtonEl.classList.remove('colab-df-spinner');\n",
              "      quickchartButtonEl.classList.add('colab-df-quickchart-complete');\n",
              "    }\n",
              "    (() => {\n",
              "      let quickchartButtonEl =\n",
              "        document.querySelector('#df-b02924a2-eb6c-44c2-aa0f-dba7f23b2ca1 button');\n",
              "      quickchartButtonEl.style.display =\n",
              "        google.colab.kernel.accessAllowed ? 'block' : 'none';\n",
              "    })();\n",
              "  </script>\n",
              "</div>\n",
              "    </div>\n",
              "  </div>\n"
            ]
          },
          "metadata": {},
          "execution_count": 3
        }
      ]
    },
    {
      "cell_type": "code",
      "source": [
        "#Entendendo a coluna (variável: pré-pandemia)\n",
        "print(\"\\nContagem de valores individuais: \\n\", consumidor['pre-pandemia'].value_counts())\n",
        "\n",
        "print(\"\\n \\n Esta variável é booleana e indica se o cliente é de antes da pandemia (1=True) ou se ele é um cliente novo (0=False). \")\n"
      ],
      "metadata": {
        "colab": {
          "base_uri": "https://localhost:8080/"
        },
        "id": "qguKE0dEBhc-",
        "outputId": "51880da8-7b5f-4fb7-e439-9111acfa8bfc"
      },
      "execution_count": null,
      "outputs": [
        {
          "output_type": "stream",
          "name": "stdout",
          "text": [
            "\n",
            "Contagem de valores individuais: \n",
            " 0    102\n",
            "1    101\n",
            "Name: pre-pandemia, dtype: int64\n",
            "\n",
            " \n",
            " Esta variável é booleana e indica se o cliente é de antes da pandemia (1=True) ou se ele é um cliente novo (0=False). \n"
          ]
        }
      ]
    },
    {
      "cell_type": "code",
      "source": [
        "#Vemos a quantidade total de linhas e colunas\n",
        "print(\"Quantidade de linhas e colunas, respectivamente:\", consumidor.shape)"
      ],
      "metadata": {
        "colab": {
          "base_uri": "https://localhost:8080/"
        },
        "id": "zgOFLTIRAtMp",
        "outputId": "5424cd3b-4e9d-4f2a-983b-8172e46c72c7"
      },
      "execution_count": null,
      "outputs": [
        {
          "output_type": "stream",
          "name": "stdout",
          "text": [
            "Quantidade de linhas e colunas, respectivamente: (203, 6)\n"
          ]
        }
      ]
    },
    {
      "cell_type": "code",
      "source": [
        "#Tipo dados armazenado em cada coluna\n",
        "consumidor.dtypes"
      ],
      "metadata": {
        "colab": {
          "base_uri": "https://localhost:8080/"
        },
        "id": "6qDDTyB6AmYY",
        "outputId": "2cbfbaf3-5bd2-4b12-8251-b0f2670beb3a"
      },
      "execution_count": null,
      "outputs": [
        {
          "output_type": "execute_result",
          "data": {
            "text/plain": [
              "id_cliente      object\n",
              "idade            int64\n",
              "renda            int64\n",
              "produto         object\n",
              "regiao-BR       object\n",
              "pre-pandemia     int64\n",
              "dtype: object"
            ]
          },
          "metadata": {},
          "execution_count": 6
        }
      ]
    },
    {
      "cell_type": "code",
      "source": [
        "#separando o dataframe com os dados pré e pós pandemia\n",
        "dados_pre_pandemia = consumidor.loc[(consumidor['pre-pandemia'] == 1)]\n",
        "dados_pos_pandemia = consumidor.loc[(consumidor['pre-pandemia'] == 0)]"
      ],
      "metadata": {
        "id": "kts9KX-geZ7h"
      },
      "execution_count": null,
      "outputs": []
    },
    {
      "cell_type": "markdown",
      "source": [
        "## **Entendendo a distribuição das variáveis**\n",
        "Identificando a distribuição das variáveis(ex: idade, renda, região, produtos mais comprados antes e depois da pandemia), suas medidas de tendênia centrais e plotando histogramas e boxplots."
      ],
      "metadata": {
        "id": "F8CKlrslzspn"
      }
    },
    {
      "cell_type": "markdown",
      "source": [
        "*  **Idade (quantitativa)**\n",
        "\n",
        "Passo 1 - Especificando os limites de cada classe:\n",
        "\n",
        "> Jovem ► Indivíduos de até 19 anos\n",
        "\n",
        "> Adultos ► Indivíduos com idade entre 20 até 59 anos\n",
        "\n",
        "> Idosos ► Indivíduos de 60 anos em diante\n",
        "\n",
        "Passo 2 - Criar a tabela de frequências pré e pós-pandemia"
      ],
      "metadata": {
        "id": "ABjIj9GgKaYf"
      }
    },
    {
      "cell_type": "code",
      "source": [
        "classes_idade = [0, 19, 59, 60] #classificando a idade dos clientes\n",
        "labels_idade = ['Jovem','Adulto','Idoso']"
      ],
      "metadata": {
        "id": "guGPhZltMg4C"
      },
      "execution_count": null,
      "outputs": []
    },
    {
      "cell_type": "code",
      "source": [
        "#analisando variável Idade Pré-pandemia\n",
        "frequencia_idade_pre = pd.value_counts( #calculando a distribuição da frequencia das idades pre-pandemia\n",
        "    pd.cut(x = dados_pre_pandemia.idade,\n",
        "           bins = classes_idade,\n",
        "           labels = labels_idade,\n",
        "           include_lowest = True)\n",
        ")\n",
        "percentual_idade_pre = pd.value_counts( #calculando quanto isso representa em porcentual\n",
        "    pd.cut(x = dados_pre_pandemia.idade,\n",
        "           bins = classes_idade,\n",
        "           labels = labels_idade,\n",
        "           include_lowest = True),\n",
        "    normalize = True\n",
        ")\n",
        "dist_freq_idade_pre = pd.DataFrame( # mostrando os resultados em forma de tabela\n",
        "    {'Frequência': frequencia_idade_pre,'Porcentagem (%)': percentual_idade_pre}\n",
        ")\n",
        "dist_freq_idade_pre.rename_axis('Pré-pandemia', axis= 'columns', inplace = True)\n",
        "dist_freq_idade_pre"
      ],
      "metadata": {
        "colab": {
          "base_uri": "https://localhost:8080/",
          "height": 142
        },
        "id": "c8dq4QTsMzv5",
        "outputId": "72407dc1-828d-49f9-8986-990348b2646b"
      },
      "execution_count": null,
      "outputs": [
        {
          "output_type": "execute_result",
          "data": {
            "text/plain": [
              "Pré-pandemia  Frequência  Porcentagem (%)\n",
              "Adulto                87         0.956044\n",
              "Jovem                  3         0.032967\n",
              "Idoso                  1         0.010989"
            ],
            "text/html": [
              "\n",
              "  <div id=\"df-9cc90356-41c0-4802-9c28-2ef14084b21a\" class=\"colab-df-container\">\n",
              "    <div>\n",
              "<style scoped>\n",
              "    .dataframe tbody tr th:only-of-type {\n",
              "        vertical-align: middle;\n",
              "    }\n",
              "\n",
              "    .dataframe tbody tr th {\n",
              "        vertical-align: top;\n",
              "    }\n",
              "\n",
              "    .dataframe thead th {\n",
              "        text-align: right;\n",
              "    }\n",
              "</style>\n",
              "<table border=\"1\" class=\"dataframe\">\n",
              "  <thead>\n",
              "    <tr style=\"text-align: right;\">\n",
              "      <th>Pré-pandemia</th>\n",
              "      <th>Frequência</th>\n",
              "      <th>Porcentagem (%)</th>\n",
              "    </tr>\n",
              "  </thead>\n",
              "  <tbody>\n",
              "    <tr>\n",
              "      <th>Adulto</th>\n",
              "      <td>87</td>\n",
              "      <td>0.956044</td>\n",
              "    </tr>\n",
              "    <tr>\n",
              "      <th>Jovem</th>\n",
              "      <td>3</td>\n",
              "      <td>0.032967</td>\n",
              "    </tr>\n",
              "    <tr>\n",
              "      <th>Idoso</th>\n",
              "      <td>1</td>\n",
              "      <td>0.010989</td>\n",
              "    </tr>\n",
              "  </tbody>\n",
              "</table>\n",
              "</div>\n",
              "    <div class=\"colab-df-buttons\">\n",
              "\n",
              "  <div class=\"colab-df-container\">\n",
              "    <button class=\"colab-df-convert\" onclick=\"convertToInteractive('df-9cc90356-41c0-4802-9c28-2ef14084b21a')\"\n",
              "            title=\"Convert this dataframe to an interactive table.\"\n",
              "            style=\"display:none;\">\n",
              "\n",
              "  <svg xmlns=\"http://www.w3.org/2000/svg\" height=\"24px\" viewBox=\"0 -960 960 960\">\n",
              "    <path d=\"M120-120v-720h720v720H120Zm60-500h600v-160H180v160Zm220 220h160v-160H400v160Zm0 220h160v-160H400v160ZM180-400h160v-160H180v160Zm440 0h160v-160H620v160ZM180-180h160v-160H180v160Zm440 0h160v-160H620v160Z\"/>\n",
              "  </svg>\n",
              "    </button>\n",
              "\n",
              "  <style>\n",
              "    .colab-df-container {\n",
              "      display:flex;\n",
              "      gap: 12px;\n",
              "    }\n",
              "\n",
              "    .colab-df-convert {\n",
              "      background-color: #E8F0FE;\n",
              "      border: none;\n",
              "      border-radius: 50%;\n",
              "      cursor: pointer;\n",
              "      display: none;\n",
              "      fill: #1967D2;\n",
              "      height: 32px;\n",
              "      padding: 0 0 0 0;\n",
              "      width: 32px;\n",
              "    }\n",
              "\n",
              "    .colab-df-convert:hover {\n",
              "      background-color: #E2EBFA;\n",
              "      box-shadow: 0px 1px 2px rgba(60, 64, 67, 0.3), 0px 1px 3px 1px rgba(60, 64, 67, 0.15);\n",
              "      fill: #174EA6;\n",
              "    }\n",
              "\n",
              "    .colab-df-buttons div {\n",
              "      margin-bottom: 4px;\n",
              "    }\n",
              "\n",
              "    [theme=dark] .colab-df-convert {\n",
              "      background-color: #3B4455;\n",
              "      fill: #D2E3FC;\n",
              "    }\n",
              "\n",
              "    [theme=dark] .colab-df-convert:hover {\n",
              "      background-color: #434B5C;\n",
              "      box-shadow: 0px 1px 3px 1px rgba(0, 0, 0, 0.15);\n",
              "      filter: drop-shadow(0px 1px 2px rgba(0, 0, 0, 0.3));\n",
              "      fill: #FFFFFF;\n",
              "    }\n",
              "  </style>\n",
              "\n",
              "    <script>\n",
              "      const buttonEl =\n",
              "        document.querySelector('#df-9cc90356-41c0-4802-9c28-2ef14084b21a button.colab-df-convert');\n",
              "      buttonEl.style.display =\n",
              "        google.colab.kernel.accessAllowed ? 'block' : 'none';\n",
              "\n",
              "      async function convertToInteractive(key) {\n",
              "        const element = document.querySelector('#df-9cc90356-41c0-4802-9c28-2ef14084b21a');\n",
              "        const dataTable =\n",
              "          await google.colab.kernel.invokeFunction('convertToInteractive',\n",
              "                                                    [key], {});\n",
              "        if (!dataTable) return;\n",
              "\n",
              "        const docLinkHtml = 'Like what you see? Visit the ' +\n",
              "          '<a target=\"_blank\" href=https://colab.research.google.com/notebooks/data_table.ipynb>data table notebook</a>'\n",
              "          + ' to learn more about interactive tables.';\n",
              "        element.innerHTML = '';\n",
              "        dataTable['output_type'] = 'display_data';\n",
              "        await google.colab.output.renderOutput(dataTable, element);\n",
              "        const docLink = document.createElement('div');\n",
              "        docLink.innerHTML = docLinkHtml;\n",
              "        element.appendChild(docLink);\n",
              "      }\n",
              "    </script>\n",
              "  </div>\n",
              "\n",
              "\n",
              "<div id=\"df-604db902-31f3-4720-8311-fd2ccc3b724d\">\n",
              "  <button class=\"colab-df-quickchart\" onclick=\"quickchart('df-604db902-31f3-4720-8311-fd2ccc3b724d')\"\n",
              "            title=\"Suggest charts\"\n",
              "            style=\"display:none;\">\n",
              "\n",
              "<svg xmlns=\"http://www.w3.org/2000/svg\" height=\"24px\"viewBox=\"0 0 24 24\"\n",
              "     width=\"24px\">\n",
              "    <g>\n",
              "        <path d=\"M19 3H5c-1.1 0-2 .9-2 2v14c0 1.1.9 2 2 2h14c1.1 0 2-.9 2-2V5c0-1.1-.9-2-2-2zM9 17H7v-7h2v7zm4 0h-2V7h2v10zm4 0h-2v-4h2v4z\"/>\n",
              "    </g>\n",
              "</svg>\n",
              "  </button>\n",
              "\n",
              "<style>\n",
              "  .colab-df-quickchart {\n",
              "      --bg-color: #E8F0FE;\n",
              "      --fill-color: #1967D2;\n",
              "      --hover-bg-color: #E2EBFA;\n",
              "      --hover-fill-color: #174EA6;\n",
              "      --disabled-fill-color: #AAA;\n",
              "      --disabled-bg-color: #DDD;\n",
              "  }\n",
              "\n",
              "  [theme=dark] .colab-df-quickchart {\n",
              "      --bg-color: #3B4455;\n",
              "      --fill-color: #D2E3FC;\n",
              "      --hover-bg-color: #434B5C;\n",
              "      --hover-fill-color: #FFFFFF;\n",
              "      --disabled-bg-color: #3B4455;\n",
              "      --disabled-fill-color: #666;\n",
              "  }\n",
              "\n",
              "  .colab-df-quickchart {\n",
              "    background-color: var(--bg-color);\n",
              "    border: none;\n",
              "    border-radius: 50%;\n",
              "    cursor: pointer;\n",
              "    display: none;\n",
              "    fill: var(--fill-color);\n",
              "    height: 32px;\n",
              "    padding: 0;\n",
              "    width: 32px;\n",
              "  }\n",
              "\n",
              "  .colab-df-quickchart:hover {\n",
              "    background-color: var(--hover-bg-color);\n",
              "    box-shadow: 0 1px 2px rgba(60, 64, 67, 0.3), 0 1px 3px 1px rgba(60, 64, 67, 0.15);\n",
              "    fill: var(--button-hover-fill-color);\n",
              "  }\n",
              "\n",
              "  .colab-df-quickchart-complete:disabled,\n",
              "  .colab-df-quickchart-complete:disabled:hover {\n",
              "    background-color: var(--disabled-bg-color);\n",
              "    fill: var(--disabled-fill-color);\n",
              "    box-shadow: none;\n",
              "  }\n",
              "\n",
              "  .colab-df-spinner {\n",
              "    border: 2px solid var(--fill-color);\n",
              "    border-color: transparent;\n",
              "    border-bottom-color: var(--fill-color);\n",
              "    animation:\n",
              "      spin 1s steps(1) infinite;\n",
              "  }\n",
              "\n",
              "  @keyframes spin {\n",
              "    0% {\n",
              "      border-color: transparent;\n",
              "      border-bottom-color: var(--fill-color);\n",
              "      border-left-color: var(--fill-color);\n",
              "    }\n",
              "    20% {\n",
              "      border-color: transparent;\n",
              "      border-left-color: var(--fill-color);\n",
              "      border-top-color: var(--fill-color);\n",
              "    }\n",
              "    30% {\n",
              "      border-color: transparent;\n",
              "      border-left-color: var(--fill-color);\n",
              "      border-top-color: var(--fill-color);\n",
              "      border-right-color: var(--fill-color);\n",
              "    }\n",
              "    40% {\n",
              "      border-color: transparent;\n",
              "      border-right-color: var(--fill-color);\n",
              "      border-top-color: var(--fill-color);\n",
              "    }\n",
              "    60% {\n",
              "      border-color: transparent;\n",
              "      border-right-color: var(--fill-color);\n",
              "    }\n",
              "    80% {\n",
              "      border-color: transparent;\n",
              "      border-right-color: var(--fill-color);\n",
              "      border-bottom-color: var(--fill-color);\n",
              "    }\n",
              "    90% {\n",
              "      border-color: transparent;\n",
              "      border-bottom-color: var(--fill-color);\n",
              "    }\n",
              "  }\n",
              "</style>\n",
              "\n",
              "  <script>\n",
              "    async function quickchart(key) {\n",
              "      const quickchartButtonEl =\n",
              "        document.querySelector('#' + key + ' button');\n",
              "      quickchartButtonEl.disabled = true;  // To prevent multiple clicks.\n",
              "      quickchartButtonEl.classList.add('colab-df-spinner');\n",
              "      try {\n",
              "        const charts = await google.colab.kernel.invokeFunction(\n",
              "            'suggestCharts', [key], {});\n",
              "      } catch (error) {\n",
              "        console.error('Error during call to suggestCharts:', error);\n",
              "      }\n",
              "      quickchartButtonEl.classList.remove('colab-df-spinner');\n",
              "      quickchartButtonEl.classList.add('colab-df-quickchart-complete');\n",
              "    }\n",
              "    (() => {\n",
              "      let quickchartButtonEl =\n",
              "        document.querySelector('#df-604db902-31f3-4720-8311-fd2ccc3b724d button');\n",
              "      quickchartButtonEl.style.display =\n",
              "        google.colab.kernel.accessAllowed ? 'block' : 'none';\n",
              "    })();\n",
              "  </script>\n",
              "</div>\n",
              "    </div>\n",
              "  </div>\n"
            ]
          },
          "metadata": {},
          "execution_count": 9
        }
      ]
    },
    {
      "cell_type": "code",
      "source": [
        "#analisando variável Idade Pós-pandemia\n",
        "frequencia_idade_pos = pd.value_counts( #calculando a distribuição da frequencia das idades pre-pandemia\n",
        "    pd.cut(x = dados_pos_pandemia.idade,\n",
        "           bins = classes_idade,\n",
        "           labels = labels_idade,\n",
        "           include_lowest = True)\n",
        ")\n",
        "percentual_idade_pos = pd.value_counts( #calculando quanto isso representa em porcentual\n",
        "    pd.cut(x = dados_pos_pandemia.idade,\n",
        "           bins = classes_idade,\n",
        "           labels = labels_idade,\n",
        "           include_lowest = True),\n",
        "    normalize = True\n",
        ")\n",
        "dist_freq_idade_pos = pd.DataFrame( #mostrando os resultados em forma de tabela\n",
        "    {'Frequência': frequencia_idade_pos,'Porcentagem (%)': percentual_idade_pos}\n",
        ")\n",
        "dist_freq_idade_pos.rename_axis('Pós-pandemia', axis= 'columns', inplace = True)\n",
        "dist_freq_idade_pos"
      ],
      "metadata": {
        "colab": {
          "base_uri": "https://localhost:8080/",
          "height": 142
        },
        "id": "jN693ubx2YHe",
        "outputId": "fc043872-ae14-4da5-fa6d-ddf5227c4dc9"
      },
      "execution_count": null,
      "outputs": [
        {
          "output_type": "execute_result",
          "data": {
            "text/plain": [
              "Pós-pandemia  Frequência  Porcentagem (%)\n",
              "Adulto                84         0.954545\n",
              "Jovem                  3         0.034091\n",
              "Idoso                  1         0.011364"
            ],
            "text/html": [
              "\n",
              "  <div id=\"df-acce388b-a313-4ce0-9e4b-888f389e21f3\" class=\"colab-df-container\">\n",
              "    <div>\n",
              "<style scoped>\n",
              "    .dataframe tbody tr th:only-of-type {\n",
              "        vertical-align: middle;\n",
              "    }\n",
              "\n",
              "    .dataframe tbody tr th {\n",
              "        vertical-align: top;\n",
              "    }\n",
              "\n",
              "    .dataframe thead th {\n",
              "        text-align: right;\n",
              "    }\n",
              "</style>\n",
              "<table border=\"1\" class=\"dataframe\">\n",
              "  <thead>\n",
              "    <tr style=\"text-align: right;\">\n",
              "      <th>Pós-pandemia</th>\n",
              "      <th>Frequência</th>\n",
              "      <th>Porcentagem (%)</th>\n",
              "    </tr>\n",
              "  </thead>\n",
              "  <tbody>\n",
              "    <tr>\n",
              "      <th>Adulto</th>\n",
              "      <td>84</td>\n",
              "      <td>0.954545</td>\n",
              "    </tr>\n",
              "    <tr>\n",
              "      <th>Jovem</th>\n",
              "      <td>3</td>\n",
              "      <td>0.034091</td>\n",
              "    </tr>\n",
              "    <tr>\n",
              "      <th>Idoso</th>\n",
              "      <td>1</td>\n",
              "      <td>0.011364</td>\n",
              "    </tr>\n",
              "  </tbody>\n",
              "</table>\n",
              "</div>\n",
              "    <div class=\"colab-df-buttons\">\n",
              "\n",
              "  <div class=\"colab-df-container\">\n",
              "    <button class=\"colab-df-convert\" onclick=\"convertToInteractive('df-acce388b-a313-4ce0-9e4b-888f389e21f3')\"\n",
              "            title=\"Convert this dataframe to an interactive table.\"\n",
              "            style=\"display:none;\">\n",
              "\n",
              "  <svg xmlns=\"http://www.w3.org/2000/svg\" height=\"24px\" viewBox=\"0 -960 960 960\">\n",
              "    <path d=\"M120-120v-720h720v720H120Zm60-500h600v-160H180v160Zm220 220h160v-160H400v160Zm0 220h160v-160H400v160ZM180-400h160v-160H180v160Zm440 0h160v-160H620v160ZM180-180h160v-160H180v160Zm440 0h160v-160H620v160Z\"/>\n",
              "  </svg>\n",
              "    </button>\n",
              "\n",
              "  <style>\n",
              "    .colab-df-container {\n",
              "      display:flex;\n",
              "      gap: 12px;\n",
              "    }\n",
              "\n",
              "    .colab-df-convert {\n",
              "      background-color: #E8F0FE;\n",
              "      border: none;\n",
              "      border-radius: 50%;\n",
              "      cursor: pointer;\n",
              "      display: none;\n",
              "      fill: #1967D2;\n",
              "      height: 32px;\n",
              "      padding: 0 0 0 0;\n",
              "      width: 32px;\n",
              "    }\n",
              "\n",
              "    .colab-df-convert:hover {\n",
              "      background-color: #E2EBFA;\n",
              "      box-shadow: 0px 1px 2px rgba(60, 64, 67, 0.3), 0px 1px 3px 1px rgba(60, 64, 67, 0.15);\n",
              "      fill: #174EA6;\n",
              "    }\n",
              "\n",
              "    .colab-df-buttons div {\n",
              "      margin-bottom: 4px;\n",
              "    }\n",
              "\n",
              "    [theme=dark] .colab-df-convert {\n",
              "      background-color: #3B4455;\n",
              "      fill: #D2E3FC;\n",
              "    }\n",
              "\n",
              "    [theme=dark] .colab-df-convert:hover {\n",
              "      background-color: #434B5C;\n",
              "      box-shadow: 0px 1px 3px 1px rgba(0, 0, 0, 0.15);\n",
              "      filter: drop-shadow(0px 1px 2px rgba(0, 0, 0, 0.3));\n",
              "      fill: #FFFFFF;\n",
              "    }\n",
              "  </style>\n",
              "\n",
              "    <script>\n",
              "      const buttonEl =\n",
              "        document.querySelector('#df-acce388b-a313-4ce0-9e4b-888f389e21f3 button.colab-df-convert');\n",
              "      buttonEl.style.display =\n",
              "        google.colab.kernel.accessAllowed ? 'block' : 'none';\n",
              "\n",
              "      async function convertToInteractive(key) {\n",
              "        const element = document.querySelector('#df-acce388b-a313-4ce0-9e4b-888f389e21f3');\n",
              "        const dataTable =\n",
              "          await google.colab.kernel.invokeFunction('convertToInteractive',\n",
              "                                                    [key], {});\n",
              "        if (!dataTable) return;\n",
              "\n",
              "        const docLinkHtml = 'Like what you see? Visit the ' +\n",
              "          '<a target=\"_blank\" href=https://colab.research.google.com/notebooks/data_table.ipynb>data table notebook</a>'\n",
              "          + ' to learn more about interactive tables.';\n",
              "        element.innerHTML = '';\n",
              "        dataTable['output_type'] = 'display_data';\n",
              "        await google.colab.output.renderOutput(dataTable, element);\n",
              "        const docLink = document.createElement('div');\n",
              "        docLink.innerHTML = docLinkHtml;\n",
              "        element.appendChild(docLink);\n",
              "      }\n",
              "    </script>\n",
              "  </div>\n",
              "\n",
              "\n",
              "<div id=\"df-bef8c872-df10-4a28-80c0-22d23f9f686d\">\n",
              "  <button class=\"colab-df-quickchart\" onclick=\"quickchart('df-bef8c872-df10-4a28-80c0-22d23f9f686d')\"\n",
              "            title=\"Suggest charts\"\n",
              "            style=\"display:none;\">\n",
              "\n",
              "<svg xmlns=\"http://www.w3.org/2000/svg\" height=\"24px\"viewBox=\"0 0 24 24\"\n",
              "     width=\"24px\">\n",
              "    <g>\n",
              "        <path d=\"M19 3H5c-1.1 0-2 .9-2 2v14c0 1.1.9 2 2 2h14c1.1 0 2-.9 2-2V5c0-1.1-.9-2-2-2zM9 17H7v-7h2v7zm4 0h-2V7h2v10zm4 0h-2v-4h2v4z\"/>\n",
              "    </g>\n",
              "</svg>\n",
              "  </button>\n",
              "\n",
              "<style>\n",
              "  .colab-df-quickchart {\n",
              "      --bg-color: #E8F0FE;\n",
              "      --fill-color: #1967D2;\n",
              "      --hover-bg-color: #E2EBFA;\n",
              "      --hover-fill-color: #174EA6;\n",
              "      --disabled-fill-color: #AAA;\n",
              "      --disabled-bg-color: #DDD;\n",
              "  }\n",
              "\n",
              "  [theme=dark] .colab-df-quickchart {\n",
              "      --bg-color: #3B4455;\n",
              "      --fill-color: #D2E3FC;\n",
              "      --hover-bg-color: #434B5C;\n",
              "      --hover-fill-color: #FFFFFF;\n",
              "      --disabled-bg-color: #3B4455;\n",
              "      --disabled-fill-color: #666;\n",
              "  }\n",
              "\n",
              "  .colab-df-quickchart {\n",
              "    background-color: var(--bg-color);\n",
              "    border: none;\n",
              "    border-radius: 50%;\n",
              "    cursor: pointer;\n",
              "    display: none;\n",
              "    fill: var(--fill-color);\n",
              "    height: 32px;\n",
              "    padding: 0;\n",
              "    width: 32px;\n",
              "  }\n",
              "\n",
              "  .colab-df-quickchart:hover {\n",
              "    background-color: var(--hover-bg-color);\n",
              "    box-shadow: 0 1px 2px rgba(60, 64, 67, 0.3), 0 1px 3px 1px rgba(60, 64, 67, 0.15);\n",
              "    fill: var(--button-hover-fill-color);\n",
              "  }\n",
              "\n",
              "  .colab-df-quickchart-complete:disabled,\n",
              "  .colab-df-quickchart-complete:disabled:hover {\n",
              "    background-color: var(--disabled-bg-color);\n",
              "    fill: var(--disabled-fill-color);\n",
              "    box-shadow: none;\n",
              "  }\n",
              "\n",
              "  .colab-df-spinner {\n",
              "    border: 2px solid var(--fill-color);\n",
              "    border-color: transparent;\n",
              "    border-bottom-color: var(--fill-color);\n",
              "    animation:\n",
              "      spin 1s steps(1) infinite;\n",
              "  }\n",
              "\n",
              "  @keyframes spin {\n",
              "    0% {\n",
              "      border-color: transparent;\n",
              "      border-bottom-color: var(--fill-color);\n",
              "      border-left-color: var(--fill-color);\n",
              "    }\n",
              "    20% {\n",
              "      border-color: transparent;\n",
              "      border-left-color: var(--fill-color);\n",
              "      border-top-color: var(--fill-color);\n",
              "    }\n",
              "    30% {\n",
              "      border-color: transparent;\n",
              "      border-left-color: var(--fill-color);\n",
              "      border-top-color: var(--fill-color);\n",
              "      border-right-color: var(--fill-color);\n",
              "    }\n",
              "    40% {\n",
              "      border-color: transparent;\n",
              "      border-right-color: var(--fill-color);\n",
              "      border-top-color: var(--fill-color);\n",
              "    }\n",
              "    60% {\n",
              "      border-color: transparent;\n",
              "      border-right-color: var(--fill-color);\n",
              "    }\n",
              "    80% {\n",
              "      border-color: transparent;\n",
              "      border-right-color: var(--fill-color);\n",
              "      border-bottom-color: var(--fill-color);\n",
              "    }\n",
              "    90% {\n",
              "      border-color: transparent;\n",
              "      border-bottom-color: var(--fill-color);\n",
              "    }\n",
              "  }\n",
              "</style>\n",
              "\n",
              "  <script>\n",
              "    async function quickchart(key) {\n",
              "      const quickchartButtonEl =\n",
              "        document.querySelector('#' + key + ' button');\n",
              "      quickchartButtonEl.disabled = true;  // To prevent multiple clicks.\n",
              "      quickchartButtonEl.classList.add('colab-df-spinner');\n",
              "      try {\n",
              "        const charts = await google.colab.kernel.invokeFunction(\n",
              "            'suggestCharts', [key], {});\n",
              "      } catch (error) {\n",
              "        console.error('Error during call to suggestCharts:', error);\n",
              "      }\n",
              "      quickchartButtonEl.classList.remove('colab-df-spinner');\n",
              "      quickchartButtonEl.classList.add('colab-df-quickchart-complete');\n",
              "    }\n",
              "    (() => {\n",
              "      let quickchartButtonEl =\n",
              "        document.querySelector('#df-bef8c872-df10-4a28-80c0-22d23f9f686d button');\n",
              "      quickchartButtonEl.style.display =\n",
              "        google.colab.kernel.accessAllowed ? 'block' : 'none';\n",
              "    })();\n",
              "  </script>\n",
              "</div>\n",
              "    </div>\n",
              "  </div>\n"
            ]
          },
          "metadata": {},
          "execution_count": 10
        }
      ]
    },
    {
      "cell_type": "code",
      "source": [
        "#plotando histograma pré-pandemia\n",
        "plt.hist(dados_pre_pandemia['idade'], bins=15, color='blue', alpha=0.7)\n",
        "#Configurando o título do gráfico\n",
        "plt.title('Distribuição de Clientes por Idade (Pré-pandemia)')\n",
        "#Configurando o rótulo do eixo x\n",
        "plt.xlabel('Idade')\n",
        "#Configurando o rótulo do eixo y\n",
        "plt.ylabel('Quantidade de Clientes')\n"
      ],
      "metadata": {
        "colab": {
          "base_uri": "https://localhost:8080/",
          "height": 489
        },
        "id": "nIWuVwq6RmCd",
        "outputId": "0191effb-02f9-4d57-c892-945ce56c6b8b"
      },
      "execution_count": null,
      "outputs": [
        {
          "output_type": "execute_result",
          "data": {
            "text/plain": [
              "Text(0, 0.5, 'Quantidade de Clientes')"
            ]
          },
          "metadata": {},
          "execution_count": 11
        },
        {
          "output_type": "display_data",
          "data": {
            "text/plain": [
              "<Figure size 640x480 with 1 Axes>"
            ],
            "image/png": "[encoded data removed]"
          },
          "metadata": {}
        }
      ]
    },
    {
      "cell_type": "code",
      "source": [
        "#Plotando boxplot Pré-pandemia\n",
        "ax = sns.boxplot(data=dados_pre_pandemia, x='idade')"
      ],
      "metadata": {
        "colab": {
          "base_uri": "https://localhost:8080/",
          "height": 449
        },
        "id": "R9-0X9ZcVBbu",
        "outputId": "14f697ce-9c4b-4bc9-8587-e1a318f941a0"
      },
      "execution_count": null,
      "outputs": [
        {
          "output_type": "display_data",
          "data": {
            "text/plain": [
              "<Figure size 640x480 with 1 Axes>"
            ],
            "image/png": "[encoded data removed]"
          },
          "metadata": {}
        }
      ]
    },
    {
      "cell_type": "code",
      "source": [
        "#plotando histograma pós-pandemia\n",
        "plt.hist(dados_pos_pandemia['idade'], bins=15, color='blue', alpha=0.7)\n",
        "#Configurando o título do gráfico\n",
        "plt.title('Distribuição de Clientes por Idade (Pós-pandemia)')\n",
        "#Configurando o rótulo do eixo x\n",
        "plt.xlabel('Idade')\n",
        "#Configurando o rótulo do eixo y\n",
        "plt.ylabel('Quantidade de Clientes')"
      ],
      "metadata": {
        "colab": {
          "base_uri": "https://localhost:8080/",
          "height": 489
        },
        "id": "HNe22jxh44Ki",
        "outputId": "8c36db1c-220c-4840-f749-1da0dd9c646f"
      },
      "execution_count": null,
      "outputs": [
        {
          "output_type": "execute_result",
          "data": {
            "text/plain": [
              "Text(0, 0.5, 'Quantidade de Clientes')"
            ]
          },
          "metadata": {},
          "execution_count": 13
        },
        {
          "output_type": "display_data",
          "data": {
            "text/plain": [
              "<Figure size 640x480 with 1 Axes>"
            ],
            "image/png": "[encoded data removed]"
          },
          "metadata": {}
        }
      ]
    },
    {
      "cell_type": "code",
      "source": [
        "#Plotando boxplot Pós-pandemia\n",
        "ax = sns.boxplot(data=dados_pos_pandemia, x='idade')"
      ],
      "metadata": {
        "colab": {
          "base_uri": "https://localhost:8080/",
          "height": 449
        },
        "id": "coXnDFaR5pWu",
        "outputId": "87389f92-8806-49cf-d1fc-07c75e6b419c"
      },
      "execution_count": null,
      "outputs": [
        {
          "output_type": "display_data",
          "data": {
            "text/plain": [
              "<Figure size 640x480 with 1 Axes>"
            ],
            "image/png": "[encoded data removed]"
          },
          "metadata": {}
        }
      ]
    },
    {
      "cell_type": "code",
      "source": [
        "#calculando medidas centrais da Idade\n",
        "idade_media_pre = dados_pre_pandemia['idade'].mean()\n",
        "idade_media_pos = dados_pos_pandemia['idade'].mean()\n",
        "idade_mediana_pre = dados_pre_pandemia['idade'].median()\n",
        "idade_mediana_pos = dados_pos_pandemia['idade'].median()\n",
        "idade_moda_pre = dados_pre_pandemia['idade'].mode()\n",
        "idade_moda_pos = dados_pos_pandemia['idade'].mode()\n",
        "\n",
        "\n"
      ],
      "metadata": {
        "id": "FjxpR7rW8cJ9"
      },
      "execution_count": null,
      "outputs": []
    },
    {
      "cell_type": "code",
      "source": [
        "#Verificando a distribuição da variável Idade:\n",
        "print('A variável Idade pré-pandemia possui:\\nmédia =', idade_media_pre,\n",
        "      '\\nmediana =', idade_mediana_pre,\n",
        "      '\\nmoda =', idade_moda_pre)\n",
        "\n",
        "print('\\nA variável Idade pós-pandemia possui:\\nmédia =', idade_media_pos,\n",
        "      '\\nmediana =', idade_mediana_pos,\n",
        "      '\\nmoda =', idade_moda_pos)"
      ],
      "metadata": {
        "colab": {
          "base_uri": "https://localhost:8080/"
        },
        "id": "mMYmloze9p2D",
        "outputId": "743f5439-bed5-4b0e-f685-de424fe1a25f"
      },
      "execution_count": null,
      "outputs": [
        {
          "output_type": "stream",
          "name": "stdout",
          "text": [
            "A variável Idade pré-pandemia possui:\n",
            "média = 39.881188118811885 \n",
            "mediana = 37.0 \n",
            "moda = 0    26\n",
            "1    37\n",
            "Name: idade, dtype: int64\n",
            "\n",
            "A variável Idade pós-pandemia possui:\n",
            "média = 44.90196078431372 \n",
            "mediana = 46.0 \n",
            "moda = 0    56\n",
            "Name: idade, dtype: int64\n"
          ]
        }
      ]
    },
    {
      "cell_type": "markdown",
      "source": [
        "Comentários sobre a análise da variável Idade:\n",
        "\n",
        "\n",
        "*   Pré-pandemia: o histograma, boxplot e a análise das variáveis centrais permitem verificar que a variável antes da pandemia possuía uma distribuição com assimetria à direita (com moda>mediana>média)\n",
        "*    Pós-pandemia: o histograma, boxplot e a análise das variáveis centrais permitem verificar que a variável depois da pandemia possui uma distribuição próxima da simétrica (com média, mediana e moda aproximadamente iguais)\n",
        "*   Apesar da classe predominante ser \"Adulto\" no pré e no pós pandemia, houve um aumento na idade média no pós pandemia. Se antes a média de idade do público era por volta dos 39 anos, após a pandemia passou a ser 44 anos.\n",
        "\n",
        "\n"
      ],
      "metadata": {
        "id": "63TF76nuFQFq"
      }
    },
    {
      "cell_type": "markdown",
      "source": [
        "*   **Renda**\n",
        "\n",
        "Utilizar a seguinte classificação:\n",
        "\n",
        "> <b>A</b> ► Acima de 20 SM\n",
        "\n",
        "> <b>B</b> ► De 10 a 20 SM\n",
        "\n",
        "> <b>C</b> ► De 4 a 10 SM\n",
        "\n",
        "> <b>D</b> ► De 2 a 4 SM\n",
        "\n",
        "> <b>E</b> ► Até 2 SM\n",
        "\n",
        "onde <b>SM</b> é o valor do salário mínimo na época. Em nosso caso <b>R$ 788,00</b> (2015):\n",
        "\n",
        "> <b>A</b> ► Acima de 15.760\n",
        "\n",
        "> <b>B</b> ► De 7.880 a 15.760\n",
        "\n",
        "> <b>C</b> ► De 3.152 a 7.880\n",
        "\n",
        "> <b>D</b> ► De 1.576 a 3.152\n",
        "\n",
        "> <b>E</b> ► Até 1.576"
      ],
      "metadata": {
        "id": "N-eLK9SKKjfX"
      }
    },
    {
      "cell_type": "code",
      "source": [
        "#distribuindo as classes de renda\n",
        "classes_renda = [0, 1576, 3152, 7880, 15760, 200000]\n",
        "labels_renda = ['E','D','C','B','A']"
      ],
      "metadata": {
        "id": "7GVMLP5qKooV"
      },
      "execution_count": null,
      "outputs": []
    },
    {
      "cell_type": "code",
      "source": [
        "#analisando variável Renda Pré-pandemia\n",
        "frequencia_renda_pre = pd.value_counts( #calculando a distribuição da frequencia das idades\n",
        "    pd.cut(x = dados_pre_pandemia.renda,\n",
        "           bins = classes_renda,\n",
        "           labels = labels_renda,\n",
        "           include_lowest = True)\n",
        ")\n",
        "percentual_renda_pre = pd.value_counts( #calculando quanto isso representa em porcentual\n",
        "    pd.cut(x = dados_pre_pandemia.renda,\n",
        "           bins = classes_renda,\n",
        "           labels = labels_renda,\n",
        "           include_lowest = True),\n",
        "    normalize = True\n",
        ")\n",
        "dist_freq_renda_pre = pd.DataFrame( # mostrando os resultados em forma de tabela\n",
        "    {'Frequência': frequencia_renda_pre,'Porcentagem (%)': percentual_renda_pre}\n",
        ")\n",
        "dist_freq_renda_pre.rename_axis('Pré-pandemia', axis= 'columns', inplace = True)\n",
        "dist_freq_renda_pre.sort_index(ascending = False)"
      ],
      "metadata": {
        "colab": {
          "base_uri": "https://localhost:8080/",
          "height": 204
        },
        "id": "4y52HOxxfRSr",
        "outputId": "5fa4d788-62c1-4b39-8951-062c43541ea3"
      },
      "execution_count": null,
      "outputs": [
        {
          "output_type": "execute_result",
          "data": {
            "text/plain": [
              "Pré-pandemia  Frequência  Porcentagem (%)\n",
              "A                     16         0.158416\n",
              "B                     33         0.326733\n",
              "C                     36         0.356436\n",
              "D                      9         0.089109\n",
              "E                      7         0.069307"
            ],
            "text/html": [
              "\n",
              "  <div id=\"df-b287ce84-5c32-4fc1-be94-9239c0146cce\" class=\"colab-df-container\">\n",
              "    <div>\n",
              "<style scoped>\n",
              "    .dataframe tbody tr th:only-of-type {\n",
              "        vertical-align: middle;\n",
              "    }\n",
              "\n",
              "    .dataframe tbody tr th {\n",
              "        vertical-align: top;\n",
              "    }\n",
              "\n",
              "    .dataframe thead th {\n",
              "        text-align: right;\n",
              "    }\n",
              "</style>\n",
              "<table border=\"1\" class=\"dataframe\">\n",
              "  <thead>\n",
              "    <tr style=\"text-align: right;\">\n",
              "      <th>Pré-pandemia</th>\n",
              "      <th>Frequência</th>\n",
              "      <th>Porcentagem (%)</th>\n",
              "    </tr>\n",
              "  </thead>\n",
              "  <tbody>\n",
              "    <tr>\n",
              "      <th>A</th>\n",
              "      <td>16</td>\n",
              "      <td>0.158416</td>\n",
              "    </tr>\n",
              "    <tr>\n",
              "      <th>B</th>\n",
              "      <td>33</td>\n",
              "      <td>0.326733</td>\n",
              "    </tr>\n",
              "    <tr>\n",
              "      <th>C</th>\n",
              "      <td>36</td>\n",
              "      <td>0.356436</td>\n",
              "    </tr>\n",
              "    <tr>\n",
              "      <th>D</th>\n",
              "      <td>9</td>\n",
              "      <td>0.089109</td>\n",
              "    </tr>\n",
              "    <tr>\n",
              "      <th>E</th>\n",
              "      <td>7</td>\n",
              "      <td>0.069307</td>\n",
              "    </tr>\n",
              "  </tbody>\n",
              "</table>\n",
              "</div>\n",
              "    <div class=\"colab-df-buttons\">\n",
              "\n",
              "  <div class=\"colab-df-container\">\n",
              "    <button class=\"colab-df-convert\" onclick=\"convertToInteractive('df-b287ce84-5c32-4fc1-be94-9239c0146cce')\"\n",
              "            title=\"Convert this dataframe to an interactive table.\"\n",
              "            style=\"display:none;\">\n",
              "\n",
              "  <svg xmlns=\"http://www.w3.org/2000/svg\" height=\"24px\" viewBox=\"0 -960 960 960\">\n",
              "    <path d=\"M120-120v-720h720v720H120Zm60-500h600v-160H180v160Zm220 220h160v-160H400v160Zm0 220h160v-160H400v160ZM180-400h160v-160H180v160Zm440 0h160v-160H620v160ZM180-180h160v-160H180v160Zm440 0h160v-160H620v160Z\"/>\n",
              "  </svg>\n",
              "    </button>\n",
              "\n",
              "  <style>\n",
              "    .colab-df-container {\n",
              "      display:flex;\n",
              "      gap: 12px;\n",
              "    }\n",
              "\n",
              "    .colab-df-convert {\n",
              "      background-color: #E8F0FE;\n",
              "      border: none;\n",
              "      border-radius: 50%;\n",
              "      cursor: pointer;\n",
              "      display: none;\n",
              "      fill: #1967D2;\n",
              "      height: 32px;\n",
              "      padding: 0 0 0 0;\n",
              "      width: 32px;\n",
              "    }\n",
              "\n",
              "    .colab-df-convert:hover {\n",
              "      background-color: #E2EBFA;\n",
              "      box-shadow: 0px 1px 2px rgba(60, 64, 67, 0.3), 0px 1px 3px 1px rgba(60, 64, 67, 0.15);\n",
              "      fill: #174EA6;\n",
              "    }\n",
              "\n",
              "    .colab-df-buttons div {\n",
              "      margin-bottom: 4px;\n",
              "    }\n",
              "\n",
              "    [theme=dark] .colab-df-convert {\n",
              "      background-color: #3B4455;\n",
              "      fill: #D2E3FC;\n",
              "    }\n",
              "\n",
              "    [theme=dark] .colab-df-convert:hover {\n",
              "      background-color: #434B5C;\n",
              "      box-shadow: 0px 1px 3px 1px rgba(0, 0, 0, 0.15);\n",
              "      filter: drop-shadow(0px 1px 2px rgba(0, 0, 0, 0.3));\n",
              "      fill: #FFFFFF;\n",
              "    }\n",
              "  </style>\n",
              "\n",
              "    <script>\n",
              "      const buttonEl =\n",
              "        document.querySelector('#df-b287ce84-5c32-4fc1-be94-9239c0146cce button.colab-df-convert');\n",
              "      buttonEl.style.display =\n",
              "        google.colab.kernel.accessAllowed ? 'block' : 'none';\n",
              "\n",
              "      async function convertToInteractive(key) {\n",
              "        const element = document.querySelector('#df-b287ce84-5c32-4fc1-be94-9239c0146cce');\n",
              "        const dataTable =\n",
              "          await google.colab.kernel.invokeFunction('convertToInteractive',\n",
              "                                                    [key], {});\n",
              "        if (!dataTable) return;\n",
              "\n",
              "        const docLinkHtml = 'Like what you see? Visit the ' +\n",
              "          '<a target=\"_blank\" href=https://colab.research.google.com/notebooks/data_table.ipynb>data table notebook</a>'\n",
              "          + ' to learn more about interactive tables.';\n",
              "        element.innerHTML = '';\n",
              "        dataTable['output_type'] = 'display_data';\n",
              "        await google.colab.output.renderOutput(dataTable, element);\n",
              "        const docLink = document.createElement('div');\n",
              "        docLink.innerHTML = docLinkHtml;\n",
              "        element.appendChild(docLink);\n",
              "      }\n",
              "    </script>\n",
              "  </div>\n",
              "\n",
              "\n",
              "<div id=\"df-52d9f0b3-a00e-406c-aa89-16398068b95d\">\n",
              "  <button class=\"colab-df-quickchart\" onclick=\"quickchart('df-52d9f0b3-a00e-406c-aa89-16398068b95d')\"\n",
              "            title=\"Suggest charts\"\n",
              "            style=\"display:none;\">\n",
              "\n",
              "<svg xmlns=\"http://www.w3.org/2000/svg\" height=\"24px\"viewBox=\"0 0 24 24\"\n",
              "     width=\"24px\">\n",
              "    <g>\n",
              "        <path d=\"M19 3H5c-1.1 0-2 .9-2 2v14c0 1.1.9 2 2 2h14c1.1 0 2-.9 2-2V5c0-1.1-.9-2-2-2zM9 17H7v-7h2v7zm4 0h-2V7h2v10zm4 0h-2v-4h2v4z\"/>\n",
              "    </g>\n",
              "</svg>\n",
              "  </button>\n",
              "\n",
              "<style>\n",
              "  .colab-df-quickchart {\n",
              "      --bg-color: #E8F0FE;\n",
              "      --fill-color: #1967D2;\n",
              "      --hover-bg-color: #E2EBFA;\n",
              "      --hover-fill-color: #174EA6;\n",
              "      --disabled-fill-color: #AAA;\n",
              "      --disabled-bg-color: #DDD;\n",
              "  }\n",
              "\n",
              "  [theme=dark] .colab-df-quickchart {\n",
              "      --bg-color: #3B4455;\n",
              "      --fill-color: #D2E3FC;\n",
              "      --hover-bg-color: #434B5C;\n",
              "      --hover-fill-color: #FFFFFF;\n",
              "      --disabled-bg-color: #3B4455;\n",
              "      --disabled-fill-color: #666;\n",
              "  }\n",
              "\n",
              "  .colab-df-quickchart {\n",
              "    background-color: var(--bg-color);\n",
              "    border: none;\n",
              "    border-radius: 50%;\n",
              "    cursor: pointer;\n",
              "    display: none;\n",
              "    fill: var(--fill-color);\n",
              "    height: 32px;\n",
              "    padding: 0;\n",
              "    width: 32px;\n",
              "  }\n",
              "\n",
              "  .colab-df-quickchart:hover {\n",
              "    background-color: var(--hover-bg-color);\n",
              "    box-shadow: 0 1px 2px rgba(60, 64, 67, 0.3), 0 1px 3px 1px rgba(60, 64, 67, 0.15);\n",
              "    fill: var(--button-hover-fill-color);\n",
              "  }\n",
              "\n",
              "  .colab-df-quickchart-complete:disabled,\n",
              "  .colab-df-quickchart-complete:disabled:hover {\n",
              "    background-color: var(--disabled-bg-color);\n",
              "    fill: var(--disabled-fill-color);\n",
              "    box-shadow: none;\n",
              "  }\n",
              "\n",
              "  .colab-df-spinner {\n",
              "    border: 2px solid var(--fill-color);\n",
              "    border-color: transparent;\n",
              "    border-bottom-color: var(--fill-color);\n",
              "    animation:\n",
              "      spin 1s steps(1) infinite;\n",
              "  }\n",
              "\n",
              "  @keyframes spin {\n",
              "    0% {\n",
              "      border-color: transparent;\n",
              "      border-bottom-color: var(--fill-color);\n",
              "      border-left-color: var(--fill-color);\n",
              "    }\n",
              "    20% {\n",
              "      border-color: transparent;\n",
              "      border-left-color: var(--fill-color);\n",
              "      border-top-color: var(--fill-color);\n",
              "    }\n",
              "    30% {\n",
              "      border-color: transparent;\n",
              "      border-left-color: var(--fill-color);\n",
              "      border-top-color: var(--fill-color);\n",
              "      border-right-color: var(--fill-color);\n",
              "    }\n",
              "    40% {\n",
              "      border-color: transparent;\n",
              "      border-right-color: var(--fill-color);\n",
              "      border-top-color: var(--fill-color);\n",
              "    }\n",
              "    60% {\n",
              "      border-color: transparent;\n",
              "      border-right-color: var(--fill-color);\n",
              "    }\n",
              "    80% {\n",
              "      border-color: transparent;\n",
              "      border-right-color: var(--fill-color);\n",
              "      border-bottom-color: var(--fill-color);\n",
              "    }\n",
              "    90% {\n",
              "      border-color: transparent;\n",
              "      border-bottom-color: var(--fill-color);\n",
              "    }\n",
              "  }\n",
              "</style>\n",
              "\n",
              "  <script>\n",
              "    async function quickchart(key) {\n",
              "      const quickchartButtonEl =\n",
              "        document.querySelector('#' + key + ' button');\n",
              "      quickchartButtonEl.disabled = true;  // To prevent multiple clicks.\n",
              "      quickchartButtonEl.classList.add('colab-df-spinner');\n",
              "      try {\n",
              "        const charts = await google.colab.kernel.invokeFunction(\n",
              "            'suggestCharts', [key], {});\n",
              "      } catch (error) {\n",
              "        console.error('Error during call to suggestCharts:', error);\n",
              "      }\n",
              "      quickchartButtonEl.classList.remove('colab-df-spinner');\n",
              "      quickchartButtonEl.classList.add('colab-df-quickchart-complete');\n",
              "    }\n",
              "    (() => {\n",
              "      let quickchartButtonEl =\n",
              "        document.querySelector('#df-52d9f0b3-a00e-406c-aa89-16398068b95d button');\n",
              "      quickchartButtonEl.style.display =\n",
              "        google.colab.kernel.accessAllowed ? 'block' : 'none';\n",
              "    })();\n",
              "  </script>\n",
              "</div>\n",
              "    </div>\n",
              "  </div>\n"
            ]
          },
          "metadata": {},
          "execution_count": 18
        }
      ]
    },
    {
      "cell_type": "code",
      "source": [
        "#analisando variável Renda Pós-pandemia\n",
        "frequencia_renda_pos = pd.value_counts( #calculando a distribuição da frequencia das idades\n",
        "    pd.cut(x = dados_pos_pandemia.renda,\n",
        "           bins = classes_renda,\n",
        "           labels = labels_renda,\n",
        "           include_lowest = True)\n",
        ")\n",
        "percentual_renda_pos = pd.value_counts( #calculando quanto isso representa em porcentual\n",
        "    pd.cut(x = dados_pos_pandemia.renda,\n",
        "           bins = classes_renda,\n",
        "           labels = labels_renda,\n",
        "           include_lowest = True),\n",
        "    normalize = True\n",
        ")\n",
        "dist_freq_renda_pos = pd.DataFrame( # mostrando os resultados em forma de tabela\n",
        "    {'Frequência': frequencia_renda_pos,'Porcentagem (%)': percentual_renda_pos}\n",
        ")\n",
        "dist_freq_renda_pos.rename_axis('Pós-pandemia', axis= 'columns', inplace = True)\n",
        "dist_freq_renda_pos.sort_index(ascending = False)"
      ],
      "metadata": {
        "colab": {
          "base_uri": "https://localhost:8080/",
          "height": 204
        },
        "id": "hZu_4YY-IWaZ",
        "outputId": "41f0e67f-cdf8-4339-c5bf-afc1c07adaba"
      },
      "execution_count": null,
      "outputs": [
        {
          "output_type": "execute_result",
          "data": {
            "text/plain": [
              "Pós-pandemia  Frequência  Porcentagem (%)\n",
              "A                     33         0.323529\n",
              "B                     58         0.568627\n",
              "C                     10         0.098039\n",
              "D                      1         0.009804\n",
              "E                      0         0.000000"
            ],
            "text/html": [
              "\n",
              "  <div id=\"df-d68988db-d2ac-41bf-a3c8-e014b4dca814\" class=\"colab-df-container\">\n",
              "    <div>\n",
              "<style scoped>\n",
              "    .dataframe tbody tr th:only-of-type {\n",
              "        vertical-align: middle;\n",
              "    }\n",
              "\n",
              "    .dataframe tbody tr th {\n",
              "        vertical-align: top;\n",
              "    }\n",
              "\n",
              "    .dataframe thead th {\n",
              "        text-align: right;\n",
              "    }\n",
              "</style>\n",
              "<table border=\"1\" class=\"dataframe\">\n",
              "  <thead>\n",
              "    <tr style=\"text-align: right;\">\n",
              "      <th>Pós-pandemia</th>\n",
              "      <th>Frequência</th>\n",
              "      <th>Porcentagem (%)</th>\n",
              "    </tr>\n",
              "  </thead>\n",
              "  <tbody>\n",
              "    <tr>\n",
              "      <th>A</th>\n",
              "      <td>33</td>\n",
              "      <td>0.323529</td>\n",
              "    </tr>\n",
              "    <tr>\n",
              "      <th>B</th>\n",
              "      <td>58</td>\n",
              "      <td>0.568627</td>\n",
              "    </tr>\n",
              "    <tr>\n",
              "      <th>C</th>\n",
              "      <td>10</td>\n",
              "      <td>0.098039</td>\n",
              "    </tr>\n",
              "    <tr>\n",
              "      <th>D</th>\n",
              "      <td>1</td>\n",
              "      <td>0.009804</td>\n",
              "    </tr>\n",
              "    <tr>\n",
              "      <th>E</th>\n",
              "      <td>0</td>\n",
              "      <td>0.000000</td>\n",
              "    </tr>\n",
              "  </tbody>\n",
              "</table>\n",
              "</div>\n",
              "    <div class=\"colab-df-buttons\">\n",
              "\n",
              "  <div class=\"colab-df-container\">\n",
              "    <button class=\"colab-df-convert\" onclick=\"convertToInteractive('df-d68988db-d2ac-41bf-a3c8-e014b4dca814')\"\n",
              "            title=\"Convert this dataframe to an interactive table.\"\n",
              "            style=\"display:none;\">\n",
              "\n",
              "  <svg xmlns=\"http://www.w3.org/2000/svg\" height=\"24px\" viewBox=\"0 -960 960 960\">\n",
              "    <path d=\"M120-120v-720h720v720H120Zm60-500h600v-160H180v160Zm220 220h160v-160H400v160Zm0 220h160v-160H400v160ZM180-400h160v-160H180v160Zm440 0h160v-160H620v160ZM180-180h160v-160H180v160Zm440 0h160v-160H620v160Z\"/>\n",
              "  </svg>\n",
              "    </button>\n",
              "\n",
              "  <style>\n",
              "    .colab-df-container {\n",
              "      display:flex;\n",
              "      gap: 12px;\n",
              "    }\n",
              "\n",
              "    .colab-df-convert {\n",
              "      background-color: #E8F0FE;\n",
              "      border: none;\n",
              "      border-radius: 50%;\n",
              "      cursor: pointer;\n",
              "      display: none;\n",
              "      fill: #1967D2;\n",
              "      height: 32px;\n",
              "      padding: 0 0 0 0;\n",
              "      width: 32px;\n",
              "    }\n",
              "\n",
              "    .colab-df-convert:hover {\n",
              "      background-color: #E2EBFA;\n",
              "      box-shadow: 0px 1px 2px rgba(60, 64, 67, 0.3), 0px 1px 3px 1px rgba(60, 64, 67, 0.15);\n",
              "      fill: #174EA6;\n",
              "    }\n",
              "\n",
              "    .colab-df-buttons div {\n",
              "      margin-bottom: 4px;\n",
              "    }\n",
              "\n",
              "    [theme=dark] .colab-df-convert {\n",
              "      background-color: #3B4455;\n",
              "      fill: #D2E3FC;\n",
              "    }\n",
              "\n",
              "    [theme=dark] .colab-df-convert:hover {\n",
              "      background-color: #434B5C;\n",
              "      box-shadow: 0px 1px 3px 1px rgba(0, 0, 0, 0.15);\n",
              "      filter: drop-shadow(0px 1px 2px rgba(0, 0, 0, 0.3));\n",
              "      fill: #FFFFFF;\n",
              "    }\n",
              "  </style>\n",
              "\n",
              "    <script>\n",
              "      const buttonEl =\n",
              "        document.querySelector('#df-d68988db-d2ac-41bf-a3c8-e014b4dca814 button.colab-df-convert');\n",
              "      buttonEl.style.display =\n",
              "        google.colab.kernel.accessAllowed ? 'block' : 'none';\n",
              "\n",
              "      async function convertToInteractive(key) {\n",
              "        const element = document.querySelector('#df-d68988db-d2ac-41bf-a3c8-e014b4dca814');\n",
              "        const dataTable =\n",
              "          await google.colab.kernel.invokeFunction('convertToInteractive',\n",
              "                                                    [key], {});\n",
              "        if (!dataTable) return;\n",
              "\n",
              "        const docLinkHtml = 'Like what you see? Visit the ' +\n",
              "          '<a target=\"_blank\" href=https://colab.research.google.com/notebooks/data_table.ipynb>data table notebook</a>'\n",
              "          + ' to learn more about interactive tables.';\n",
              "        element.innerHTML = '';\n",
              "        dataTable['output_type'] = 'display_data';\n",
              "        await google.colab.output.renderOutput(dataTable, element);\n",
              "        const docLink = document.createElement('div');\n",
              "        docLink.innerHTML = docLinkHtml;\n",
              "        element.appendChild(docLink);\n",
              "      }\n",
              "    </script>\n",
              "  </div>\n",
              "\n",
              "\n",
              "<div id=\"df-43bed417-37e9-4e66-8526-c088ec535bed\">\n",
              "  <button class=\"colab-df-quickchart\" onclick=\"quickchart('df-43bed417-37e9-4e66-8526-c088ec535bed')\"\n",
              "            title=\"Suggest charts\"\n",
              "            style=\"display:none;\">\n",
              "\n",
              "<svg xmlns=\"http://www.w3.org/2000/svg\" height=\"24px\"viewBox=\"0 0 24 24\"\n",
              "     width=\"24px\">\n",
              "    <g>\n",
              "        <path d=\"M19 3H5c-1.1 0-2 .9-2 2v14c0 1.1.9 2 2 2h14c1.1 0 2-.9 2-2V5c0-1.1-.9-2-2-2zM9 17H7v-7h2v7zm4 0h-2V7h2v10zm4 0h-2v-4h2v4z\"/>\n",
              "    </g>\n",
              "</svg>\n",
              "  </button>\n",
              "\n",
              "<style>\n",
              "  .colab-df-quickchart {\n",
              "      --bg-color: #E8F0FE;\n",
              "      --fill-color: #1967D2;\n",
              "      --hover-bg-color: #E2EBFA;\n",
              "      --hover-fill-color: #174EA6;\n",
              "      --disabled-fill-color: #AAA;\n",
              "      --disabled-bg-color: #DDD;\n",
              "  }\n",
              "\n",
              "  [theme=dark] .colab-df-quickchart {\n",
              "      --bg-color: #3B4455;\n",
              "      --fill-color: #D2E3FC;\n",
              "      --hover-bg-color: #434B5C;\n",
              "      --hover-fill-color: #FFFFFF;\n",
              "      --disabled-bg-color: #3B4455;\n",
              "      --disabled-fill-color: #666;\n",
              "  }\n",
              "\n",
              "  .colab-df-quickchart {\n",
              "    background-color: var(--bg-color);\n",
              "    border: none;\n",
              "    border-radius: 50%;\n",
              "    cursor: pointer;\n",
              "    display: none;\n",
              "    fill: var(--fill-color);\n",
              "    height: 32px;\n",
              "    padding: 0;\n",
              "    width: 32px;\n",
              "  }\n",
              "\n",
              "  .colab-df-quickchart:hover {\n",
              "    background-color: var(--hover-bg-color);\n",
              "    box-shadow: 0 1px 2px rgba(60, 64, 67, 0.3), 0 1px 3px 1px rgba(60, 64, 67, 0.15);\n",
              "    fill: var(--button-hover-fill-color);\n",
              "  }\n",
              "\n",
              "  .colab-df-quickchart-complete:disabled,\n",
              "  .colab-df-quickchart-complete:disabled:hover {\n",
              "    background-color: var(--disabled-bg-color);\n",
              "    fill: var(--disabled-fill-color);\n",
              "    box-shadow: none;\n",
              "  }\n",
              "\n",
              "  .colab-df-spinner {\n",
              "    border: 2px solid var(--fill-color);\n",
              "    border-color: transparent;\n",
              "    border-bottom-color: var(--fill-color);\n",
              "    animation:\n",
              "      spin 1s steps(1) infinite;\n",
              "  }\n",
              "\n",
              "  @keyframes spin {\n",
              "    0% {\n",
              "      border-color: transparent;\n",
              "      border-bottom-color: var(--fill-color);\n",
              "      border-left-color: var(--fill-color);\n",
              "    }\n",
              "    20% {\n",
              "      border-color: transparent;\n",
              "      border-left-color: var(--fill-color);\n",
              "      border-top-color: var(--fill-color);\n",
              "    }\n",
              "    30% {\n",
              "      border-color: transparent;\n",
              "      border-left-color: var(--fill-color);\n",
              "      border-top-color: var(--fill-color);\n",
              "      border-right-color: var(--fill-color);\n",
              "    }\n",
              "    40% {\n",
              "      border-color: transparent;\n",
              "      border-right-color: var(--fill-color);\n",
              "      border-top-color: var(--fill-color);\n",
              "    }\n",
              "    60% {\n",
              "      border-color: transparent;\n",
              "      border-right-color: var(--fill-color);\n",
              "    }\n",
              "    80% {\n",
              "      border-color: transparent;\n",
              "      border-right-color: var(--fill-color);\n",
              "      border-bottom-color: var(--fill-color);\n",
              "    }\n",
              "    90% {\n",
              "      border-color: transparent;\n",
              "      border-bottom-color: var(--fill-color);\n",
              "    }\n",
              "  }\n",
              "</style>\n",
              "\n",
              "  <script>\n",
              "    async function quickchart(key) {\n",
              "      const quickchartButtonEl =\n",
              "        document.querySelector('#' + key + ' button');\n",
              "      quickchartButtonEl.disabled = true;  // To prevent multiple clicks.\n",
              "      quickchartButtonEl.classList.add('colab-df-spinner');\n",
              "      try {\n",
              "        const charts = await google.colab.kernel.invokeFunction(\n",
              "            'suggestCharts', [key], {});\n",
              "      } catch (error) {\n",
              "        console.error('Error during call to suggestCharts:', error);\n",
              "      }\n",
              "      quickchartButtonEl.classList.remove('colab-df-spinner');\n",
              "      quickchartButtonEl.classList.add('colab-df-quickchart-complete');\n",
              "    }\n",
              "    (() => {\n",
              "      let quickchartButtonEl =\n",
              "        document.querySelector('#df-43bed417-37e9-4e66-8526-c088ec535bed button');\n",
              "      quickchartButtonEl.style.display =\n",
              "        google.colab.kernel.accessAllowed ? 'block' : 'none';\n",
              "    })();\n",
              "  </script>\n",
              "</div>\n",
              "    </div>\n",
              "  </div>\n"
            ]
          },
          "metadata": {},
          "execution_count": 19
        }
      ]
    },
    {
      "cell_type": "code",
      "source": [
        "#plotando histograma para a variável Renda pré-pandemia\n",
        "plt.hist(dados_pre_pandemia['renda'], bins=10, color='blue', alpha=0.7)\n",
        "#Configurando o título do gráfico\n",
        "plt.title('Distribuição de Clientes por Renda (Pré-pandemia)')\n",
        "#Configurando o rótulo do eixo x\n",
        "plt.xlabel('Renda')\n",
        "#Configurando o rótulo do eixo y\n",
        "plt.ylabel('Quantidade de Clientes')"
      ],
      "metadata": {
        "colab": {
          "base_uri": "https://localhost:8080/",
          "height": 489
        },
        "id": "tIQvaXmhgfRm",
        "outputId": "eb291ee6-b083-48b6-8328-3832ee216d78"
      },
      "execution_count": null,
      "outputs": [
        {
          "output_type": "execute_result",
          "data": {
            "text/plain": [
              "Text(0, 0.5, 'Quantidade de Clientes')"
            ]
          },
          "metadata": {},
          "execution_count": 20
        },
        {
          "output_type": "display_data",
          "data": {
            "text/plain": [
              "<Figure size 640x480 with 1 Axes>"
            ],
            "image/png": "[encoded data removed]"
          },
          "metadata": {}
        }
      ]
    },
    {
      "cell_type": "code",
      "source": [
        "#plotando boxplot da variável Renda Pré-pandemia\n",
        "ax = sns.boxplot(data=dados_pre_pandemia, x='renda')"
      ],
      "metadata": {
        "colab": {
          "base_uri": "https://localhost:8080/",
          "height": 449
        },
        "id": "iXdQXlHOgnUM",
        "outputId": "398ca0ea-2cc5-45a7-e9ea-d51ca96a9355"
      },
      "execution_count": null,
      "outputs": [
        {
          "output_type": "display_data",
          "data": {
            "text/plain": [
              "<Figure size 640x480 with 1 Axes>"
            ],
            "image/png": "[encoded data removed]"
          },
          "metadata": {}
        }
      ]
    },
    {
      "cell_type": "code",
      "source": [
        "#plotando histograma para a variável Renda pós-pandemia\n",
        "plt.hist(dados_pos_pandemia['renda'], bins=10, color='blue', alpha=0.7)\n",
        "#Configurando o título do gráfico\n",
        "plt.title('Distribuição de Clientes por Renda (Pós-pandemia)')\n",
        "#Configurando o rótulo do eixo x\n",
        "plt.xlabel('Renda')\n",
        "#Configurando o rótulo do eixo y\n",
        "plt.ylabel('Quantidade de Clientes')"
      ],
      "metadata": {
        "colab": {
          "base_uri": "https://localhost:8080/",
          "height": 489
        },
        "id": "wXADi4k7J7Bi",
        "outputId": "40e33355-56e1-4464-9714-16eef9d6d78f"
      },
      "execution_count": null,
      "outputs": [
        {
          "output_type": "execute_result",
          "data": {
            "text/plain": [
              "Text(0, 0.5, 'Quantidade de Clientes')"
            ]
          },
          "metadata": {},
          "execution_count": 22
        },
        {
          "output_type": "display_data",
          "data": {
            "text/plain": [
              "<Figure size 640x480 with 1 Axes>"
            ],
            "image/png": "[encoded data removed]"
          },
          "metadata": {}
        }
      ]
    },
    {
      "cell_type": "code",
      "source": [
        "#plotando boxplot da variável Renda Pós-pandemia\n",
        "ax = sns.boxplot(data=dados_pos_pandemia, x='renda')"
      ],
      "metadata": {
        "colab": {
          "base_uri": "https://localhost:8080/",
          "height": 449
        },
        "id": "2Glcj7m_Kge0",
        "outputId": "d8f2bdd2-3f85-4540-9a33-956f31673ded"
      },
      "execution_count": null,
      "outputs": [
        {
          "output_type": "display_data",
          "data": {
            "text/plain": [
              "<Figure size 640x480 with 1 Axes>"
            ],
            "image/png": "[encoded data removed]"
          },
          "metadata": {}
        }
      ]
    },
    {
      "cell_type": "code",
      "source": [
        "#calculando medidas centrais da Renda\n",
        "renda_media_pre = dados_pre_pandemia['renda'].mean()\n",
        "renda_media_pos = dados_pos_pandemia['renda'].mean()\n",
        "renda_mediana_pre = dados_pre_pandemia['renda'].median()\n",
        "renda_mediana_pos = dados_pos_pandemia['renda'].median()\n",
        "renda_moda_pre = dados_pre_pandemia['renda'].mode()\n",
        "renda_moda_pos = dados_pos_pandemia['renda'].mode()"
      ],
      "metadata": {
        "id": "7QPtCS9pLoN3"
      },
      "execution_count": null,
      "outputs": []
    },
    {
      "cell_type": "code",
      "source": [
        "#Verificando a distribuição da variável Renda:\n",
        "print('A variável Renda pré-pandemia possui:\\nmédia =', renda_media_pre,\n",
        "      '\\nmediana =', renda_mediana_pre)\n",
        "print('A variável Renda pós-pandemia possui:\\nmédia =', renda_media_pos,\n",
        "      '\\nmediana =', renda_mediana_pos)"
      ],
      "metadata": {
        "colab": {
          "base_uri": "https://localhost:8080/"
        },
        "id": "8vTkwnMfMGlN",
        "outputId": "10283d52-02eb-412b-9425-2626c4ce3743"
      },
      "execution_count": null,
      "outputs": [
        {
          "output_type": "stream",
          "name": "stdout",
          "text": [
            "A variável Renda pré-pandemia possui:\n",
            "média = 9180.643564356436 \n",
            "mediana = 7488.0\n",
            "A variável Renda pós-pandemia possui:\n",
            "média = 13968.5 \n",
            "mediana = 13380.5\n"
          ]
        }
      ]
    },
    {
      "cell_type": "markdown",
      "source": [
        "Comentários sobre a análise da variável Renda:\n",
        "\n",
        "\n",
        "*   Pré-pandemia: o histograma, boxplot e a análise das variáveis centrais permitem verificar que a variável antes da pandemia possuía uma distribuição com assimetria à direita (com moda>mediana>média)\n",
        "*    Pós-pandemia: o histograma, boxplot e a análise das variáveis centrais permitem verificar que a variável depois da pandemia possui uma distribuição próxima da simétrica (com média, mediana e moda aproximadamente iguais)\n",
        "*   A análise indica um aumento na renda média dos clientes pós pandemia em comparação com o pré pandemia\n",
        "\n",
        "\n"
      ],
      "metadata": {
        "id": "sMoeNM_DNATW"
      }
    },
    {
      "cell_type": "markdown",
      "source": [
        "* **Região**"
      ],
      "metadata": {
        "id": "n6oS9Bc6Ko7z"
      }
    },
    {
      "cell_type": "code",
      "source": [
        "#análise da região pré-pandemia\n",
        "dados_pre_pandemia['regiao-BR'].value_counts()"
      ],
      "metadata": {
        "colab": {
          "base_uri": "https://localhost:8080/"
        },
        "id": "j2D10ds1Kpiz",
        "outputId": "445e4f04-dfb9-47e7-cb80-a4f4167b632a"
      },
      "execution_count": null,
      "outputs": [
        {
          "output_type": "execute_result",
          "data": {
            "text/plain": [
              "Sul             29\n",
              "Nordeste        26\n",
              "Sudeste         21\n",
              "Centro-Oeste    17\n",
              "Norte            8\n",
              "Name: regiao-BR, dtype: int64"
            ]
          },
          "metadata": {},
          "execution_count": 26
        }
      ]
    },
    {
      "cell_type": "code",
      "source": [
        "#análise da região pos-pandemia\n",
        "dados_pos_pandemia['regiao-BR'].value_counts()"
      ],
      "metadata": {
        "colab": {
          "base_uri": "https://localhost:8080/"
        },
        "id": "YYqX7h1eNlY1",
        "outputId": "0c386633-90ce-400f-b484-466c093fd891"
      },
      "execution_count": null,
      "outputs": [
        {
          "output_type": "execute_result",
          "data": {
            "text/plain": [
              "Sul             42\n",
              "Nordeste        25\n",
              "Sudeste         18\n",
              "Norte            9\n",
              "Centro-Oeste     8\n",
              "Name: regiao-BR, dtype: int64"
            ]
          },
          "metadata": {},
          "execution_count": 27
        }
      ]
    },
    {
      "cell_type": "code",
      "source": [
        "# Criar um DataFrame com as vendas por região pré-pandemia\n",
        "data_regiao_pre = {'Categorias': ['Sul', 'Nordeste', 'Sudeste', 'Centro-Oeste','Norte'],\n",
        "        'Valores': [29, 26, 21, 17, 8]}\n",
        "df_regiao_pre = pd.DataFrame(data_regiao_pre)\n",
        "\n",
        "# Criar um gráfico de barras\n",
        "plt.bar(df_regiao_pre['Categorias'], df_regiao_pre['Valores'])\n",
        "\n",
        "# Adicionar rótulos e título\n",
        "plt.title('Distribuição de Clientes por Região (Pré-pandemia)')\n",
        "\n",
        "# Exibir o gráfico\n",
        "plt.show()\n"
      ],
      "metadata": {
        "colab": {
          "base_uri": "https://localhost:8080/",
          "height": 453
        },
        "id": "0dP0nFmJhcbU",
        "outputId": "ea8dfd37-4416-4ded-c7cf-fe8145d4ff4b"
      },
      "execution_count": null,
      "outputs": [
        {
          "output_type": "display_data",
          "data": {
            "text/plain": [
              "<Figure size 640x480 with 1 Axes>"
            ],
            "image/png": "[encoded data removed]"
          },
          "metadata": {}
        }
      ]
    },
    {
      "cell_type": "code",
      "source": [
        "# Criar um DataFrame com as vendas por região pré-pandemia\n",
        "data_regiao_pos = {'Categorias': ['Sul', 'Nordeste', 'Sudeste', 'Centro-Oeste','Norte'],\n",
        "        'Valores': [42, 25, 18, 9, 8]}\n",
        "df_regiao_pos = pd.DataFrame(data_regiao_pos)\n",
        "\n",
        "# Criar um gráfico de barras\n",
        "plt.bar(df_regiao_pos['Categorias'], df_regiao_pos['Valores'])\n",
        "\n",
        "# Adicionar rótulos e título\n",
        "plt.title('Distribuição de Clientes por Região (Pós-pandemia)')\n",
        "\n",
        "# Exibir o gráfico\n",
        "plt.show()"
      ],
      "metadata": {
        "colab": {
          "base_uri": "https://localhost:8080/",
          "height": 453
        },
        "id": "mc1rSdVGQbDu",
        "outputId": "9fc0fd6e-021d-4c1d-c3c1-6d6f2b9b5aaa"
      },
      "execution_count": null,
      "outputs": [
        {
          "output_type": "display_data",
          "data": {
            "text/plain": [
              "<Figure size 640x480 with 1 Axes>"
            ],
            "image/png": "[encoded data removed]"
          },
          "metadata": {}
        }
      ]
    },
    {
      "cell_type": "markdown",
      "source": [
        "Comentários sobre a análise da variável Região:\n",
        "\n",
        "\n",
        "*  É possível verificar que a tendência de vendas com relação à região se manteve antes e após a pandemia Sul>Nordeste>Sudeste>Centro-oeste, porém houve um aumento nas vendas do Sul\n",
        "\n"
      ],
      "metadata": {
        "id": "O_spBwnCSTxX"
      }
    },
    {
      "cell_type": "markdown",
      "source": [
        "\n",
        "*   **Produtos mais comprados antes e depois da pandemia**"
      ],
      "metadata": {
        "id": "nyogydGhKpyb"
      }
    },
    {
      "cell_type": "code",
      "source": [
        "#análise dos produtos vendidos pré-pandemia\n",
        "dados_pre_pandemia['produto'].value_counts()"
      ],
      "metadata": {
        "colab": {
          "base_uri": "https://localhost:8080/"
        },
        "id": "Ku4ItBWiK1MS",
        "outputId": "d053b8e3-a417-4abd-b2fe-ac54943ed829"
      },
      "execution_count": null,
      "outputs": [
        {
          "output_type": "execute_result",
          "data": {
            "text/plain": [
              "batom          61\n",
              "desodorante    20\n",
              "antissinais     9\n",
              "sombra          4\n",
              "perfume         4\n",
              "base            3\n",
              "Name: produto, dtype: int64"
            ]
          },
          "metadata": {},
          "execution_count": 30
        }
      ]
    },
    {
      "cell_type": "code",
      "source": [
        "# Criar um DataFrame de exemplo\n",
        "data_regiao_pre = {'Categorias': ['Batom', 'Desodorante', 'Antissinais', 'Sombra','Perfume','Base'],\n",
        "        'Valores': [61, 20, 9, 4, 4, 3]}\n",
        "df_regiao_pre = pd.DataFrame(data_regiao_pre).sort_values(by='Valores', ascending=True)\n",
        "\n",
        "# Criar um gráfico de barras\n",
        "plt.barh(df_regiao_pre['Categorias'], df_regiao_pre['Valores'])\n",
        "\n",
        "# Adicionar rótulos e título\n",
        "plt.title('Produtos mais comprados (Pré-Pandemia)')\n",
        "\n",
        "# Exibir o gráfico\n",
        "plt.show()"
      ],
      "metadata": {
        "colab": {
          "base_uri": "https://localhost:8080/",
          "height": 453
        },
        "id": "-ho9i90ulDLB",
        "outputId": "38c47b09-0d0c-4f10-9b4f-09f840e5bc9c"
      },
      "execution_count": null,
      "outputs": [
        {
          "output_type": "display_data",
          "data": {
            "text/plain": [
              "<Figure size 640x480 with 1 Axes>"
            ],
            "image/png": "[encoded data removed]"
          },
          "metadata": {}
        }
      ]
    },
    {
      "cell_type": "code",
      "source": [
        "dados_pos_pandemia['produto'].value_counts()"
      ],
      "metadata": {
        "colab": {
          "base_uri": "https://localhost:8080/"
        },
        "id": "HzdlwrVKj_N5",
        "outputId": "9f1996de-759f-45d9-e6fc-41b0cad6f010"
      },
      "execution_count": null,
      "outputs": [
        {
          "output_type": "execute_result",
          "data": {
            "text/plain": [
              "desodorante    46\n",
              "antissinais    20\n",
              "batom          15\n",
              "sombra          9\n",
              "perfume         8\n",
              "base            4\n",
              "Name: produto, dtype: int64"
            ]
          },
          "metadata": {},
          "execution_count": 32
        }
      ]
    },
    {
      "cell_type": "code",
      "source": [
        "# Criar um DataFrame de exemplo\n",
        "data_regiao_pos = {'Categorias': ['Batom', 'Desodorante', 'Antissinais', 'Sombra','Perfume','Base'],\n",
        "        'Valores': [15, 46, 20, 9, 8, 4]}\n",
        "df_regiao_pos = pd.DataFrame(data_regiao_pos).sort_values(by='Valores', ascending=True)\n",
        "\n",
        "# Criar um gráfico de barras\n",
        "plt.barh(df_regiao_pos['Categorias'], df_regiao_pos['Valores'])\n",
        "\n",
        "# Adicionar rótulos e título\n",
        "plt.title('Produtos mais comprados (Pós-Pandemia)')\n",
        "\n",
        "# Exibir o gráfico\n",
        "plt.show()"
      ],
      "metadata": {
        "colab": {
          "base_uri": "https://localhost:8080/",
          "height": 453
        },
        "id": "rqDMW8sTlXO-",
        "outputId": "0b57f222-08ab-44c8-96c3-cb04f595c036"
      },
      "execution_count": null,
      "outputs": [
        {
          "output_type": "display_data",
          "data": {
            "text/plain": [
              "<Figure size 640x480 with 1 Axes>"
            ],
            "image/png": "[encoded data removed]"
          },
          "metadata": {}
        }
      ]
    },
    {
      "cell_type": "markdown",
      "source": [
        "É possível verificar que a tendência de produtos mais vendidos antes e após a pandemia modificou-se, sendo que antes da pandemia os produtos mais vendidos eram: batom>desodorante>antissinais>perfume>sombra>base, enquanto pós pandemia os produtos mais vendidos foram: desodorante>antissinais>batom>sombra>perfume>base\n",
        "\n",
        "* Com o aumento da média de idade veio o aumento da procura por antissinais."
      ],
      "metadata": {
        "id": "pJJdHxwQu-Tl"
      }
    },
    {
      "cell_type": "markdown",
      "source": [
        "## **Explorando estatisticamente as diferenças pré e pós pandemia**\n",
        "\n",
        "Há diferenças nítidas antes e depois da pandemia?\n",
        "Como provamos essas diferenças estatisticamente?"
      ],
      "metadata": {
        "id": "2hEo4IUj0EsR"
      }
    },
    {
      "cell_type": "markdown",
      "source": [
        "Sim, há diferenças nítidas antes e depois da pandemia e para provarmos se essas diferenças são estatisticamente significativas realizaremos um teste estatístico (Teste de Hipóteses)."
      ],
      "metadata": {
        "id": "_f8VYAvyZZDh"
      }
    },
    {
      "cell_type": "markdown",
      "source": [
        "\n",
        "### **Teste de hipóteses entre duas amostras para validar se os clientes pós pandemia tendem a ter uma idade média maior do que no pré pandemia**"
      ],
      "metadata": {
        "id": "0zgwm7HIZ0LA"
      }
    },
    {
      "cell_type": "code",
      "source": [
        "#Teste de hipótese entre duas amostras de Idade\n",
        "\n",
        "#Separando as amostras\n",
        "idade_pre_pandemia =  dados_pre_pandemia['idade']\n",
        "idade_pos_pandemia = dados_pos_pandemia['idade']\n",
        "\n",
        "#Calculando o número de elementos por amostra\n",
        "n_pre_pandemia = len(idade_pre_pandemia)\n",
        "n_pos_pandemia = len(idade_pos_pandemia)\n",
        "\n",
        "#Calculando desvio padrão amostral\n",
        "desvio_padrao_pre = idade_pre_pandemia.std()\n",
        "desvio_padrao_pos = idade_pos_pandemia.std()\n",
        "\n",
        "print(\"A amostra idade pré pandemia possui\", n_pre_pandemia,\" elementos, com uma média de\", idade_media_pre, \"e devio padrão de \" , desvio_padrao_pre)\n",
        "print(\"A amostra idade pós pandemia possui\", n_pos_pandemia,\" elementos, uma média de\", idade_media_pos, \"e devio padrão de \" , desvio_padrao_pos)\n"
      ],
      "metadata": {
        "colab": {
          "base_uri": "https://localhost:8080/"
        },
        "id": "sFiWPu8OxRsr",
        "outputId": "5c6537cd-d36e-402f-93f8-28e5fd2f9390"
      },
      "execution_count": null,
      "outputs": [
        {
          "output_type": "stream",
          "name": "stdout",
          "text": [
            "A amostra idade pré pandemia possui 101  elementos, com uma média de 39.881188118811885 e devio padrão de  15.016182689826913\n",
            "A amostra idade pós pandemia possui 102  elementos, uma média de 44.90196078431372 e devio padrão de  13.37317383030209\n"
          ]
        }
      ]
    },
    {
      "cell_type": "markdown",
      "source": [
        "\n",
        "\n",
        "**Formulando nossas hipóteses:**\n",
        "\n",
        "$H_0$: Idade Média Pós Pandemia <= Idade Média Pré Pandemia\n",
        "\n",
        "$H_1$: Idade Média Pós Pandemia > Idade Média Pré Pandemia\n"
      ],
      "metadata": {
        "id": "34d-0e8_dya4"
      }
    },
    {
      "cell_type": "code",
      "source": [
        "#Fixação da significância do teste (Significância de 5% e Confiança de 95%)\n",
        "\n",
        "significancia = 0.05\n",
        "confianca = 1 - significancia\n",
        "\n",
        "#Cálculo do z_alpha\n",
        "\n",
        "z_alpha = norm.ppf(confianca)\n",
        "z_alpha.round(2)\n",
        "print(\"O valor de Z_alpha é \", z_alpha)\n",
        "\n",
        "#Cálculo da estátistica-teste\n",
        "\n",
        "d_o = 0\n",
        "\n",
        "numerador = (idade_media_pos - idade_media_pre) - d_o\n",
        "\n",
        "denominador = np.sqrt((desvio_padrao_pos ** 2 / n_pos_pandemia) + (desvio_padrao_pre ** 2 / n_pre_pandemia))\n",
        "\n",
        "z = numerador / denominador\n",
        "\n",
        "print('O valor de Z é ', z)\n",
        "\n",
        "#Aceitação ou rejeição da hipótese\n",
        "#Rejeitamos se z>= z_alpha for igual a True\n",
        "\n",
        "print(z >= z_alpha/2)"
      ],
      "metadata": {
        "colab": {
          "base_uri": "https://localhost:8080/"
        },
        "id": "58OH8CmRd7V9",
        "outputId": "59f67305-3a98-49db-c88b-c8bf28032a31"
      },
      "execution_count": null,
      "outputs": [
        {
          "output_type": "stream",
          "name": "stdout",
          "text": [
            "O valor de Z_alpha é  1.6448536269514722\n",
            "O valor de Z é  2.5148280237546734\n",
            "True\n"
          ]
        }
      ]
    },
    {
      "cell_type": "markdown",
      "source": [
        "Com o teste, rejeitamos a hipótese de que a idade média pós pandemia é menor ou igual a idade média pós pandemia, assim provando que houve um aumento na idade média dos clientes."
      ],
      "metadata": {
        "id": "NLOzs0haeFMg"
      }
    },
    {
      "cell_type": "markdown",
      "source": [
        "\n",
        "### **Teste de hipóteses entre duas amostras para validar se os clientes no pós pandemia possui uma renda média maior do que no pré pandemia**"
      ],
      "metadata": {
        "id": "xJNBimCqDE4B"
      }
    },
    {
      "cell_type": "code",
      "source": [
        "#Teste de hipótese entre duas amostras de Renda\n",
        "\n",
        "#Separando as amostras\n",
        "renda_pre_pandemia =  dados_pre_pandemia['renda']\n",
        "renda_pos_pandemia = dados_pos_pandemia['renda']\n",
        "\n",
        "#Calculando o número de elementos por amostra\n",
        "n_pre_pandemia = len(renda_pre_pandemia)\n",
        "n_pos_pandemia = len(renda_pos_pandemia)\n",
        "\n",
        "#Calculando desvio padrão amostral\n",
        "desvio_padrao_pre = renda_pre_pandemia.std()\n",
        "desvio_padrao_pos = renda_pos_pandemia.std()\n",
        "\n",
        "print(\"A amostra renda pré pandemia possui\", n_pre_pandemia,\" elementos, com uma média de\", renda_media_pre, \"e devio padrão de \" , desvio_padrao_pre)\n",
        "print(\"A amostra renda pós pandemia possui\", n_pos_pandemia,\" elementos, uma média de\", renda_media_pos, \"e devio padrão de \" , desvio_padrao_pos)\n"
      ],
      "metadata": {
        "colab": {
          "base_uri": "https://localhost:8080/"
        },
        "id": "LM0J-SOLnmqe",
        "outputId": "128e788d-eef2-4a34-fc62-c615d15c0a28"
      },
      "execution_count": null,
      "outputs": [
        {
          "output_type": "stream",
          "name": "stdout",
          "text": [
            "A amostra renda pré pandemia possui 101  elementos, com uma média de 9180.643564356436 e devio padrão de  6007.677720357773\n",
            "A amostra renda pós pandemia possui 102  elementos, uma média de 13968.5 e devio padrão de  5641.38444448657\n"
          ]
        }
      ]
    },
    {
      "cell_type": "markdown",
      "source": [
        "**Formulando nossas hipóteses:**\n",
        "\n",
        "\n",
        "$H_0$: Renda Média Pós Pandemia <= Renda Média Pré Pandemia\n",
        "\n",
        "$H_1$: Renda Média Pós Pandemia > Renda Média Pré Pandemia"
      ],
      "metadata": {
        "id": "9-366P13bOay"
      }
    },
    {
      "cell_type": "code",
      "source": [
        "#Fixação da significância do teste (Significância de 5% e Confiança de 95%)\n",
        "\n",
        "significancia = 0.05\n",
        "confianca = 1 - significancia\n",
        "\n",
        "#Cálculo do z_alpha\n",
        "\n",
        "z_alpha = norm.ppf(confianca)\n",
        "z_alpha.round(2)\n",
        "print(\"O valor de Z_alpha é \", z_alpha)\n",
        "\n",
        "#Cálculo da estátistica-teste\n",
        "\n",
        "d_o = 0\n",
        "\n",
        "numerador = (renda_media_pos - renda_media_pre) - d_o\n",
        "\n",
        "denominador = np.sqrt((desvio_padrao_pos ** 2 / n_pos_pandemia) + (desvio_padrao_pre ** 2 / n_pre_pandemia))\n",
        "\n",
        "z = numerador / denominador\n",
        "\n",
        "print('O valor de Z é ', z)\n",
        "\n",
        "#Aceitação ou rejeição da hipótese\n",
        "#Rejeitamos se z>= z_alpha for igual a True\n",
        "\n",
        "print(z >= z_alpha/2)"
      ],
      "metadata": {
        "colab": {
          "base_uri": "https://localhost:8080/"
        },
        "id": "8hxxOhfHbR_x",
        "outputId": "4c956a4f-ae17-4d54-8764-985f939850a6"
      },
      "execution_count": null,
      "outputs": [
        {
          "output_type": "stream",
          "name": "stdout",
          "text": [
            "O valor de Z_alpha é  1.6448536269514722\n",
            "O valor de Z é  5.852091652560244\n",
            "True\n"
          ]
        }
      ]
    },
    {
      "cell_type": "markdown",
      "source": [
        "Com o teste, rejeitamos a hipótese de que a renda média pós pandemia é menor ou igual a renda média pós pandemia, assim provando que a renda média pós pandemia é maior que a renda média dos clientes pré pandemia"
      ],
      "metadata": {
        "id": "ca1IuKtdb88v"
      }
    },
    {
      "cell_type": "markdown",
      "source": [
        "## **Calculando amostras**\n",
        "\n",
        "Suponha que a sua \"população\" de clientes verdadeira é de 100000. Qual o tamanho da amostra necessária para chegarmos a conclusões com 95% de confiança e 2% de margem de erro? A base informada é suficiente? E com uma margem de erro de 10%?"
      ],
      "metadata": {
        "id": "qwjCw37B0geW"
      }
    },
    {
      "cell_type": "code",
      "source": [
        "#variáveis para cálculo do tamanho da amostra considerando a variável Renda\n",
        "#considerando 95 % de confiança e erro de 2 %\n",
        "z = norm.ppf(0.5+(0.95/2))\n",
        "z\n",
        "media_renda = consumidor['renda'].mean()\n",
        "desvio_renda = consumidor['renda'].std()\n",
        "erro = 0.02 * media_renda\n",
        "N = 100000\n",
        "n = ((z**2)*(desvio_renda**2)*(N))/(((z**2)*(desvio_renda**2))+((erro**2)*(N-1)))\n",
        "print('O tamanho da amostra calculado é: ',int(round(n)))\n"
      ],
      "metadata": {
        "id": "O-39_sby00cl",
        "outputId": "1b1670ab-2ea9-4c42-8e2b-7bb890cf56f9",
        "colab": {
          "base_uri": "https://localhost:8080/"
        }
      },
      "execution_count": null,
      "outputs": [
        {
          "output_type": "stream",
          "name": "stdout",
          "text": [
            "O tamanho da amostra calculado é:  2751\n"
          ]
        }
      ]
    },
    {
      "cell_type": "markdown",
      "source": [
        "**Conclusão:**\n",
        "Como o valor obtido para o tamanho da amostra foi de 2751, é possível verificar que o tamanho da nossa base (203) é insuficiente para atender as específicações (margem de erro = 2%)."
      ],
      "metadata": {
        "id": "lEdrTDQLydy_"
      }
    },
    {
      "cell_type": "code",
      "source": [
        "#variáveis para cálculo do tamanho da amostra considerando a variável Renda\n",
        "#considerando 95 % de confiança e erro de 10 %\n",
        "z = norm.ppf(0.5+(0.95/2))\n",
        "z\n",
        "media_renda = consumidor['renda'].mean()\n",
        "desvio_renda = consumidor['renda'].std()\n",
        "erro = 0.10 * media_renda\n",
        "N = 100000\n",
        "n = ((z**2)*(desvio_renda**2)*(N))/(((z**2)*(desvio_renda**2))+((erro**2)*(N-1)))\n",
        "print('O tamanho da amostra calculado é: ',int(round(n)))"
      ],
      "metadata": {
        "id": "9lsm9Xk-00As",
        "outputId": "ffc0b961-0799-43ae-e450-559b01888a7a",
        "colab": {
          "base_uri": "https://localhost:8080/"
        }
      },
      "execution_count": null,
      "outputs": [
        {
          "output_type": "stream",
          "name": "stdout",
          "text": [
            "O tamanho da amostra calculado é:  113\n"
          ]
        }
      ]
    },
    {
      "cell_type": "markdown",
      "source": [
        "**Conclusão:**\n",
        "Como o valor obtido para o tamanho da amostra foi de 113, é possível verificar que o tamanho da base (203) é suficiente para atender as especificações (margem de erro = 10%)."
      ],
      "metadata": {
        "id": "zk64nPMLzE88"
      }
    },
    {
      "cell_type": "code",
      "source": [
        "#variáveis para cálculo do tamanho da amostra considerando a variável Idade\n",
        "#considerando 95 % de confiança e erro de 2 %\n",
        "z = norm.ppf(0.5+(0.95/2))\n",
        "z\n",
        "media_idade = consumidor['idade'].mean()\n",
        "desvio_idade = consumidor['idade'].std()\n",
        "erro = 0.02 * media_idade\n",
        "N = 100000\n",
        "n = ((z**2)*(desvio_idade**2)*(N))/(((z**2)*(desvio_idade**2))+((erro**2)*(N-1)))\n",
        "print('O tamanho da amostra calculado é: ',int(round(n)))"
      ],
      "metadata": {
        "id": "fh9rUHtA1QKP",
        "outputId": "d552caf3-f794-46e8-a5fa-ecda9e7029c8",
        "colab": {
          "base_uri": "https://localhost:8080/"
        }
      },
      "execution_count": null,
      "outputs": [
        {
          "output_type": "stream",
          "name": "stdout",
          "text": [
            "O tamanho da amostra calculado é:  1095\n"
          ]
        }
      ]
    },
    {
      "cell_type": "markdown",
      "source": [
        "**Conclusão:**\n",
        "Como o valor obtido para o tamanho da amostra foi de 1095, é possível verificar que o tamanho da base (203) é insuficiente para atender as especificações (margem de erro = 2%)."
      ],
      "metadata": {
        "id": "N8177yA910jR"
      }
    },
    {
      "cell_type": "code",
      "source": [
        "#variáveis para cálculo do tamanho da amostra considerando a variável Idade\n",
        "#considerando 95 % de confiança e erro de 10 %\n",
        "z = norm.ppf(0.5+(0.95/2))\n",
        "z\n",
        "media_idade = consumidor['idade'].mean()\n",
        "desvio_idade = consumidor['idade'].std()\n",
        "erro = 0.10 * media_idade\n",
        "N = 100000\n",
        "n = ((z**2)*(desvio_idade**2)*(N))/(((z**2)*(desvio_idade**2))+((erro**2)*(N-1)))\n",
        "print('O tamanho da amostra calculado é: ',int(round(n)))"
      ],
      "metadata": {
        "id": "y3JGdijv13Xw",
        "outputId": "c90ab5c7-7b7c-4326-b410-3b34973c5bcd",
        "colab": {
          "base_uri": "https://localhost:8080/"
        }
      },
      "execution_count": null,
      "outputs": [
        {
          "output_type": "stream",
          "name": "stdout",
          "text": [
            "O tamanho da amostra calculado é:  44\n"
          ]
        }
      ]
    },
    {
      "cell_type": "markdown",
      "source": [
        "**Conclusão:**\n",
        "Como o valor obtido para o tamanho da amostra foi de 44, é possível verificar que o tamanho da base (203) é suficiente para atender as especificações (margem de erro = 10%)."
      ],
      "metadata": {
        "id": "5W_o3l0d2AOZ"
      }
    },
    {
      "cell_type": "markdown",
      "source": [
        "## **Sugestões para a equipe de marketing**\n"
      ],
      "metadata": {
        "id": "WdMouWw806U0"
      }
    },
    {
      "cell_type": "markdown",
      "source": [
        "\n",
        "\n",
        "*  Supondo que temos uma população de 100 mil clientes, como apontado anteriormente, para podermos analisar os dados com uma margem de erros menor precisariamos de uma amostra maior.\n",
        "\n",
        "*   Houve uma mudança no perfil dos clientes no pós pandemia, principalmente em relação à idade e à renda. A única tendência que se manteve foi a distribuição dos clientes em relação à região do Brasil em que residem.\n",
        "\n",
        "*   A idade média dos clientes no pós pandemia é comprovadamente maior, portanto o ideal seria preparar as campanhas para um público alvo mais velho (sugestão: entre 35 e 50 anos) ou preparar campanhas pensando em atrair novamente o público mais jovem, dependendo da estratégia que a empresa pretende adotar com base nos dados.\n",
        "\n",
        "*   A renda média dos clientes também está estatisticamente provada como sendo maior no pós pandemia, o que aumenta o poder aquisitivo dos clientes e pode ser um bom ponto para explorar na estratégia de marketing da empresa.\n",
        "\n",
        "*   Houve uma mudança nos itens mais vendidos e consequentemente surge a necessidade de avaliar quais produtos devem ter maior destaque nas próximas campanhas, além de entender o motivo da venda dos demais produtos ter caído para traçar estratégias. A tabela de vendas de produto por região abaixo poderia ajudar a dar traçar estratégias de venda por região, observando os produtos mais vendidos no pré e pós pandemia, já que há visivelmente uma diferença significativa entre os produtos vendidos por região.\n",
        "\n",
        "\n",
        "\n",
        "\n",
        "\n",
        "\n"
      ],
      "metadata": {
        "id": "2IGz527SkhKm"
      }
    },
    {
      "cell_type": "code",
      "source": [
        "# montando tabela crosstab da região e dos produtos vendidos pré-pandemia\n",
        "frequencia_pre_pandemia = pd.crosstab(dados_pre_pandemia['regiao-BR'],\n",
        "                         dados_pre_pandemia['produto'])\n",
        "frequencia_pre_pandemia"
      ],
      "metadata": {
        "id": "6x7YYKQq1IdU",
        "outputId": "c2a3845f-2d1b-4496-f6b8-b15f00e0432b",
        "colab": {
          "base_uri": "https://localhost:8080/",
          "height": 235
        }
      },
      "execution_count": null,
      "outputs": [
        {
          "output_type": "execute_result",
          "data": {
            "text/plain": [
              "produto       antissinais  base  batom  desodorante  perfume  sombra\n",
              "regiao-BR                                                           \n",
              "Centro-Oeste            1     3      0            5        4       4\n",
              "Nordeste                0     0     11           15        0       0\n",
              "Norte                   8     0      0            0        0       0\n",
              "Sudeste                 0     0     21            0        0       0\n",
              "Sul                     0     0     29            0        0       0"
            ],
            "text/html": [
              "\n",
              "  <div id=\"df-8f159468-07ab-432b-9c81-034eaad113c6\" class=\"colab-df-container\">\n",
              "    <div>\n",
              "<style scoped>\n",
              "    .dataframe tbody tr th:only-of-type {\n",
              "        vertical-align: middle;\n",
              "    }\n",
              "\n",
              "    .dataframe tbody tr th {\n",
              "        vertical-align: top;\n",
              "    }\n",
              "\n",
              "    .dataframe thead th {\n",
              "        text-align: right;\n",
              "    }\n",
              "</style>\n",
              "<table border=\"1\" class=\"dataframe\">\n",
              "  <thead>\n",
              "    <tr style=\"text-align: right;\">\n",
              "      <th>produto</th>\n",
              "      <th>antissinais</th>\n",
              "      <th>base</th>\n",
              "      <th>batom</th>\n",
              "      <th>desodorante</th>\n",
              "      <th>perfume</th>\n",
              "      <th>sombra</th>\n",
              "    </tr>\n",
              "    <tr>\n",
              "      <th>regiao-BR</th>\n",
              "      <th></th>\n",
              "      <th></th>\n",
              "      <th></th>\n",
              "      <th></th>\n",
              "      <th></th>\n",
              "      <th></th>\n",
              "    </tr>\n",
              "  </thead>\n",
              "  <tbody>\n",
              "    <tr>\n",
              "      <th>Centro-Oeste</th>\n",
              "      <td>1</td>\n",
              "      <td>3</td>\n",
              "      <td>0</td>\n",
              "      <td>5</td>\n",
              "      <td>4</td>\n",
              "      <td>4</td>\n",
              "    </tr>\n",
              "    <tr>\n",
              "      <th>Nordeste</th>\n",
              "      <td>0</td>\n",
              "      <td>0</td>\n",
              "      <td>11</td>\n",
              "      <td>15</td>\n",
              "      <td>0</td>\n",
              "      <td>0</td>\n",
              "    </tr>\n",
              "    <tr>\n",
              "      <th>Norte</th>\n",
              "      <td>8</td>\n",
              "      <td>0</td>\n",
              "      <td>0</td>\n",
              "      <td>0</td>\n",
              "      <td>0</td>\n",
              "      <td>0</td>\n",
              "    </tr>\n",
              "    <tr>\n",
              "      <th>Sudeste</th>\n",
              "      <td>0</td>\n",
              "      <td>0</td>\n",
              "      <td>21</td>\n",
              "      <td>0</td>\n",
              "      <td>0</td>\n",
              "      <td>0</td>\n",
              "    </tr>\n",
              "    <tr>\n",
              "      <th>Sul</th>\n",
              "      <td>0</td>\n",
              "      <td>0</td>\n",
              "      <td>29</td>\n",
              "      <td>0</td>\n",
              "      <td>0</td>\n",
              "      <td>0</td>\n",
              "    </tr>\n",
              "  </tbody>\n",
              "</table>\n",
              "</div>\n",
              "    <div class=\"colab-df-buttons\">\n",
              "\n",
              "  <div class=\"colab-df-container\">\n",
              "    <button class=\"colab-df-convert\" onclick=\"convertToInteractive('df-8f159468-07ab-432b-9c81-034eaad113c6')\"\n",
              "            title=\"Convert this dataframe to an interactive table.\"\n",
              "            style=\"display:none;\">\n",
              "\n",
              "  <svg xmlns=\"http://www.w3.org/2000/svg\" height=\"24px\" viewBox=\"0 -960 960 960\">\n",
              "    <path d=\"M120-120v-720h720v720H120Zm60-500h600v-160H180v160Zm220 220h160v-160H400v160Zm0 220h160v-160H400v160ZM180-400h160v-160H180v160Zm440 0h160v-160H620v160ZM180-180h160v-160H180v160Zm440 0h160v-160H620v160Z\"/>\n",
              "  </svg>\n",
              "    </button>\n",
              "\n",
              "  <style>\n",
              "    .colab-df-container {\n",
              "      display:flex;\n",
              "      gap: 12px;\n",
              "    }\n",
              "\n",
              "    .colab-df-convert {\n",
              "      background-color: #E8F0FE;\n",
              "      border: none;\n",
              "      border-radius: 50%;\n",
              "      cursor: pointer;\n",
              "      display: none;\n",
              "      fill: #1967D2;\n",
              "      height: 32px;\n",
              "      padding: 0 0 0 0;\n",
              "      width: 32px;\n",
              "    }\n",
              "\n",
              "    .colab-df-convert:hover {\n",
              "      background-color: #E2EBFA;\n",
              "      box-shadow: 0px 1px 2px rgba(60, 64, 67, 0.3), 0px 1px 3px 1px rgba(60, 64, 67, 0.15);\n",
              "      fill: #174EA6;\n",
              "    }\n",
              "\n",
              "    .colab-df-buttons div {\n",
              "      margin-bottom: 4px;\n",
              "    }\n",
              "\n",
              "    [theme=dark] .colab-df-convert {\n",
              "      background-color: #3B4455;\n",
              "      fill: #D2E3FC;\n",
              "    }\n",
              "\n",
              "    [theme=dark] .colab-df-convert:hover {\n",
              "      background-color: #434B5C;\n",
              "      box-shadow: 0px 1px 3px 1px rgba(0, 0, 0, 0.15);\n",
              "      filter: drop-shadow(0px 1px 2px rgba(0, 0, 0, 0.3));\n",
              "      fill: #FFFFFF;\n",
              "    }\n",
              "  </style>\n",
              "\n",
              "    <script>\n",
              "      const buttonEl =\n",
              "        document.querySelector('#df-8f159468-07ab-432b-9c81-034eaad113c6 button.colab-df-convert');\n",
              "      buttonEl.style.display =\n",
              "        google.colab.kernel.accessAllowed ? 'block' : 'none';\n",
              "\n",
              "      async function convertToInteractive(key) {\n",
              "        const element = document.querySelector('#df-8f159468-07ab-432b-9c81-034eaad113c6');\n",
              "        const dataTable =\n",
              "          await google.colab.kernel.invokeFunction('convertToInteractive',\n",
              "                                                    [key], {});\n",
              "        if (!dataTable) return;\n",
              "\n",
              "        const docLinkHtml = 'Like what you see? Visit the ' +\n",
              "          '<a target=\"_blank\" href=https://colab.research.google.com/notebooks/data_table.ipynb>data table notebook</a>'\n",
              "          + ' to learn more about interactive tables.';\n",
              "        element.innerHTML = '';\n",
              "        dataTable['output_type'] = 'display_data';\n",
              "        await google.colab.output.renderOutput(dataTable, element);\n",
              "        const docLink = document.createElement('div');\n",
              "        docLink.innerHTML = docLinkHtml;\n",
              "        element.appendChild(docLink);\n",
              "      }\n",
              "    </script>\n",
              "  </div>\n",
              "\n",
              "\n",
              "<div id=\"df-041993db-0852-488c-bac8-5a9a0da2ebcd\">\n",
              "  <button class=\"colab-df-quickchart\" onclick=\"quickchart('df-041993db-0852-488c-bac8-5a9a0da2ebcd')\"\n",
              "            title=\"Suggest charts\"\n",
              "            style=\"display:none;\">\n",
              "\n",
              "<svg xmlns=\"http://www.w3.org/2000/svg\" height=\"24px\"viewBox=\"0 0 24 24\"\n",
              "     width=\"24px\">\n",
              "    <g>\n",
              "        <path d=\"M19 3H5c-1.1 0-2 .9-2 2v14c0 1.1.9 2 2 2h14c1.1 0 2-.9 2-2V5c0-1.1-.9-2-2-2zM9 17H7v-7h2v7zm4 0h-2V7h2v10zm4 0h-2v-4h2v4z\"/>\n",
              "    </g>\n",
              "</svg>\n",
              "  </button>\n",
              "\n",
              "<style>\n",
              "  .colab-df-quickchart {\n",
              "      --bg-color: #E8F0FE;\n",
              "      --fill-color: #1967D2;\n",
              "      --hover-bg-color: #E2EBFA;\n",
              "      --hover-fill-color: #174EA6;\n",
              "      --disabled-fill-color: #AAA;\n",
              "      --disabled-bg-color: #DDD;\n",
              "  }\n",
              "\n",
              "  [theme=dark] .colab-df-quickchart {\n",
              "      --bg-color: #3B4455;\n",
              "      --fill-color: #D2E3FC;\n",
              "      --hover-bg-color: #434B5C;\n",
              "      --hover-fill-color: #FFFFFF;\n",
              "      --disabled-bg-color: #3B4455;\n",
              "      --disabled-fill-color: #666;\n",
              "  }\n",
              "\n",
              "  .colab-df-quickchart {\n",
              "    background-color: var(--bg-color);\n",
              "    border: none;\n",
              "    border-radius: 50%;\n",
              "    cursor: pointer;\n",
              "    display: none;\n",
              "    fill: var(--fill-color);\n",
              "    height: 32px;\n",
              "    padding: 0;\n",
              "    width: 32px;\n",
              "  }\n",
              "\n",
              "  .colab-df-quickchart:hover {\n",
              "    background-color: var(--hover-bg-color);\n",
              "    box-shadow: 0 1px 2px rgba(60, 64, 67, 0.3), 0 1px 3px 1px rgba(60, 64, 67, 0.15);\n",
              "    fill: var(--button-hover-fill-color);\n",
              "  }\n",
              "\n",
              "  .colab-df-quickchart-complete:disabled,\n",
              "  .colab-df-quickchart-complete:disabled:hover {\n",
              "    background-color: var(--disabled-bg-color);\n",
              "    fill: var(--disabled-fill-color);\n",
              "    box-shadow: none;\n",
              "  }\n",
              "\n",
              "  .colab-df-spinner {\n",
              "    border: 2px solid var(--fill-color);\n",
              "    border-color: transparent;\n",
              "    border-bottom-color: var(--fill-color);\n",
              "    animation:\n",
              "      spin 1s steps(1) infinite;\n",
              "  }\n",
              "\n",
              "  @keyframes spin {\n",
              "    0% {\n",
              "      border-color: transparent;\n",
              "      border-bottom-color: var(--fill-color);\n",
              "      border-left-color: var(--fill-color);\n",
              "    }\n",
              "    20% {\n",
              "      border-color: transparent;\n",
              "      border-left-color: var(--fill-color);\n",
              "      border-top-color: var(--fill-color);\n",
              "    }\n",
              "    30% {\n",
              "      border-color: transparent;\n",
              "      border-left-color: var(--fill-color);\n",
              "      border-top-color: var(--fill-color);\n",
              "      border-right-color: var(--fill-color);\n",
              "    }\n",
              "    40% {\n",
              "      border-color: transparent;\n",
              "      border-right-color: var(--fill-color);\n",
              "      border-top-color: var(--fill-color);\n",
              "    }\n",
              "    60% {\n",
              "      border-color: transparent;\n",
              "      border-right-color: var(--fill-color);\n",
              "    }\n",
              "    80% {\n",
              "      border-color: transparent;\n",
              "      border-right-color: var(--fill-color);\n",
              "      border-bottom-color: var(--fill-color);\n",
              "    }\n",
              "    90% {\n",
              "      border-color: transparent;\n",
              "      border-bottom-color: var(--fill-color);\n",
              "    }\n",
              "  }\n",
              "</style>\n",
              "\n",
              "  <script>\n",
              "    async function quickchart(key) {\n",
              "      const quickchartButtonEl =\n",
              "        document.querySelector('#' + key + ' button');\n",
              "      quickchartButtonEl.disabled = true;  // To prevent multiple clicks.\n",
              "      quickchartButtonEl.classList.add('colab-df-spinner');\n",
              "      try {\n",
              "        const charts = await google.colab.kernel.invokeFunction(\n",
              "            'suggestCharts', [key], {});\n",
              "      } catch (error) {\n",
              "        console.error('Error during call to suggestCharts:', error);\n",
              "      }\n",
              "      quickchartButtonEl.classList.remove('colab-df-spinner');\n",
              "      quickchartButtonEl.classList.add('colab-df-quickchart-complete');\n",
              "    }\n",
              "    (() => {\n",
              "      let quickchartButtonEl =\n",
              "        document.querySelector('#df-041993db-0852-488c-bac8-5a9a0da2ebcd button');\n",
              "      quickchartButtonEl.style.display =\n",
              "        google.colab.kernel.accessAllowed ? 'block' : 'none';\n",
              "    })();\n",
              "  </script>\n",
              "</div>\n",
              "    </div>\n",
              "  </div>\n"
            ]
          },
          "metadata": {},
          "execution_count": 42
        }
      ]
    },
    {
      "cell_type": "code",
      "source": [
        "# montando tabela crosstab da região e dos produtos vendidos pós-pandemia\n",
        "frequencia_pos_pandemia = pd.crosstab(dados_pos_pandemia['regiao-BR'],\n",
        "                         dados_pos_pandemia['produto'])\n",
        "frequencia_pos_pandemia"
      ],
      "metadata": {
        "id": "1_VVIAnV7SHP",
        "outputId": "20c1a997-994d-4bfa-9ece-c03aa116b8d3",
        "colab": {
          "base_uri": "https://localhost:8080/",
          "height": 235
        }
      },
      "execution_count": null,
      "outputs": [
        {
          "output_type": "execute_result",
          "data": {
            "text/plain": [
              "produto       antissinais  base  batom  desodorante  perfume  sombra\n",
              "regiao-BR                                                           \n",
              "Centro-Oeste            8     0      0            0        0       0\n",
              "Nordeste                3     4      0            1        8       9\n",
              "Norte                   9     0      0            0        0       0\n",
              "Sudeste                 0     0     14            4        0       0\n",
              "Sul                     0     0      1           41        0       0"
            ],
            "text/html": [
              "\n",
              "  <div id=\"df-caa47698-3d24-4e71-81ac-13601a3287c0\" class=\"colab-df-container\">\n",
              "    <div>\n",
              "<style scoped>\n",
              "    .dataframe tbody tr th:only-of-type {\n",
              "        vertical-align: middle;\n",
              "    }\n",
              "\n",
              "    .dataframe tbody tr th {\n",
              "        vertical-align: top;\n",
              "    }\n",
              "\n",
              "    .dataframe thead th {\n",
              "        text-align: right;\n",
              "    }\n",
              "</style>\n",
              "<table border=\"1\" class=\"dataframe\">\n",
              "  <thead>\n",
              "    <tr style=\"text-align: right;\">\n",
              "      <th>produto</th>\n",
              "      <th>antissinais</th>\n",
              "      <th>base</th>\n",
              "      <th>batom</th>\n",
              "      <th>desodorante</th>\n",
              "      <th>perfume</th>\n",
              "      <th>sombra</th>\n",
              "    </tr>\n",
              "    <tr>\n",
              "      <th>regiao-BR</th>\n",
              "      <th></th>\n",
              "      <th></th>\n",
              "      <th></th>\n",
              "      <th></th>\n",
              "      <th></th>\n",
              "      <th></th>\n",
              "    </tr>\n",
              "  </thead>\n",
              "  <tbody>\n",
              "    <tr>\n",
              "      <th>Centro-Oeste</th>\n",
              "      <td>8</td>\n",
              "      <td>0</td>\n",
              "      <td>0</td>\n",
              "      <td>0</td>\n",
              "      <td>0</td>\n",
              "      <td>0</td>\n",
              "    </tr>\n",
              "    <tr>\n",
              "      <th>Nordeste</th>\n",
              "      <td>3</td>\n",
              "      <td>4</td>\n",
              "      <td>0</td>\n",
              "      <td>1</td>\n",
              "      <td>8</td>\n",
              "      <td>9</td>\n",
              "    </tr>\n",
              "    <tr>\n",
              "      <th>Norte</th>\n",
              "      <td>9</td>\n",
              "      <td>0</td>\n",
              "      <td>0</td>\n",
              "      <td>0</td>\n",
              "      <td>0</td>\n",
              "      <td>0</td>\n",
              "    </tr>\n",
              "    <tr>\n",
              "      <th>Sudeste</th>\n",
              "      <td>0</td>\n",
              "      <td>0</td>\n",
              "      <td>14</td>\n",
              "      <td>4</td>\n",
              "      <td>0</td>\n",
              "      <td>0</td>\n",
              "    </tr>\n",
              "    <tr>\n",
              "      <th>Sul</th>\n",
              "      <td>0</td>\n",
              "      <td>0</td>\n",
              "      <td>1</td>\n",
              "      <td>41</td>\n",
              "      <td>0</td>\n",
              "      <td>0</td>\n",
              "    </tr>\n",
              "  </tbody>\n",
              "</table>\n",
              "</div>\n",
              "    <div class=\"colab-df-buttons\">\n",
              "\n",
              "  <div class=\"colab-df-container\">\n",
              "    <button class=\"colab-df-convert\" onclick=\"convertToInteractive('df-caa47698-3d24-4e71-81ac-13601a3287c0')\"\n",
              "            title=\"Convert this dataframe to an interactive table.\"\n",
              "            style=\"display:none;\">\n",
              "\n",
              "  <svg xmlns=\"http://www.w3.org/2000/svg\" height=\"24px\" viewBox=\"0 -960 960 960\">\n",
              "    <path d=\"M120-120v-720h720v720H120Zm60-500h600v-160H180v160Zm220 220h160v-160H400v160Zm0 220h160v-160H400v160ZM180-400h160v-160H180v160Zm440 0h160v-160H620v160ZM180-180h160v-160H180v160Zm440 0h160v-160H620v160Z\"/>\n",
              "  </svg>\n",
              "    </button>\n",
              "\n",
              "  <style>\n",
              "    .colab-df-container {\n",
              "      display:flex;\n",
              "      gap: 12px;\n",
              "    }\n",
              "\n",
              "    .colab-df-convert {\n",
              "      background-color: #E8F0FE;\n",
              "      border: none;\n",
              "      border-radius: 50%;\n",
              "      cursor: pointer;\n",
              "      display: none;\n",
              "      fill: #1967D2;\n",
              "      height: 32px;\n",
              "      padding: 0 0 0 0;\n",
              "      width: 32px;\n",
              "    }\n",
              "\n",
              "    .colab-df-convert:hover {\n",
              "      background-color: #E2EBFA;\n",
              "      box-shadow: 0px 1px 2px rgba(60, 64, 67, 0.3), 0px 1px 3px 1px rgba(60, 64, 67, 0.15);\n",
              "      fill: #174EA6;\n",
              "    }\n",
              "\n",
              "    .colab-df-buttons div {\n",
              "      margin-bottom: 4px;\n",
              "    }\n",
              "\n",
              "    [theme=dark] .colab-df-convert {\n",
              "      background-color: #3B4455;\n",
              "      fill: #D2E3FC;\n",
              "    }\n",
              "\n",
              "    [theme=dark] .colab-df-convert:hover {\n",
              "      background-color: #434B5C;\n",
              "      box-shadow: 0px 1px 3px 1px rgba(0, 0, 0, 0.15);\n",
              "      filter: drop-shadow(0px 1px 2px rgba(0, 0, 0, 0.3));\n",
              "      fill: #FFFFFF;\n",
              "    }\n",
              "  </style>\n",
              "\n",
              "    <script>\n",
              "      const buttonEl =\n",
              "        document.querySelector('#df-caa47698-3d24-4e71-81ac-13601a3287c0 button.colab-df-convert');\n",
              "      buttonEl.style.display =\n",
              "        google.colab.kernel.accessAllowed ? 'block' : 'none';\n",
              "\n",
              "      async function convertToInteractive(key) {\n",
              "        const element = document.querySelector('#df-caa47698-3d24-4e71-81ac-13601a3287c0');\n",
              "        const dataTable =\n",
              "          await google.colab.kernel.invokeFunction('convertToInteractive',\n",
              "                                                    [key], {});\n",
              "        if (!dataTable) return;\n",
              "\n",
              "        const docLinkHtml = 'Like what you see? Visit the ' +\n",
              "          '<a target=\"_blank\" href=https://colab.research.google.com/notebooks/data_table.ipynb>data table notebook</a>'\n",
              "          + ' to learn more about interactive tables.';\n",
              "        element.innerHTML = '';\n",
              "        dataTable['output_type'] = 'display_data';\n",
              "        await google.colab.output.renderOutput(dataTable, element);\n",
              "        const docLink = document.createElement('div');\n",
              "        docLink.innerHTML = docLinkHtml;\n",
              "        element.appendChild(docLink);\n",
              "      }\n",
              "    </script>\n",
              "  </div>\n",
              "\n",
              "\n",
              "<div id=\"df-9c0da9ac-cd66-4ada-86d3-287b19fb11fa\">\n",
              "  <button class=\"colab-df-quickchart\" onclick=\"quickchart('df-9c0da9ac-cd66-4ada-86d3-287b19fb11fa')\"\n",
              "            title=\"Suggest charts\"\n",
              "            style=\"display:none;\">\n",
              "\n",
              "<svg xmlns=\"http://www.w3.org/2000/svg\" height=\"24px\"viewBox=\"0 0 24 24\"\n",
              "     width=\"24px\">\n",
              "    <g>\n",
              "        <path d=\"M19 3H5c-1.1 0-2 .9-2 2v14c0 1.1.9 2 2 2h14c1.1 0 2-.9 2-2V5c0-1.1-.9-2-2-2zM9 17H7v-7h2v7zm4 0h-2V7h2v10zm4 0h-2v-4h2v4z\"/>\n",
              "    </g>\n",
              "</svg>\n",
              "  </button>\n",
              "\n",
              "<style>\n",
              "  .colab-df-quickchart {\n",
              "      --bg-color: #E8F0FE;\n",
              "      --fill-color: #1967D2;\n",
              "      --hover-bg-color: #E2EBFA;\n",
              "      --hover-fill-color: #174EA6;\n",
              "      --disabled-fill-color: #AAA;\n",
              "      --disabled-bg-color: #DDD;\n",
              "  }\n",
              "\n",
              "  [theme=dark] .colab-df-quickchart {\n",
              "      --bg-color: #3B4455;\n",
              "      --fill-color: #D2E3FC;\n",
              "      --hover-bg-color: #434B5C;\n",
              "      --hover-fill-color: #FFFFFF;\n",
              "      --disabled-bg-color: #3B4455;\n",
              "      --disabled-fill-color: #666;\n",
              "  }\n",
              "\n",
              "  .colab-df-quickchart {\n",
              "    background-color: var(--bg-color);\n",
              "    border: none;\n",
              "    border-radius: 50%;\n",
              "    cursor: pointer;\n",
              "    display: none;\n",
              "    fill: var(--fill-color);\n",
              "    height: 32px;\n",
              "    padding: 0;\n",
              "    width: 32px;\n",
              "  }\n",
              "\n",
              "  .colab-df-quickchart:hover {\n",
              "    background-color: var(--hover-bg-color);\n",
              "    box-shadow: 0 1px 2px rgba(60, 64, 67, 0.3), 0 1px 3px 1px rgba(60, 64, 67, 0.15);\n",
              "    fill: var(--button-hover-fill-color);\n",
              "  }\n",
              "\n",
              "  .colab-df-quickchart-complete:disabled,\n",
              "  .colab-df-quickchart-complete:disabled:hover {\n",
              "    background-color: var(--disabled-bg-color);\n",
              "    fill: var(--disabled-fill-color);\n",
              "    box-shadow: none;\n",
              "  }\n",
              "\n",
              "  .colab-df-spinner {\n",
              "    border: 2px solid var(--fill-color);\n",
              "    border-color: transparent;\n",
              "    border-bottom-color: var(--fill-color);\n",
              "    animation:\n",
              "      spin 1s steps(1) infinite;\n",
              "  }\n",
              "\n",
              "  @keyframes spin {\n",
              "    0% {\n",
              "      border-color: transparent;\n",
              "      border-bottom-color: var(--fill-color);\n",
              "      border-left-color: var(--fill-color);\n",
              "    }\n",
              "    20% {\n",
              "      border-color: transparent;\n",
              "      border-left-color: var(--fill-color);\n",
              "      border-top-color: var(--fill-color);\n",
              "    }\n",
              "    30% {\n",
              "      border-color: transparent;\n",
              "      border-left-color: var(--fill-color);\n",
              "      border-top-color: var(--fill-color);\n",
              "      border-right-color: var(--fill-color);\n",
              "    }\n",
              "    40% {\n",
              "      border-color: transparent;\n",
              "      border-right-color: var(--fill-color);\n",
              "      border-top-color: var(--fill-color);\n",
              "    }\n",
              "    60% {\n",
              "      border-color: transparent;\n",
              "      border-right-color: var(--fill-color);\n",
              "    }\n",
              "    80% {\n",
              "      border-color: transparent;\n",
              "      border-right-color: var(--fill-color);\n",
              "      border-bottom-color: var(--fill-color);\n",
              "    }\n",
              "    90% {\n",
              "      border-color: transparent;\n",
              "      border-bottom-color: var(--fill-color);\n",
              "    }\n",
              "  }\n",
              "</style>\n",
              "\n",
              "  <script>\n",
              "    async function quickchart(key) {\n",
              "      const quickchartButtonEl =\n",
              "        document.querySelector('#' + key + ' button');\n",
              "      quickchartButtonEl.disabled = true;  // To prevent multiple clicks.\n",
              "      quickchartButtonEl.classList.add('colab-df-spinner');\n",
              "      try {\n",
              "        const charts = await google.colab.kernel.invokeFunction(\n",
              "            'suggestCharts', [key], {});\n",
              "      } catch (error) {\n",
              "        console.error('Error during call to suggestCharts:', error);\n",
              "      }\n",
              "      quickchartButtonEl.classList.remove('colab-df-spinner');\n",
              "      quickchartButtonEl.classList.add('colab-df-quickchart-complete');\n",
              "    }\n",
              "    (() => {\n",
              "      let quickchartButtonEl =\n",
              "        document.querySelector('#df-9c0da9ac-cd66-4ada-86d3-287b19fb11fa button');\n",
              "      quickchartButtonEl.style.display =\n",
              "        google.colab.kernel.accessAllowed ? 'block' : 'none';\n",
              "    })();\n",
              "  </script>\n",
              "</div>\n",
              "    </div>\n",
              "  </div>\n"
            ]
          },
          "metadata": {},
          "execution_count": 43
        }
      ]
    },
    {
      "cell_type": "markdown",
      "source": [
        "________________________________________________________________________________\n",
        "# **Desafio 2: Determinando o estoque de segurança**\n",
        "\n",
        "Neste desafio, estamos lidando com uma empresa de produtos perecíveis que necessita de uma política de estoque eficiente. É necessário ter um estoque de segurança acima da previsão de vendas, porém de forma que não gere um custo excessivo e \"desova\" (jogar o produto fora por não ser vendido).\n",
        "\n",
        "Iremos calcular o estoque de segurança ideal para o gerente de vendas.\n",
        "\n",
        "Obs: Necessário ler e entender os conceitos apresentados na instrução."
      ],
      "metadata": {
        "id": "ZPZqt1GeyyLD"
      }
    },
    {
      "cell_type": "markdown",
      "source": [
        "## **Conhecendo o dataset estoque**"
      ],
      "metadata": {
        "id": "IqLexn4kAIum"
      }
    },
    {
      "cell_type": "code",
      "source": [
        "#Conhecendo as colunas\n",
        "estoque.head()"
      ],
      "metadata": {
        "id": "VDp-PPaGAPaF",
        "outputId": "c0a5d28e-a388-493d-c92c-5d7cd297d829",
        "colab": {
          "base_uri": "https://localhost:8080/",
          "height": 204
        }
      },
      "execution_count": null,
      "outputs": [
        {
          "output_type": "execute_result",
          "data": {
            "text/plain": [
              "         data  vendas-iogurte  lead-time\n",
              "0  2015-01-04            5083          4\n",
              "1  2015-01-11            4936          3\n",
              "2  2015-01-18            5051          6\n",
              "3  2015-01-25            4846          4\n",
              "4  2015-02-01            5003          5"
            ],
            "text/html": [
              "\n",
              "  <div id=\"df-d3b25f4b-23af-4cbe-9efd-0de65b6c7caa\" class=\"colab-df-container\">\n",
              "    <div>\n",
              "<style scoped>\n",
              "    .dataframe tbody tr th:only-of-type {\n",
              "        vertical-align: middle;\n",
              "    }\n",
              "\n",
              "    .dataframe tbody tr th {\n",
              "        vertical-align: top;\n",
              "    }\n",
              "\n",
              "    .dataframe thead th {\n",
              "        text-align: right;\n",
              "    }\n",
              "</style>\n",
              "<table border=\"1\" class=\"dataframe\">\n",
              "  <thead>\n",
              "    <tr style=\"text-align: right;\">\n",
              "      <th></th>\n",
              "      <th>data</th>\n",
              "      <th>vendas-iogurte</th>\n",
              "      <th>lead-time</th>\n",
              "    </tr>\n",
              "  </thead>\n",
              "  <tbody>\n",
              "    <tr>\n",
              "      <th>0</th>\n",
              "      <td>2015-01-04</td>\n",
              "      <td>5083</td>\n",
              "      <td>4</td>\n",
              "    </tr>\n",
              "    <tr>\n",
              "      <th>1</th>\n",
              "      <td>2015-01-11</td>\n",
              "      <td>4936</td>\n",
              "      <td>3</td>\n",
              "    </tr>\n",
              "    <tr>\n",
              "      <th>2</th>\n",
              "      <td>2015-01-18</td>\n",
              "      <td>5051</td>\n",
              "      <td>6</td>\n",
              "    </tr>\n",
              "    <tr>\n",
              "      <th>3</th>\n",
              "      <td>2015-01-25</td>\n",
              "      <td>4846</td>\n",
              "      <td>4</td>\n",
              "    </tr>\n",
              "    <tr>\n",
              "      <th>4</th>\n",
              "      <td>2015-02-01</td>\n",
              "      <td>5003</td>\n",
              "      <td>5</td>\n",
              "    </tr>\n",
              "  </tbody>\n",
              "</table>\n",
              "</div>\n",
              "    <div class=\"colab-df-buttons\">\n",
              "\n",
              "  <div class=\"colab-df-container\">\n",
              "    <button class=\"colab-df-convert\" onclick=\"convertToInteractive('df-d3b25f4b-23af-4cbe-9efd-0de65b6c7caa')\"\n",
              "            title=\"Convert this dataframe to an interactive table.\"\n",
              "            style=\"display:none;\">\n",
              "\n",
              "  <svg xmlns=\"http://www.w3.org/2000/svg\" height=\"24px\" viewBox=\"0 -960 960 960\">\n",
              "    <path d=\"M120-120v-720h720v720H120Zm60-500h600v-160H180v160Zm220 220h160v-160H400v160Zm0 220h160v-160H400v160ZM180-400h160v-160H180v160Zm440 0h160v-160H620v160ZM180-180h160v-160H180v160Zm440 0h160v-160H620v160Z\"/>\n",
              "  </svg>\n",
              "    </button>\n",
              "\n",
              "  <style>\n",
              "    .colab-df-container {\n",
              "      display:flex;\n",
              "      gap: 12px;\n",
              "    }\n",
              "\n",
              "    .colab-df-convert {\n",
              "      background-color: #E8F0FE;\n",
              "      border: none;\n",
              "      border-radius: 50%;\n",
              "      cursor: pointer;\n",
              "      display: none;\n",
              "      fill: #1967D2;\n",
              "      height: 32px;\n",
              "      padding: 0 0 0 0;\n",
              "      width: 32px;\n",
              "    }\n",
              "\n",
              "    .colab-df-convert:hover {\n",
              "      background-color: #E2EBFA;\n",
              "      box-shadow: 0px 1px 2px rgba(60, 64, 67, 0.3), 0px 1px 3px 1px rgba(60, 64, 67, 0.15);\n",
              "      fill: #174EA6;\n",
              "    }\n",
              "\n",
              "    .colab-df-buttons div {\n",
              "      margin-bottom: 4px;\n",
              "    }\n",
              "\n",
              "    [theme=dark] .colab-df-convert {\n",
              "      background-color: #3B4455;\n",
              "      fill: #D2E3FC;\n",
              "    }\n",
              "\n",
              "    [theme=dark] .colab-df-convert:hover {\n",
              "      background-color: #434B5C;\n",
              "      box-shadow: 0px 1px 3px 1px rgba(0, 0, 0, 0.15);\n",
              "      filter: drop-shadow(0px 1px 2px rgba(0, 0, 0, 0.3));\n",
              "      fill: #FFFFFF;\n",
              "    }\n",
              "  </style>\n",
              "\n",
              "    <script>\n",
              "      const buttonEl =\n",
              "        document.querySelector('#df-d3b25f4b-23af-4cbe-9efd-0de65b6c7caa button.colab-df-convert');\n",
              "      buttonEl.style.display =\n",
              "        google.colab.kernel.accessAllowed ? 'block' : 'none';\n",
              "\n",
              "      async function convertToInteractive(key) {\n",
              "        const element = document.querySelector('#df-d3b25f4b-23af-4cbe-9efd-0de65b6c7caa');\n",
              "        const dataTable =\n",
              "          await google.colab.kernel.invokeFunction('convertToInteractive',\n",
              "                                                    [key], {});\n",
              "        if (!dataTable) return;\n",
              "\n",
              "        const docLinkHtml = 'Like what you see? Visit the ' +\n",
              "          '<a target=\"_blank\" href=https://colab.research.google.com/notebooks/data_table.ipynb>data table notebook</a>'\n",
              "          + ' to learn more about interactive tables.';\n",
              "        element.innerHTML = '';\n",
              "        dataTable['output_type'] = 'display_data';\n",
              "        await google.colab.output.renderOutput(dataTable, element);\n",
              "        const docLink = document.createElement('div');\n",
              "        docLink.innerHTML = docLinkHtml;\n",
              "        element.appendChild(docLink);\n",
              "      }\n",
              "    </script>\n",
              "  </div>\n",
              "\n",
              "\n",
              "<div id=\"df-e6c4708c-054d-4f5e-b6ac-c9e2365aa884\">\n",
              "  <button class=\"colab-df-quickchart\" onclick=\"quickchart('df-e6c4708c-054d-4f5e-b6ac-c9e2365aa884')\"\n",
              "            title=\"Suggest charts\"\n",
              "            style=\"display:none;\">\n",
              "\n",
              "<svg xmlns=\"http://www.w3.org/2000/svg\" height=\"24px\"viewBox=\"0 0 24 24\"\n",
              "     width=\"24px\">\n",
              "    <g>\n",
              "        <path d=\"M19 3H5c-1.1 0-2 .9-2 2v14c0 1.1.9 2 2 2h14c1.1 0 2-.9 2-2V5c0-1.1-.9-2-2-2zM9 17H7v-7h2v7zm4 0h-2V7h2v10zm4 0h-2v-4h2v4z\"/>\n",
              "    </g>\n",
              "</svg>\n",
              "  </button>\n",
              "\n",
              "<style>\n",
              "  .colab-df-quickchart {\n",
              "      --bg-color: #E8F0FE;\n",
              "      --fill-color: #1967D2;\n",
              "      --hover-bg-color: #E2EBFA;\n",
              "      --hover-fill-color: #174EA6;\n",
              "      --disabled-fill-color: #AAA;\n",
              "      --disabled-bg-color: #DDD;\n",
              "  }\n",
              "\n",
              "  [theme=dark] .colab-df-quickchart {\n",
              "      --bg-color: #3B4455;\n",
              "      --fill-color: #D2E3FC;\n",
              "      --hover-bg-color: #434B5C;\n",
              "      --hover-fill-color: #FFFFFF;\n",
              "      --disabled-bg-color: #3B4455;\n",
              "      --disabled-fill-color: #666;\n",
              "  }\n",
              "\n",
              "  .colab-df-quickchart {\n",
              "    background-color: var(--bg-color);\n",
              "    border: none;\n",
              "    border-radius: 50%;\n",
              "    cursor: pointer;\n",
              "    display: none;\n",
              "    fill: var(--fill-color);\n",
              "    height: 32px;\n",
              "    padding: 0;\n",
              "    width: 32px;\n",
              "  }\n",
              "\n",
              "  .colab-df-quickchart:hover {\n",
              "    background-color: var(--hover-bg-color);\n",
              "    box-shadow: 0 1px 2px rgba(60, 64, 67, 0.3), 0 1px 3px 1px rgba(60, 64, 67, 0.15);\n",
              "    fill: var(--button-hover-fill-color);\n",
              "  }\n",
              "\n",
              "  .colab-df-quickchart-complete:disabled,\n",
              "  .colab-df-quickchart-complete:disabled:hover {\n",
              "    background-color: var(--disabled-bg-color);\n",
              "    fill: var(--disabled-fill-color);\n",
              "    box-shadow: none;\n",
              "  }\n",
              "\n",
              "  .colab-df-spinner {\n",
              "    border: 2px solid var(--fill-color);\n",
              "    border-color: transparent;\n",
              "    border-bottom-color: var(--fill-color);\n",
              "    animation:\n",
              "      spin 1s steps(1) infinite;\n",
              "  }\n",
              "\n",
              "  @keyframes spin {\n",
              "    0% {\n",
              "      border-color: transparent;\n",
              "      border-bottom-color: var(--fill-color);\n",
              "      border-left-color: var(--fill-color);\n",
              "    }\n",
              "    20% {\n",
              "      border-color: transparent;\n",
              "      border-left-color: var(--fill-color);\n",
              "      border-top-color: var(--fill-color);\n",
              "    }\n",
              "    30% {\n",
              "      border-color: transparent;\n",
              "      border-left-color: var(--fill-color);\n",
              "      border-top-color: var(--fill-color);\n",
              "      border-right-color: var(--fill-color);\n",
              "    }\n",
              "    40% {\n",
              "      border-color: transparent;\n",
              "      border-right-color: var(--fill-color);\n",
              "      border-top-color: var(--fill-color);\n",
              "    }\n",
              "    60% {\n",
              "      border-color: transparent;\n",
              "      border-right-color: var(--fill-color);\n",
              "    }\n",
              "    80% {\n",
              "      border-color: transparent;\n",
              "      border-right-color: var(--fill-color);\n",
              "      border-bottom-color: var(--fill-color);\n",
              "    }\n",
              "    90% {\n",
              "      border-color: transparent;\n",
              "      border-bottom-color: var(--fill-color);\n",
              "    }\n",
              "  }\n",
              "</style>\n",
              "\n",
              "  <script>\n",
              "    async function quickchart(key) {\n",
              "      const quickchartButtonEl =\n",
              "        document.querySelector('#' + key + ' button');\n",
              "      quickchartButtonEl.disabled = true;  // To prevent multiple clicks.\n",
              "      quickchartButtonEl.classList.add('colab-df-spinner');\n",
              "      try {\n",
              "        const charts = await google.colab.kernel.invokeFunction(\n",
              "            'suggestCharts', [key], {});\n",
              "      } catch (error) {\n",
              "        console.error('Error during call to suggestCharts:', error);\n",
              "      }\n",
              "      quickchartButtonEl.classList.remove('colab-df-spinner');\n",
              "      quickchartButtonEl.classList.add('colab-df-quickchart-complete');\n",
              "    }\n",
              "    (() => {\n",
              "      let quickchartButtonEl =\n",
              "        document.querySelector('#df-e6c4708c-054d-4f5e-b6ac-c9e2365aa884 button');\n",
              "      quickchartButtonEl.style.display =\n",
              "        google.colab.kernel.accessAllowed ? 'block' : 'none';\n",
              "    })();\n",
              "  </script>\n",
              "</div>\n",
              "    </div>\n",
              "  </div>\n"
            ]
          },
          "metadata": {},
          "execution_count": 44
        }
      ]
    },
    {
      "cell_type": "code",
      "source": [
        "print(\"Quantidade de linhas e colunas, respectivamente:\", estoque.shape)"
      ],
      "metadata": {
        "id": "WW5cmrbOAyuX",
        "outputId": "1b029f81-42d9-424e-fe10-634c1ac88cbb",
        "colab": {
          "base_uri": "https://localhost:8080/"
        }
      },
      "execution_count": null,
      "outputs": [
        {
          "output_type": "stream",
          "name": "stdout",
          "text": [
            "Quantidade de linhas e colunas, respectivamente: (370, 3)\n"
          ]
        }
      ]
    },
    {
      "cell_type": "code",
      "source": [
        "#Conhecendo os dados das colunas\n",
        "estoque.dtypes"
      ],
      "metadata": {
        "id": "Vn6zIDJRAglw",
        "outputId": "cbc0e3d3-74f5-4633-fada-47c6c31cb68e",
        "colab": {
          "base_uri": "https://localhost:8080/"
        }
      },
      "execution_count": null,
      "outputs": [
        {
          "output_type": "execute_result",
          "data": {
            "text/plain": [
              "data              object\n",
              "vendas-iogurte     int64\n",
              "lead-time          int64\n",
              "dtype: object"
            ]
          },
          "metadata": {},
          "execution_count": 46
        }
      ]
    },
    {
      "cell_type": "markdown",
      "source": [
        "## **Analisando dados das vendas e do lead time**\n",
        "\n",
        "Os dados seguem uma distribuição normal? Quais características indicam isso?"
      ],
      "metadata": {
        "id": "ciYfZ4Cw5go3"
      }
    },
    {
      "cell_type": "code",
      "source": [
        "#Calculando medidas de tendência central das vendas\n",
        "media_vendas = estoque['vendas-iogurte'].mean()\n",
        "mediana_vendas = estoque['vendas-iogurte'].median()\n",
        "moda_vendas = estoque['vendas-iogurte'].mode()\n",
        "\n",
        "print('Média de vendas de iogurte: ', media_vendas)\n",
        "print('Mediana das vendas de iogurte: ', mediana_vendas)\n",
        "print('Moda das vendas de iogurte: ', moda_vendas)\n",
        "\n",
        "print(\"\\nUma das características da distribuição normal são as medidas de tendência central apresentarem o mesmo valor, portanto temos com esses resultados de medidas de tendência central próxima uma indicação de que os dados estão próximos de uma distribuição é normal.\")"
      ],
      "metadata": {
        "id": "1nPNrY7B6NM9",
        "outputId": "8b6d38aa-6162-4313-e4b2-d97198afa3ad",
        "colab": {
          "base_uri": "https://localhost:8080/"
        }
      },
      "execution_count": null,
      "outputs": [
        {
          "output_type": "stream",
          "name": "stdout",
          "text": [
            "Média de vendas de iogurte:  4999.1702702702705\n",
            "Mediana das vendas de iogurte:  4996.0\n",
            "Moda das vendas de iogurte:  0    5020\n",
            "Name: vendas-iogurte, dtype: int64\n",
            "\n",
            "Uma das características da distribuição normal são as medidas de tendência central apresentarem o mesmo valor, portanto temos com esses resultados de medidas de tendência central próxima uma indicação de que os dados estão próximos de uma distribuição é normal.\n"
          ]
        }
      ]
    },
    {
      "cell_type": "code",
      "source": [
        "#Plotando o histograma das vendas de iogurte para verificar a distribuição de tendências\n",
        "\n",
        "plt.hist(estoque['vendas-iogurte'])\n",
        "\n",
        "plt.title('Distribuição de frequência das vendas de iogurte')\n",
        "\n",
        "plt.xlabel('Quantidade de vendas')\n",
        "\n",
        "plt.show()"
      ],
      "metadata": {
        "id": "wSnwzbAXs_Sj",
        "outputId": "acc0f46a-2b3b-4b65-c7c2-1c72b1520557",
        "colab": {
          "base_uri": "https://localhost:8080/",
          "height": 472
        }
      },
      "execution_count": null,
      "outputs": [
        {
          "output_type": "display_data",
          "data": {
            "text/plain": [
              "<Figure size 640x480 with 1 Axes>"
            ],
            "image/png": "[encoded data removed]"
          },
          "metadata": {}
        }
      ]
    },
    {
      "cell_type": "code",
      "source": [
        "#Calculando medidas de tendência central do lead time\n",
        "media_lead_time= estoque['lead-time'].mean()\n",
        "mediana__lead_time = estoque['lead-time'].median()\n",
        "moda_lead_time = estoque['lead-time'].mode()\n",
        "\n",
        "print('Média do lead time das vendas de iogurte: ', media_lead_time.round())\n",
        "print('Mediana do lead time vendas de iogurte: ', mediana__lead_time)\n",
        "print('Moda do lead time das vendas de iogurte: ', moda_lead_time)\n",
        "\n",
        "print(\"\\nAo verificar os valores das medidas de tendência central do lead time, arredondado a média, verificamos que os três valores são iguais, indicando que se trata de uma distribuição normal\")"
      ],
      "metadata": {
        "id": "kZM9CUQg5-Gb",
        "outputId": "03f6f6e1-575f-4c8b-ad2d-a4d84a1cb53d",
        "colab": {
          "base_uri": "https://localhost:8080/"
        }
      },
      "execution_count": null,
      "outputs": [
        {
          "output_type": "stream",
          "name": "stdout",
          "text": [
            "Média do lead time das vendas de iogurte:  5.0\n",
            "Mediana do lead time vendas de iogurte:  5.0\n",
            "Moda do lead time das vendas de iogurte:  0    5\n",
            "Name: lead-time, dtype: int64\n",
            "\n",
            "Ao verificar os valores das medidas de tendência central do lead time, arredondado a média, verificamos que os três valores são iguais, indicando que se trata de uma distribuição normal\n"
          ]
        }
      ]
    },
    {
      "cell_type": "code",
      "source": [
        "#Plotando o histograma do lead time para verificar a distribuição de tendências\n",
        "\n",
        "plt.hist(estoque['lead-time'], bins=9)\n",
        "\n",
        "plt.title('Distribuição de frequência do lead time')\n",
        "\n",
        "plt.xlabel('Lead time')\n",
        "\n",
        "plt.show()"
      ],
      "metadata": {
        "id": "9X0QZWAY5rQ9",
        "outputId": "c6083e83-b753-42ff-9e38-d81852b4423e",
        "colab": {
          "base_uri": "https://localhost:8080/",
          "height": 472
        }
      },
      "execution_count": null,
      "outputs": [
        {
          "output_type": "display_data",
          "data": {
            "text/plain": [
              "<Figure size 640x480 with 1 Axes>"
            ],
            "image/png": "[encoded data removed]"
          },
          "metadata": {}
        }
      ]
    },
    {
      "cell_type": "code",
      "source": [
        "#Conclusão\n",
        "print(\"Para analisar a existência de uma distribuição normal, tomamos como base as seguintes características: \\n a) Medidas de tendência central iguais \\n b) Simetria em torno da média no histograma \\n\\nA quantidade de vendas possui medidas de tendência central ligeiramente diferentes e não possui simetria em torno da média. \\nO lead time das vendas possui medidas de tendência central iguais(considerando a média arredondada), porém seu histograma não possui simetria ao redor da média.\\nDesta forma, os dados se aproximam, mas não possuem uma distribuição perfeitamente normal.\")"
      ],
      "metadata": {
        "id": "XFgRqTe--EfZ",
        "outputId": "a0bced8d-1d0c-4e09-c27a-16f9bc10be4f",
        "colab": {
          "base_uri": "https://localhost:8080/"
        }
      },
      "execution_count": null,
      "outputs": [
        {
          "output_type": "stream",
          "name": "stdout",
          "text": [
            "Para analisar a existência de uma distribuição normal, tomamos como base as seguintes características: \n",
            " a) Medidas de tendência central iguais \n",
            " b) Simetria em torno da média no histograma \n",
            "\n",
            "A quantidade de vendas possui medidas de tendência central ligeiramente diferentes e não possui simetria em torno da média. \n",
            "O lead time das vendas possui medidas de tendência central iguais(considerando a média arredondada), porém seu histograma não possui simetria ao redor da média.\n",
            "Desta forma, os dados se aproximam, mas não possuem uma distribuição perfeitamente normal.\n"
          ]
        }
      ]
    },
    {
      "cell_type": "markdown",
      "source": [
        "## **Calculando o estoque de segurança desejado**\n",
        "\n",
        "Assuma para o cálculo que:\n",
        "\n",
        "a. Os dados seguem uma distribuição normal.\n",
        "\n",
        "b. O time de vendas utilize para o produto em questão o nível de serviço de 99,87%\n",
        "\n",
        "c. O produto não tem sazonalidade (todos os meses vende valores\n",
        "próximos) e a demanda média passada é uma boa estimativa para a\n",
        "projetada, de acordo com o time de planejamento de demanda.\n",
        "\n",
        "![image.png](data:image/png;base64,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)"
      ],
      "metadata": {
        "id": "2JlOa-lq6NbS"
      }
    },
    {
      "cell_type": "code",
      "source": [
        "estoque['data'] = estoque['data'].astype('datetime64')       ## transforma a coluna data no tipo datetime"
      ],
      "metadata": {
        "id": "VeR2tJS96cCG"
      },
      "execution_count": null,
      "outputs": []
    },
    {
      "cell_type": "code",
      "source": [
        "estoque['Ano'] = estoque['data'].dt.year                     ## acrescenta uma nova coluna mostrando somente o ano"
      ],
      "metadata": {
        "id": "oOXpYKvMoLHS"
      },
      "execution_count": null,
      "outputs": []
    },
    {
      "cell_type": "code",
      "source": [
        "estoque['mediaDiaria'] = estoque['vendas-iogurte'] / 7        ## acrescenta uma nova coluna mostrando a media diaria, já que os valores, até então apresentados,\n",
        "estoque                                                       ## equivalem a periodos de 7 dias"
      ],
      "metadata": {
        "id": "kwlZqstuoLPV",
        "outputId": "54609123-3514-4b51-efa9-0cd8b065aa6e",
        "colab": {
          "base_uri": "https://localhost:8080/",
          "height": 419
        }
      },
      "execution_count": null,
      "outputs": [
        {
          "output_type": "execute_result",
          "data": {
            "text/plain": [
              "          data  vendas-iogurte  lead-time   Ano  mediaDiaria\n",
              "0   2015-01-04            5083          4  2015   726.142857\n",
              "1   2015-01-11            4936          3  2015   705.142857\n",
              "2   2015-01-18            5051          6  2015   721.571429\n",
              "3   2015-01-25            4846          4  2015   692.285714\n",
              "4   2015-02-01            5003          5  2015   714.714286\n",
              "..         ...             ...        ...   ...          ...\n",
              "365 2022-01-02            5120          5  2022   731.428571\n",
              "366 2022-01-09            4968          3  2022   709.714286\n",
              "367 2022-01-16            5095          6  2022   727.857143\n",
              "368 2022-01-23            4941          6  2022   705.857143\n",
              "369 2022-01-30            5020          8  2022   717.142857\n",
              "\n",
              "[370 rows x 5 columns]"
            ],
            "text/html": [
              "\n",
              "  <div id=\"df-a51bde70-b0bb-4396-920f-bca8682154a6\" class=\"colab-df-container\">\n",
              "    <div>\n",
              "<style scoped>\n",
              "    .dataframe tbody tr th:only-of-type {\n",
              "        vertical-align: middle;\n",
              "    }\n",
              "\n",
              "    .dataframe tbody tr th {\n",
              "        vertical-align: top;\n",
              "    }\n",
              "\n",
              "    .dataframe thead th {\n",
              "        text-align: right;\n",
              "    }\n",
              "</style>\n",
              "<table border=\"1\" class=\"dataframe\">\n",
              "  <thead>\n",
              "    <tr style=\"text-align: right;\">\n",
              "      <th></th>\n",
              "      <th>data</th>\n",
              "      <th>vendas-iogurte</th>\n",
              "      <th>lead-time</th>\n",
              "      <th>Ano</th>\n",
              "      <th>mediaDiaria</th>\n",
              "    </tr>\n",
              "  </thead>\n",
              "  <tbody>\n",
              "    <tr>\n",
              "      <th>0</th>\n",
              "      <td>2015-01-04</td>\n",
              "      <td>5083</td>\n",
              "      <td>4</td>\n",
              "      <td>2015</td>\n",
              "      <td>726.142857</td>\n",
              "    </tr>\n",
              "    <tr>\n",
              "      <th>1</th>\n",
              "      <td>2015-01-11</td>\n",
              "      <td>4936</td>\n",
              "      <td>3</td>\n",
              "      <td>2015</td>\n",
              "      <td>705.142857</td>\n",
              "    </tr>\n",
              "    <tr>\n",
              "      <th>2</th>\n",
              "      <td>2015-01-18</td>\n",
              "      <td>5051</td>\n",
              "      <td>6</td>\n",
              "      <td>2015</td>\n",
              "      <td>721.571429</td>\n",
              "    </tr>\n",
              "    <tr>\n",
              "      <th>3</th>\n",
              "      <td>2015-01-25</td>\n",
              "      <td>4846</td>\n",
              "      <td>4</td>\n",
              "      <td>2015</td>\n",
              "      <td>692.285714</td>\n",
              "    </tr>\n",
              "    <tr>\n",
              "      <th>4</th>\n",
              "      <td>2015-02-01</td>\n",
              "      <td>5003</td>\n",
              "      <td>5</td>\n",
              "      <td>2015</td>\n",
              "      <td>714.714286</td>\n",
              "    </tr>\n",
              "    <tr>\n",
              "      <th>...</th>\n",
              "      <td>...</td>\n",
              "      <td>...</td>\n",
              "      <td>...</td>\n",
              "      <td>...</td>\n",
              "      <td>...</td>\n",
              "    </tr>\n",
              "    <tr>\n",
              "      <th>365</th>\n",
              "      <td>2022-01-02</td>\n",
              "      <td>5120</td>\n",
              "      <td>5</td>\n",
              "      <td>2022</td>\n",
              "      <td>731.428571</td>\n",
              "    </tr>\n",
              "    <tr>\n",
              "      <th>366</th>\n",
              "      <td>2022-01-09</td>\n",
              "      <td>4968</td>\n",
              "      <td>3</td>\n",
              "      <td>2022</td>\n",
              "      <td>709.714286</td>\n",
              "    </tr>\n",
              "    <tr>\n",
              "      <th>367</th>\n",
              "      <td>2022-01-16</td>\n",
              "      <td>5095</td>\n",
              "      <td>6</td>\n",
              "      <td>2022</td>\n",
              "      <td>727.857143</td>\n",
              "    </tr>\n",
              "    <tr>\n",
              "      <th>368</th>\n",
              "      <td>2022-01-23</td>\n",
              "      <td>4941</td>\n",
              "      <td>6</td>\n",
              "      <td>2022</td>\n",
              "      <td>705.857143</td>\n",
              "    </tr>\n",
              "    <tr>\n",
              "      <th>369</th>\n",
              "      <td>2022-01-30</td>\n",
              "      <td>5020</td>\n",
              "      <td>8</td>\n",
              "      <td>2022</td>\n",
              "      <td>717.142857</td>\n",
              "    </tr>\n",
              "  </tbody>\n",
              "</table>\n",
              "<p>370 rows × 5 columns</p>\n",
              "</div>\n",
              "    <div class=\"colab-df-buttons\">\n",
              "\n",
              "  <div class=\"colab-df-container\">\n",
              "    <button class=\"colab-df-convert\" onclick=\"convertToInteractive('df-a51bde70-b0bb-4396-920f-bca8682154a6')\"\n",
              "            title=\"Convert this dataframe to an interactive table.\"\n",
              "            style=\"display:none;\">\n",
              "\n",
              "  <svg xmlns=\"http://www.w3.org/2000/svg\" height=\"24px\" viewBox=\"0 -960 960 960\">\n",
              "    <path d=\"M120-120v-720h720v720H120Zm60-500h600v-160H180v160Zm220 220h160v-160H400v160Zm0 220h160v-160H400v160ZM180-400h160v-160H180v160Zm440 0h160v-160H620v160ZM180-180h160v-160H180v160Zm440 0h160v-160H620v160Z\"/>\n",
              "  </svg>\n",
              "    </button>\n",
              "\n",
              "  <style>\n",
              "    .colab-df-container {\n",
              "      display:flex;\n",
              "      gap: 12px;\n",
              "    }\n",
              "\n",
              "    .colab-df-convert {\n",
              "      background-color: #E8F0FE;\n",
              "      border: none;\n",
              "      border-radius: 50%;\n",
              "      cursor: pointer;\n",
              "      display: none;\n",
              "      fill: #1967D2;\n",
              "      height: 32px;\n",
              "      padding: 0 0 0 0;\n",
              "      width: 32px;\n",
              "    }\n",
              "\n",
              "    .colab-df-convert:hover {\n",
              "      background-color: #E2EBFA;\n",
              "      box-shadow: 0px 1px 2px rgba(60, 64, 67, 0.3), 0px 1px 3px 1px rgba(60, 64, 67, 0.15);\n",
              "      fill: #174EA6;\n",
              "    }\n",
              "\n",
              "    .colab-df-buttons div {\n",
              "      margin-bottom: 4px;\n",
              "    }\n",
              "\n",
              "    [theme=dark] .colab-df-convert {\n",
              "      background-color: #3B4455;\n",
              "      fill: #D2E3FC;\n",
              "    }\n",
              "\n",
              "    [theme=dark] .colab-df-convert:hover {\n",
              "      background-color: #434B5C;\n",
              "      box-shadow: 0px 1px 3px 1px rgba(0, 0, 0, 0.15);\n",
              "      filter: drop-shadow(0px 1px 2px rgba(0, 0, 0, 0.3));\n",
              "      fill: #FFFFFF;\n",
              "    }\n",
              "  </style>\n",
              "\n",
              "    <script>\n",
              "      const buttonEl =\n",
              "        document.querySelector('#df-a51bde70-b0bb-4396-920f-bca8682154a6 button.colab-df-convert');\n",
              "      buttonEl.style.display =\n",
              "        google.colab.kernel.accessAllowed ? 'block' : 'none';\n",
              "\n",
              "      async function convertToInteractive(key) {\n",
              "        const element = document.querySelector('#df-a51bde70-b0bb-4396-920f-bca8682154a6');\n",
              "        const dataTable =\n",
              "          await google.colab.kernel.invokeFunction('convertToInteractive',\n",
              "                                                    [key], {});\n",
              "        if (!dataTable) return;\n",
              "\n",
              "        const docLinkHtml = 'Like what you see? Visit the ' +\n",
              "          '<a target=\"_blank\" href=https://colab.research.google.com/notebooks/data_table.ipynb>data table notebook</a>'\n",
              "          + ' to learn more about interactive tables.';\n",
              "        element.innerHTML = '';\n",
              "        dataTable['output_type'] = 'display_data';\n",
              "        await google.colab.output.renderOutput(dataTable, element);\n",
              "        const docLink = document.createElement('div');\n",
              "        docLink.innerHTML = docLinkHtml;\n",
              "        element.appendChild(docLink);\n",
              "      }\n",
              "    </script>\n",
              "  </div>\n",
              "\n",
              "\n",
              "<div id=\"df-10b78649-fc6f-41bd-b8a7-4df1eec8a2da\">\n",
              "  <button class=\"colab-df-quickchart\" onclick=\"quickchart('df-10b78649-fc6f-41bd-b8a7-4df1eec8a2da')\"\n",
              "            title=\"Suggest charts\"\n",
              "            style=\"display:none;\">\n",
              "\n",
              "<svg xmlns=\"http://www.w3.org/2000/svg\" height=\"24px\"viewBox=\"0 0 24 24\"\n",
              "     width=\"24px\">\n",
              "    <g>\n",
              "        <path d=\"M19 3H5c-1.1 0-2 .9-2 2v14c0 1.1.9 2 2 2h14c1.1 0 2-.9 2-2V5c0-1.1-.9-2-2-2zM9 17H7v-7h2v7zm4 0h-2V7h2v10zm4 0h-2v-4h2v4z\"/>\n",
              "    </g>\n",
              "</svg>\n",
              "  </button>\n",
              "\n",
              "<style>\n",
              "  .colab-df-quickchart {\n",
              "      --bg-color: #E8F0FE;\n",
              "      --fill-color: #1967D2;\n",
              "      --hover-bg-color: #E2EBFA;\n",
              "      --hover-fill-color: #174EA6;\n",
              "      --disabled-fill-color: #AAA;\n",
              "      --disabled-bg-color: #DDD;\n",
              "  }\n",
              "\n",
              "  [theme=dark] .colab-df-quickchart {\n",
              "      --bg-color: #3B4455;\n",
              "      --fill-color: #D2E3FC;\n",
              "      --hover-bg-color: #434B5C;\n",
              "      --hover-fill-color: #FFFFFF;\n",
              "      --disabled-bg-color: #3B4455;\n",
              "      --disabled-fill-color: #666;\n",
              "  }\n",
              "\n",
              "  .colab-df-quickchart {\n",
              "    background-color: var(--bg-color);\n",
              "    border: none;\n",
              "    border-radius: 50%;\n",
              "    cursor: pointer;\n",
              "    display: none;\n",
              "    fill: var(--fill-color);\n",
              "    height: 32px;\n",
              "    padding: 0;\n",
              "    width: 32px;\n",
              "  }\n",
              "\n",
              "  .colab-df-quickchart:hover {\n",
              "    background-color: var(--hover-bg-color);\n",
              "    box-shadow: 0 1px 2px rgba(60, 64, 67, 0.3), 0 1px 3px 1px rgba(60, 64, 67, 0.15);\n",
              "    fill: var(--button-hover-fill-color);\n",
              "  }\n",
              "\n",
              "  .colab-df-quickchart-complete:disabled,\n",
              "  .colab-df-quickchart-complete:disabled:hover {\n",
              "    background-color: var(--disabled-bg-color);\n",
              "    fill: var(--disabled-fill-color);\n",
              "    box-shadow: none;\n",
              "  }\n",
              "\n",
              "  .colab-df-spinner {\n",
              "    border: 2px solid var(--fill-color);\n",
              "    border-color: transparent;\n",
              "    border-bottom-color: var(--fill-color);\n",
              "    animation:\n",
              "      spin 1s steps(1) infinite;\n",
              "  }\n",
              "\n",
              "  @keyframes spin {\n",
              "    0% {\n",
              "      border-color: transparent;\n",
              "      border-bottom-color: var(--fill-color);\n",
              "      border-left-color: var(--fill-color);\n",
              "    }\n",
              "    20% {\n",
              "      border-color: transparent;\n",
              "      border-left-color: var(--fill-color);\n",
              "      border-top-color: var(--fill-color);\n",
              "    }\n",
              "    30% {\n",
              "      border-color: transparent;\n",
              "      border-left-color: var(--fill-color);\n",
              "      border-top-color: var(--fill-color);\n",
              "      border-right-color: var(--fill-color);\n",
              "    }\n",
              "    40% {\n",
              "      border-color: transparent;\n",
              "      border-right-color: var(--fill-color);\n",
              "      border-top-color: var(--fill-color);\n",
              "    }\n",
              "    60% {\n",
              "      border-color: transparent;\n",
              "      border-right-color: var(--fill-color);\n",
              "    }\n",
              "    80% {\n",
              "      border-color: transparent;\n",
              "      border-right-color: var(--fill-color);\n",
              "      border-bottom-color: var(--fill-color);\n",
              "    }\n",
              "    90% {\n",
              "      border-color: transparent;\n",
              "      border-bottom-color: var(--fill-color);\n",
              "    }\n",
              "  }\n",
              "</style>\n",
              "\n",
              "  <script>\n",
              "    async function quickchart(key) {\n",
              "      const quickchartButtonEl =\n",
              "        document.querySelector('#' + key + ' button');\n",
              "      quickchartButtonEl.disabled = true;  // To prevent multiple clicks.\n",
              "      quickchartButtonEl.classList.add('colab-df-spinner');\n",
              "      try {\n",
              "        const charts = await google.colab.kernel.invokeFunction(\n",
              "            'suggestCharts', [key], {});\n",
              "      } catch (error) {\n",
              "        console.error('Error during call to suggestCharts:', error);\n",
              "      }\n",
              "      quickchartButtonEl.classList.remove('colab-df-spinner');\n",
              "      quickchartButtonEl.classList.add('colab-df-quickchart-complete');\n",
              "    }\n",
              "    (() => {\n",
              "      let quickchartButtonEl =\n",
              "        document.querySelector('#df-10b78649-fc6f-41bd-b8a7-4df1eec8a2da button');\n",
              "      quickchartButtonEl.style.display =\n",
              "        google.colab.kernel.accessAllowed ? 'block' : 'none';\n",
              "    })();\n",
              "  </script>\n",
              "</div>\n",
              "    </div>\n",
              "  </div>\n"
            ]
          },
          "metadata": {},
          "execution_count": 54
        }
      ]
    },
    {
      "cell_type": "code",
      "source": [
        "t = estoque.groupby(['Ano'])['lead-time'].mean()    ## foi calculado a média, das médias anuais do lead time, de forma a obter o t\n",
        "t = t.mean()\n",
        "t"
      ],
      "metadata": {
        "id": "PdSxY0JAoLRz",
        "outputId": "87fda66a-56ce-43b1-8746-b0c1e15ce2b4",
        "colab": {
          "base_uri": "https://localhost:8080/"
        }
      },
      "execution_count": null,
      "outputs": [
        {
          "output_type": "execute_result",
          "data": {
            "text/plain": [
              "5.152648766328012"
            ]
          },
          "metadata": {},
          "execution_count": 55
        }
      ]
    },
    {
      "cell_type": "code",
      "source": [
        "d = estoque.groupby(['Ano'])['mediaDiaria'].mean()    ## foi calculado a média, das medias anuais da demanda, de forma a obter o d\n",
        "d = d.mean()\n",
        "d"
      ],
      "metadata": {
        "id": "AhGIjCbuoLUj",
        "outputId": "d29babbc-e91e-4b3a-96a5-f8f45eddd527",
        "colab": {
          "base_uri": "https://localhost:8080/"
        }
      },
      "execution_count": null,
      "outputs": [
        {
          "output_type": "execute_result",
          "data": {
            "text/plain": [
              "714.6480587808418"
            ]
          },
          "metadata": {},
          "execution_count": 56
        }
      ]
    },
    {
      "cell_type": "code",
      "source": [
        "desvio_padrao_demanda = estoque.groupby(['Ano'])['mediaDiaria'].std()     ## desvio padrao da demanda (diária), agrupado por ano, seguido da média entre esses valores anuais\n",
        "desvio_padrao_demanda = desvio_padrao_demanda.mean()\n",
        "desvio_padrao_demanda"
      ],
      "metadata": {
        "id": "NTFGVV7qoLXe",
        "outputId": "0ae3a0b5-305d-49bc-8687-2f644280f9af",
        "colab": {
          "base_uri": "https://localhost:8080/"
        }
      },
      "execution_count": null,
      "outputs": [
        {
          "output_type": "execute_result",
          "data": {
            "text/plain": [
              "10.966348034975876"
            ]
          },
          "metadata": {},
          "execution_count": 57
        }
      ]
    },
    {
      "cell_type": "code",
      "source": [
        "desvio_padrao_leadtime = estoque.groupby(['Ano'])['lead-time'].std()            ## desvio padrao do lead time, agrupado por ano, seguido da média entre esses valores anuais\n",
        "desvio_padrao_leadtime = desvio_padrao_leadtime.mean()\n",
        "desvio_padrao_leadtime"
      ],
      "metadata": {
        "id": "__bpIocjoLZy",
        "outputId": "b0638334-f5c2-4cd1-e761-df7c64907aa6",
        "colab": {
          "base_uri": "https://localhost:8080/"
        }
      },
      "execution_count": null,
      "outputs": [
        {
          "output_type": "execute_result",
          "data": {
            "text/plain": [
              "1.5967342249596541"
            ]
          },
          "metadata": {},
          "execution_count": 58
        }
      ]
    },
    {
      "cell_type": "code",
      "source": [
        "## o valor 0.9987, passado como parâmetro, foi passado na questão e representa o nível de confiabilidade\n",
        "z = norm.ppf(0.9987)\n",
        "z"
      ],
      "metadata": {
        "id": "UThnZs6NoLcm",
        "outputId": "cbf0d84f-a029-4971-f5b9-8fc2e0a48b0e",
        "colab": {
          "base_uri": "https://localhost:8080/"
        }
      },
      "execution_count": null,
      "outputs": [
        {
          "output_type": "execute_result",
          "data": {
            "text/plain": [
              "3.011453758499792"
            ]
          },
          "metadata": {},
          "execution_count": 59
        }
      ]
    },
    {
      "cell_type": "code",
      "source": [
        "\n",
        "estoque_de_seguranca = z * (math.sqrt(((desvio_padrao_demanda**2)*t)+((desvio_padrao_leadtime**2)*(d**2))))       ## fórmula para calcular o estoque de segurança, passado na questão\n",
        "estoque_de_seguranca = int(estoque_de_seguranca.round())                                                          ## valor arredondado\n",
        "print('ESTOQUE DE SEGURANÇA = ', estoque_de_seguranca)"
      ],
      "metadata": {
        "id": "sYp3RyO1oLfg",
        "outputId": "5a36ffd2-04ef-42eb-dfbe-5a1b6262b9f0",
        "colab": {
          "base_uri": "https://localhost:8080/"
        }
      },
      "execution_count": null,
      "outputs": [
        {
          "output_type": "stream",
          "name": "stdout",
          "text": [
            "ESTOQUE DE SEGURANÇA =  3437\n"
          ]
        }
      ]
    }
  ]
}