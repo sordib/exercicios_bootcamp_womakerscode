{
  "nbformat": 4,
  "nbformat_minor": 0,
  "metadata": {
    "colab": {
      "provenance": [],
      "collapsed_sections": [
        "T7ut48BIpkog"
      ],
      "include_colab_link": true
    },
    "kernelspec": {
      "name": "python3",
      "display_name": "Python 3"
    },
    "language_info": {
      "name": "python"
    }
  },
  "cells": [
    {
      "cell_type": "markdown",
      "metadata": {
        "id": "view-in-github",
        "colab_type": "text"
      },
      "source": [
        "<a href=\"https://colab.research.google.com/github/sordib/exercicios_bootcamp_womakerscode/blob/main/challenge_semana3.ipynb\" target=\"_parent\"><img src=\"https://colab.research.google.com/assets/colab-badge.svg\" alt=\"Open In Colab\"/></a>"
      ]
    },
    {
      "cell_type": "markdown",
      "source": [
        "# **Desafio Teste de Hipóteses**"
      ],
      "metadata": {
        "id": "T7ut48BIpkog"
      }
    },
    {
      "cell_type": "markdown",
      "source": [
        "##Integrantes do Squad Grace Hopper:\n",
        "\n",
        "\n",
        "*   Aline Alvino\n",
        "*   Bianca Sordi\n",
        "*   Maitê S. Cuevas\n",
        "*   Marina Arthur\n",
        "*   Marina Neves\n",
        "*   Mayara Reghin\n",
        "*   Victória Viana\n",
        "*   Wellen Nascimento\n"
      ],
      "metadata": {
        "id": "u43nwQ5RpkyK"
      }
    },
    {
      "cell_type": "markdown",
      "source": [
        "---\n",
        "\n",
        "##Organização da Squad\n",
        "\n",
        "\n",
        "\n",
        "*  Nos reunimos para discutir sobre o desafio\n",
        "\n",
        "*  Compartilhamos o colab para deixar livre para todas colaborarem com o desafio\n",
        "\n",
        "*  Nos reunimos após o desafio estar pronto para conversar sobre o que fizemos, revisar e ajustar\n",
        "\n",
        "*  As integrantes Marina Arthur, Marina Neves, Victória e Wellen ficaram responsáveis pela apresentação\n",
        "\n",
        "\n",
        "\n"
      ],
      "metadata": {
        "id": "_OCXp08tpk1D"
      }
    },
    {
      "cell_type": "markdown",
      "source": [
        "---\n",
        "\n",
        "## Facilidades e dificuldades encontradas no desenvolvimento do desafio\n",
        "\n",
        "**Facilidades:**\n",
        "\n",
        "* Maitê tem uma grande experiencia com esse assunto e nos ajudou a entender melhor o desafio\n",
        "\n",
        "* Trabalho em conjunto pelo Colab\n",
        "\n",
        "* Houve uma melhora na nossa organização\n",
        "\n",
        "* Dados Fornecidos\n",
        "\n",
        "* Agora temos mais experiencia com análise exploratória\n",
        "\n",
        "\n",
        "\n",
        "**Dificuldades:**\n",
        "\n",
        "* Aplicar o teste para mais de duas condições\n",
        "\n",
        "* Entender sobre estatistica (por fora) para aplicar ao desafio\n",
        "\n",
        "* Interpretar os resultados obtidos\n",
        "\n"
      ],
      "metadata": {
        "id": "8Nh__YVypk4E"
      }
    },
    {
      "cell_type": "markdown",
      "source": [
        "# **Importando bibliotecas e bases de dados**\n"
      ],
      "metadata": {
        "id": "kMmaIxf_qoY5"
      }
    },
    {
      "cell_type": "code",
      "source": [
        "# importando as bibliotecas\n",
        "import pandas as pd\n",
        "import seaborn as sns\n",
        "import numpy as np\n",
        "import matplotlib.pyplot as plt\n",
        "from scipy.stats import norm\n",
        "from statsmodels.stats.weightstats import DescrStatsW, CompareMeans"
      ],
      "metadata": {
        "id": "DBsL5JNPqtu3"
      },
      "execution_count": null,
      "outputs": []
    },
    {
      "cell_type": "code",
      "source": [
        "# importando base de dados\n",
        "\n",
        "dados = pd.read_csv('desafio_01_cosmeticos_challenge_testehipoteses230206120450-230911-094933.csv')"
      ],
      "metadata": {
        "id": "33UUQNJQqt5N"
      },
      "execution_count": null,
      "outputs": []
    },
    {
      "cell_type": "markdown",
      "source": [
        "## **Conhecendo o dataset**"
      ],
      "metadata": {
        "id": "lzvbgRcxw-3W"
      }
    },
    {
      "cell_type": "code",
      "source": [
        "# visualizar as primeiras linhas\n",
        "dados.head()"
      ],
      "metadata": {
        "colab": {
          "base_uri": "https://localhost:8080/"
        },
        "id": "0LuWW9tVxLAc",
        "outputId": "cf0d9d8d-3f38-45db-d6d2-84fbcb7be67a"
      },
      "execution_count": null,
      "outputs": [
        {
          "output_type": "execute_result",
          "data": {
            "text/plain": [
              "   id_produto  id_voluntária  durabilidade  idade  exposicao_sol\n",
              "0           1              1            12     40              1\n",
              "1           2              2             5     36              0\n",
              "2           1              3            19     47              0\n",
              "3           1              4            14     36              1\n",
              "4           1              5            17     46              1"
            ],
            "text/html": [
              "\n",
              "  <div id=\"df-4ba26927-4ff1-4b96-b675-dcf4f8dabc98\" class=\"colab-df-container\">\n",
              "    <div>\n",
              "<style scoped>\n",
              "    .dataframe tbody tr th:only-of-type {\n",
              "        vertical-align: middle;\n",
              "    }\n",
              "\n",
              "    .dataframe tbody tr th {\n",
              "        vertical-align: top;\n",
              "    }\n",
              "\n",
              "    .dataframe thead th {\n",
              "        text-align: right;\n",
              "    }\n",
              "</style>\n",
              "<table border=\"1\" class=\"dataframe\">\n",
              "  <thead>\n",
              "    <tr style=\"text-align: right;\">\n",
              "      <th></th>\n",
              "      <th>id_produto</th>\n",
              "      <th>id_voluntária</th>\n",
              "      <th>durabilidade</th>\n",
              "      <th>idade</th>\n",
              "      <th>exposicao_sol</th>\n",
              "    </tr>\n",
              "  </thead>\n",
              "  <tbody>\n",
              "    <tr>\n",
              "      <th>0</th>\n",
              "      <td>1</td>\n",
              "      <td>1</td>\n",
              "      <td>12</td>\n",
              "      <td>40</td>\n",
              "      <td>1</td>\n",
              "    </tr>\n",
              "    <tr>\n",
              "      <th>1</th>\n",
              "      <td>2</td>\n",
              "      <td>2</td>\n",
              "      <td>5</td>\n",
              "      <td>36</td>\n",
              "      <td>0</td>\n",
              "    </tr>\n",
              "    <tr>\n",
              "      <th>2</th>\n",
              "      <td>1</td>\n",
              "      <td>3</td>\n",
              "      <td>19</td>\n",
              "      <td>47</td>\n",
              "      <td>0</td>\n",
              "    </tr>\n",
              "    <tr>\n",
              "      <th>3</th>\n",
              "      <td>1</td>\n",
              "      <td>4</td>\n",
              "      <td>14</td>\n",
              "      <td>36</td>\n",
              "      <td>1</td>\n",
              "    </tr>\n",
              "    <tr>\n",
              "      <th>4</th>\n",
              "      <td>1</td>\n",
              "      <td>5</td>\n",
              "      <td>17</td>\n",
              "      <td>46</td>\n",
              "      <td>1</td>\n",
              "    </tr>\n",
              "  </tbody>\n",
              "</table>\n",
              "</div>\n",
              "    <div class=\"colab-df-buttons\">\n",
              "\n",
              "  <div class=\"colab-df-container\">\n",
              "    <button class=\"colab-df-convert\" onclick=\"convertToInteractive('df-4ba26927-4ff1-4b96-b675-dcf4f8dabc98')\"\n",
              "            title=\"Convert this dataframe to an interactive table.\"\n",
              "            style=\"display:none;\">\n",
              "\n",
              "  <svg xmlns=\"http://www.w3.org/2000/svg\" height=\"24px\" viewBox=\"0 -960 960 960\">\n",
              "    <path d=\"M120-120v-720h720v720H120Zm60-500h600v-160H180v160Zm220 220h160v-160H400v160Zm0 220h160v-160H400v160ZM180-400h160v-160H180v160Zm440 0h160v-160H620v160ZM180-180h160v-160H180v160Zm440 0h160v-160H620v160Z\"/>\n",
              "  </svg>\n",
              "    </button>\n",
              "\n",
              "  <style>\n",
              "    .colab-df-container {\n",
              "      display:flex;\n",
              "      gap: 12px;\n",
              "    }\n",
              "\n",
              "    .colab-df-convert {\n",
              "      background-color: #E8F0FE;\n",
              "      border: none;\n",
              "      border-radius: 50%;\n",
              "      cursor: pointer;\n",
              "      display: none;\n",
              "      fill: #1967D2;\n",
              "      height: 32px;\n",
              "      padding: 0 0 0 0;\n",
              "      width: 32px;\n",
              "    }\n",
              "\n",
              "    .colab-df-convert:hover {\n",
              "      background-color: #E2EBFA;\n",
              "      box-shadow: 0px 1px 2px rgba(60, 64, 67, 0.3), 0px 1px 3px 1px rgba(60, 64, 67, 0.15);\n",
              "      fill: #174EA6;\n",
              "    }\n",
              "\n",
              "    .colab-df-buttons div {\n",
              "      margin-bottom: 4px;\n",
              "    }\n",
              "\n",
              "    [theme=dark] .colab-df-convert {\n",
              "      background-color: #3B4455;\n",
              "      fill: #D2E3FC;\n",
              "    }\n",
              "\n",
              "    [theme=dark] .colab-df-convert:hover {\n",
              "      background-color: #434B5C;\n",
              "      box-shadow: 0px 1px 3px 1px rgba(0, 0, 0, 0.15);\n",
              "      filter: drop-shadow(0px 1px 2px rgba(0, 0, 0, 0.3));\n",
              "      fill: #FFFFFF;\n",
              "    }\n",
              "  </style>\n",
              "\n",
              "    <script>\n",
              "      const buttonEl =\n",
              "        document.querySelector('#df-4ba26927-4ff1-4b96-b675-dcf4f8dabc98 button.colab-df-convert');\n",
              "      buttonEl.style.display =\n",
              "        google.colab.kernel.accessAllowed ? 'block' : 'none';\n",
              "\n",
              "      async function convertToInteractive(key) {\n",
              "        const element = document.querySelector('#df-4ba26927-4ff1-4b96-b675-dcf4f8dabc98');\n",
              "        const dataTable =\n",
              "          await google.colab.kernel.invokeFunction('convertToInteractive',\n",
              "                                                    [key], {});\n",
              "        if (!dataTable) return;\n",
              "\n",
              "        const docLinkHtml = 'Like what you see? Visit the ' +\n",
              "          '<a target=\"_blank\" href=https://colab.research.google.com/notebooks/data_table.ipynb>data table notebook</a>'\n",
              "          + ' to learn more about interactive tables.';\n",
              "        element.innerHTML = '';\n",
              "        dataTable['output_type'] = 'display_data';\n",
              "        await google.colab.output.renderOutput(dataTable, element);\n",
              "        const docLink = document.createElement('div');\n",
              "        docLink.innerHTML = docLinkHtml;\n",
              "        element.appendChild(docLink);\n",
              "      }\n",
              "    </script>\n",
              "  </div>\n",
              "\n",
              "\n",
              "<div id=\"df-cf9b44a6-9a53-4fb6-9109-6167a859a2b2\">\n",
              "  <button class=\"colab-df-quickchart\" onclick=\"quickchart('df-cf9b44a6-9a53-4fb6-9109-6167a859a2b2')\"\n",
              "            title=\"Suggest charts\"\n",
              "            style=\"display:none;\">\n",
              "\n",
              "<svg xmlns=\"http://www.w3.org/2000/svg\" height=\"24px\"viewBox=\"0 0 24 24\"\n",
              "     width=\"24px\">\n",
              "    <g>\n",
              "        <path d=\"M19 3H5c-1.1 0-2 .9-2 2v14c0 1.1.9 2 2 2h14c1.1 0 2-.9 2-2V5c0-1.1-.9-2-2-2zM9 17H7v-7h2v7zm4 0h-2V7h2v10zm4 0h-2v-4h2v4z\"/>\n",
              "    </g>\n",
              "</svg>\n",
              "  </button>\n",
              "\n",
              "<style>\n",
              "  .colab-df-quickchart {\n",
              "      --bg-color: #E8F0FE;\n",
              "      --fill-color: #1967D2;\n",
              "      --hover-bg-color: #E2EBFA;\n",
              "      --hover-fill-color: #174EA6;\n",
              "      --disabled-fill-color: #AAA;\n",
              "      --disabled-bg-color: #DDD;\n",
              "  }\n",
              "\n",
              "  [theme=dark] .colab-df-quickchart {\n",
              "      --bg-color: #3B4455;\n",
              "      --fill-color: #D2E3FC;\n",
              "      --hover-bg-color: #434B5C;\n",
              "      --hover-fill-color: #FFFFFF;\n",
              "      --disabled-bg-color: #3B4455;\n",
              "      --disabled-fill-color: #666;\n",
              "  }\n",
              "\n",
              "  .colab-df-quickchart {\n",
              "    background-color: var(--bg-color);\n",
              "    border: none;\n",
              "    border-radius: 50%;\n",
              "    cursor: pointer;\n",
              "    display: none;\n",
              "    fill: var(--fill-color);\n",
              "    height: 32px;\n",
              "    padding: 0;\n",
              "    width: 32px;\n",
              "  }\n",
              "\n",
              "  .colab-df-quickchart:hover {\n",
              "    background-color: var(--hover-bg-color);\n",
              "    box-shadow: 0 1px 2px rgba(60, 64, 67, 0.3), 0 1px 3px 1px rgba(60, 64, 67, 0.15);\n",
              "    fill: var(--button-hover-fill-color);\n",
              "  }\n",
              "\n",
              "  .colab-df-quickchart-complete:disabled,\n",
              "  .colab-df-quickchart-complete:disabled:hover {\n",
              "    background-color: var(--disabled-bg-color);\n",
              "    fill: var(--disabled-fill-color);\n",
              "    box-shadow: none;\n",
              "  }\n",
              "\n",
              "  .colab-df-spinner {\n",
              "    border: 2px solid var(--fill-color);\n",
              "    border-color: transparent;\n",
              "    border-bottom-color: var(--fill-color);\n",
              "    animation:\n",
              "      spin 1s steps(1) infinite;\n",
              "  }\n",
              "\n",
              "  @keyframes spin {\n",
              "    0% {\n",
              "      border-color: transparent;\n",
              "      border-bottom-color: var(--fill-color);\n",
              "      border-left-color: var(--fill-color);\n",
              "    }\n",
              "    20% {\n",
              "      border-color: transparent;\n",
              "      border-left-color: var(--fill-color);\n",
              "      border-top-color: var(--fill-color);\n",
              "    }\n",
              "    30% {\n",
              "      border-color: transparent;\n",
              "      border-left-color: var(--fill-color);\n",
              "      border-top-color: var(--fill-color);\n",
              "      border-right-color: var(--fill-color);\n",
              "    }\n",
              "    40% {\n",
              "      border-color: transparent;\n",
              "      border-right-color: var(--fill-color);\n",
              "      border-top-color: var(--fill-color);\n",
              "    }\n",
              "    60% {\n",
              "      border-color: transparent;\n",
              "      border-right-color: var(--fill-color);\n",
              "    }\n",
              "    80% {\n",
              "      border-color: transparent;\n",
              "      border-right-color: var(--fill-color);\n",
              "      border-bottom-color: var(--fill-color);\n",
              "    }\n",
              "    90% {\n",
              "      border-color: transparent;\n",
              "      border-bottom-color: var(--fill-color);\n",
              "    }\n",
              "  }\n",
              "</style>\n",
              "\n",
              "  <script>\n",
              "    async function quickchart(key) {\n",
              "      const quickchartButtonEl =\n",
              "        document.querySelector('#' + key + ' button');\n",
              "      quickchartButtonEl.disabled = true;  // To prevent multiple clicks.\n",
              "      quickchartButtonEl.classList.add('colab-df-spinner');\n",
              "      try {\n",
              "        const charts = await google.colab.kernel.invokeFunction(\n",
              "            'suggestCharts', [key], {});\n",
              "      } catch (error) {\n",
              "        console.error('Error during call to suggestCharts:', error);\n",
              "      }\n",
              "      quickchartButtonEl.classList.remove('colab-df-spinner');\n",
              "      quickchartButtonEl.classList.add('colab-df-quickchart-complete');\n",
              "    }\n",
              "    (() => {\n",
              "      let quickchartButtonEl =\n",
              "        document.querySelector('#df-cf9b44a6-9a53-4fb6-9109-6167a859a2b2 button');\n",
              "      quickchartButtonEl.style.display =\n",
              "        google.colab.kernel.accessAllowed ? 'block' : 'none';\n",
              "    })();\n",
              "  </script>\n",
              "</div>\n",
              "    </div>\n",
              "  </div>\n"
            ]
          },
          "metadata": {},
          "execution_count": 3
        }
      ]
    },
    {
      "cell_type": "code",
      "source": [
        "# visualizar o número de linhas e colunas\n",
        "dados.shape"
      ],
      "metadata": {
        "colab": {
          "base_uri": "https://localhost:8080/"
        },
        "id": "6kb52zmCyazl",
        "outputId": "7f18d2bd-b300-4e36-91da-3ac4fa2023ad"
      },
      "execution_count": null,
      "outputs": [
        {
          "output_type": "execute_result",
          "data": {
            "text/plain": [
              "(300, 5)"
            ]
          },
          "metadata": {},
          "execution_count": 4
        }
      ]
    },
    {
      "cell_type": "code",
      "source": [
        "#visualizar os tipos de dados\n",
        "dados.dtypes"
      ],
      "metadata": {
        "colab": {
          "base_uri": "https://localhost:8080/"
        },
        "id": "xxVkBVj1ya78",
        "outputId": "0d282582-5762-4d0f-807e-f24dfeb93412"
      },
      "execution_count": null,
      "outputs": [
        {
          "output_type": "execute_result",
          "data": {
            "text/plain": [
              "id_produto       int64\n",
              "id_voluntária    int64\n",
              "durabilidade     int64\n",
              "idade            int64\n",
              "exposicao_sol    int64\n",
              "dtype: object"
            ]
          },
          "metadata": {},
          "execution_count": 5
        }
      ]
    },
    {
      "cell_type": "markdown",
      "source": [
        "##**Análise exploratória do dataset**"
      ],
      "metadata": {
        "id": "DWBtb3D43igc"
      }
    },
    {
      "cell_type": "code",
      "source": [
        "#resumo estatístico das variáveis numéricas\n",
        "dados.describe()"
      ],
      "metadata": {
        "colab": {
          "base_uri": "https://localhost:8080/"
        },
        "id": "Q13S-XRF36Gj",
        "outputId": "5f6ba42a-ee83-465f-a7a8-6873fab10b57"
      },
      "execution_count": null,
      "outputs": [
        {
          "output_type": "execute_result",
          "data": {
            "text/plain": [
              "       id_produto  id_voluntária  durabilidade       idade  exposicao_sol\n",
              "count  300.000000     300.000000    300.000000  300.000000     300.000000\n",
              "mean     2.000000     150.500000     17.133333   36.886667       0.440000\n",
              "std      0.817861      86.746758     10.942945   12.625841       0.497216\n",
              "min      1.000000       1.000000      5.000000   18.000000       0.000000\n",
              "25%      1.000000      75.750000      9.000000   26.000000       0.000000\n",
              "50%      2.000000     150.500000     14.000000   36.000000       0.000000\n",
              "75%      3.000000     225.250000     20.000000   48.000000       1.000000\n",
              "max      3.000000     300.000000     48.000000   60.000000       1.000000"
            ],
            "text/html": [
              "\n",
              "  <div id=\"df-ad2bac62-5695-4cd1-8d34-9fc6884290de\" class=\"colab-df-container\">\n",
              "    <div>\n",
              "<style scoped>\n",
              "    .dataframe tbody tr th:only-of-type {\n",
              "        vertical-align: middle;\n",
              "    }\n",
              "\n",
              "    .dataframe tbody tr th {\n",
              "        vertical-align: top;\n",
              "    }\n",
              "\n",
              "    .dataframe thead th {\n",
              "        text-align: right;\n",
              "    }\n",
              "</style>\n",
              "<table border=\"1\" class=\"dataframe\">\n",
              "  <thead>\n",
              "    <tr style=\"text-align: right;\">\n",
              "      <th></th>\n",
              "      <th>id_produto</th>\n",
              "      <th>id_voluntária</th>\n",
              "      <th>durabilidade</th>\n",
              "      <th>idade</th>\n",
              "      <th>exposicao_sol</th>\n",
              "    </tr>\n",
              "  </thead>\n",
              "  <tbody>\n",
              "    <tr>\n",
              "      <th>count</th>\n",
              "      <td>300.000000</td>\n",
              "      <td>300.000000</td>\n",
              "      <td>300.000000</td>\n",
              "      <td>300.000000</td>\n",
              "      <td>300.000000</td>\n",
              "    </tr>\n",
              "    <tr>\n",
              "      <th>mean</th>\n",
              "      <td>2.000000</td>\n",
              "      <td>150.500000</td>\n",
              "      <td>17.133333</td>\n",
              "      <td>36.886667</td>\n",
              "      <td>0.440000</td>\n",
              "    </tr>\n",
              "    <tr>\n",
              "      <th>std</th>\n",
              "      <td>0.817861</td>\n",
              "      <td>86.746758</td>\n",
              "      <td>10.942945</td>\n",
              "      <td>12.625841</td>\n",
              "      <td>0.497216</td>\n",
              "    </tr>\n",
              "    <tr>\n",
              "      <th>min</th>\n",
              "      <td>1.000000</td>\n",
              "      <td>1.000000</td>\n",
              "      <td>5.000000</td>\n",
              "      <td>18.000000</td>\n",
              "      <td>0.000000</td>\n",
              "    </tr>\n",
              "    <tr>\n",
              "      <th>25%</th>\n",
              "      <td>1.000000</td>\n",
              "      <td>75.750000</td>\n",
              "      <td>9.000000</td>\n",
              "      <td>26.000000</td>\n",
              "      <td>0.000000</td>\n",
              "    </tr>\n",
              "    <tr>\n",
              "      <th>50%</th>\n",
              "      <td>2.000000</td>\n",
              "      <td>150.500000</td>\n",
              "      <td>14.000000</td>\n",
              "      <td>36.000000</td>\n",
              "      <td>0.000000</td>\n",
              "    </tr>\n",
              "    <tr>\n",
              "      <th>75%</th>\n",
              "      <td>3.000000</td>\n",
              "      <td>225.250000</td>\n",
              "      <td>20.000000</td>\n",
              "      <td>48.000000</td>\n",
              "      <td>1.000000</td>\n",
              "    </tr>\n",
              "    <tr>\n",
              "      <th>max</th>\n",
              "      <td>3.000000</td>\n",
              "      <td>300.000000</td>\n",
              "      <td>48.000000</td>\n",
              "      <td>60.000000</td>\n",
              "      <td>1.000000</td>\n",
              "    </tr>\n",
              "  </tbody>\n",
              "</table>\n",
              "</div>\n",
              "    <div class=\"colab-df-buttons\">\n",
              "\n",
              "  <div class=\"colab-df-container\">\n",
              "    <button class=\"colab-df-convert\" onclick=\"convertToInteractive('df-ad2bac62-5695-4cd1-8d34-9fc6884290de')\"\n",
              "            title=\"Convert this dataframe to an interactive table.\"\n",
              "            style=\"display:none;\">\n",
              "\n",
              "  <svg xmlns=\"http://www.w3.org/2000/svg\" height=\"24px\" viewBox=\"0 -960 960 960\">\n",
              "    <path d=\"M120-120v-720h720v720H120Zm60-500h600v-160H180v160Zm220 220h160v-160H400v160Zm0 220h160v-160H400v160ZM180-400h160v-160H180v160Zm440 0h160v-160H620v160ZM180-180h160v-160H180v160Zm440 0h160v-160H620v160Z\"/>\n",
              "  </svg>\n",
              "    </button>\n",
              "\n",
              "  <style>\n",
              "    .colab-df-container {\n",
              "      display:flex;\n",
              "      gap: 12px;\n",
              "    }\n",
              "\n",
              "    .colab-df-convert {\n",
              "      background-color: #E8F0FE;\n",
              "      border: none;\n",
              "      border-radius: 50%;\n",
              "      cursor: pointer;\n",
              "      display: none;\n",
              "      fill: #1967D2;\n",
              "      height: 32px;\n",
              "      padding: 0 0 0 0;\n",
              "      width: 32px;\n",
              "    }\n",
              "\n",
              "    .colab-df-convert:hover {\n",
              "      background-color: #E2EBFA;\n",
              "      box-shadow: 0px 1px 2px rgba(60, 64, 67, 0.3), 0px 1px 3px 1px rgba(60, 64, 67, 0.15);\n",
              "      fill: #174EA6;\n",
              "    }\n",
              "\n",
              "    .colab-df-buttons div {\n",
              "      margin-bottom: 4px;\n",
              "    }\n",
              "\n",
              "    [theme=dark] .colab-df-convert {\n",
              "      background-color: #3B4455;\n",
              "      fill: #D2E3FC;\n",
              "    }\n",
              "\n",
              "    [theme=dark] .colab-df-convert:hover {\n",
              "      background-color: #434B5C;\n",
              "      box-shadow: 0px 1px 3px 1px rgba(0, 0, 0, 0.15);\n",
              "      filter: drop-shadow(0px 1px 2px rgba(0, 0, 0, 0.3));\n",
              "      fill: #FFFFFF;\n",
              "    }\n",
              "  </style>\n",
              "\n",
              "    <script>\n",
              "      const buttonEl =\n",
              "        document.querySelector('#df-ad2bac62-5695-4cd1-8d34-9fc6884290de button.colab-df-convert');\n",
              "      buttonEl.style.display =\n",
              "        google.colab.kernel.accessAllowed ? 'block' : 'none';\n",
              "\n",
              "      async function convertToInteractive(key) {\n",
              "        const element = document.querySelector('#df-ad2bac62-5695-4cd1-8d34-9fc6884290de');\n",
              "        const dataTable =\n",
              "          await google.colab.kernel.invokeFunction('convertToInteractive',\n",
              "                                                    [key], {});\n",
              "        if (!dataTable) return;\n",
              "\n",
              "        const docLinkHtml = 'Like what you see? Visit the ' +\n",
              "          '<a target=\"_blank\" href=https://colab.research.google.com/notebooks/data_table.ipynb>data table notebook</a>'\n",
              "          + ' to learn more about interactive tables.';\n",
              "        element.innerHTML = '';\n",
              "        dataTable['output_type'] = 'display_data';\n",
              "        await google.colab.output.renderOutput(dataTable, element);\n",
              "        const docLink = document.createElement('div');\n",
              "        docLink.innerHTML = docLinkHtml;\n",
              "        element.appendChild(docLink);\n",
              "      }\n",
              "    </script>\n",
              "  </div>\n",
              "\n",
              "\n",
              "<div id=\"df-0a0716c2-9e20-47c1-95e1-1bf553721a7a\">\n",
              "  <button class=\"colab-df-quickchart\" onclick=\"quickchart('df-0a0716c2-9e20-47c1-95e1-1bf553721a7a')\"\n",
              "            title=\"Suggest charts\"\n",
              "            style=\"display:none;\">\n",
              "\n",
              "<svg xmlns=\"http://www.w3.org/2000/svg\" height=\"24px\"viewBox=\"0 0 24 24\"\n",
              "     width=\"24px\">\n",
              "    <g>\n",
              "        <path d=\"M19 3H5c-1.1 0-2 .9-2 2v14c0 1.1.9 2 2 2h14c1.1 0 2-.9 2-2V5c0-1.1-.9-2-2-2zM9 17H7v-7h2v7zm4 0h-2V7h2v10zm4 0h-2v-4h2v4z\"/>\n",
              "    </g>\n",
              "</svg>\n",
              "  </button>\n",
              "\n",
              "<style>\n",
              "  .colab-df-quickchart {\n",
              "      --bg-color: #E8F0FE;\n",
              "      --fill-color: #1967D2;\n",
              "      --hover-bg-color: #E2EBFA;\n",
              "      --hover-fill-color: #174EA6;\n",
              "      --disabled-fill-color: #AAA;\n",
              "      --disabled-bg-color: #DDD;\n",
              "  }\n",
              "\n",
              "  [theme=dark] .colab-df-quickchart {\n",
              "      --bg-color: #3B4455;\n",
              "      --fill-color: #D2E3FC;\n",
              "      --hover-bg-color: #434B5C;\n",
              "      --hover-fill-color: #FFFFFF;\n",
              "      --disabled-bg-color: #3B4455;\n",
              "      --disabled-fill-color: #666;\n",
              "  }\n",
              "\n",
              "  .colab-df-quickchart {\n",
              "    background-color: var(--bg-color);\n",
              "    border: none;\n",
              "    border-radius: 50%;\n",
              "    cursor: pointer;\n",
              "    display: none;\n",
              "    fill: var(--fill-color);\n",
              "    height: 32px;\n",
              "    padding: 0;\n",
              "    width: 32px;\n",
              "  }\n",
              "\n",
              "  .colab-df-quickchart:hover {\n",
              "    background-color: var(--hover-bg-color);\n",
              "    box-shadow: 0 1px 2px rgba(60, 64, 67, 0.3), 0 1px 3px 1px rgba(60, 64, 67, 0.15);\n",
              "    fill: var(--button-hover-fill-color);\n",
              "  }\n",
              "\n",
              "  .colab-df-quickchart-complete:disabled,\n",
              "  .colab-df-quickchart-complete:disabled:hover {\n",
              "    background-color: var(--disabled-bg-color);\n",
              "    fill: var(--disabled-fill-color);\n",
              "    box-shadow: none;\n",
              "  }\n",
              "\n",
              "  .colab-df-spinner {\n",
              "    border: 2px solid var(--fill-color);\n",
              "    border-color: transparent;\n",
              "    border-bottom-color: var(--fill-color);\n",
              "    animation:\n",
              "      spin 1s steps(1) infinite;\n",
              "  }\n",
              "\n",
              "  @keyframes spin {\n",
              "    0% {\n",
              "      border-color: transparent;\n",
              "      border-bottom-color: var(--fill-color);\n",
              "      border-left-color: var(--fill-color);\n",
              "    }\n",
              "    20% {\n",
              "      border-color: transparent;\n",
              "      border-left-color: var(--fill-color);\n",
              "      border-top-color: var(--fill-color);\n",
              "    }\n",
              "    30% {\n",
              "      border-color: transparent;\n",
              "      border-left-color: var(--fill-color);\n",
              "      border-top-color: var(--fill-color);\n",
              "      border-right-color: var(--fill-color);\n",
              "    }\n",
              "    40% {\n",
              "      border-color: transparent;\n",
              "      border-right-color: var(--fill-color);\n",
              "      border-top-color: var(--fill-color);\n",
              "    }\n",
              "    60% {\n",
              "      border-color: transparent;\n",
              "      border-right-color: var(--fill-color);\n",
              "    }\n",
              "    80% {\n",
              "      border-color: transparent;\n",
              "      border-right-color: var(--fill-color);\n",
              "      border-bottom-color: var(--fill-color);\n",
              "    }\n",
              "    90% {\n",
              "      border-color: transparent;\n",
              "      border-bottom-color: var(--fill-color);\n",
              "    }\n",
              "  }\n",
              "</style>\n",
              "\n",
              "  <script>\n",
              "    async function quickchart(key) {\n",
              "      const quickchartButtonEl =\n",
              "        document.querySelector('#' + key + ' button');\n",
              "      quickchartButtonEl.disabled = true;  // To prevent multiple clicks.\n",
              "      quickchartButtonEl.classList.add('colab-df-spinner');\n",
              "      try {\n",
              "        const charts = await google.colab.kernel.invokeFunction(\n",
              "            'suggestCharts', [key], {});\n",
              "      } catch (error) {\n",
              "        console.error('Error during call to suggestCharts:', error);\n",
              "      }\n",
              "      quickchartButtonEl.classList.remove('colab-df-spinner');\n",
              "      quickchartButtonEl.classList.add('colab-df-quickchart-complete');\n",
              "    }\n",
              "    (() => {\n",
              "      let quickchartButtonEl =\n",
              "        document.querySelector('#df-0a0716c2-9e20-47c1-95e1-1bf553721a7a button');\n",
              "      quickchartButtonEl.style.display =\n",
              "        google.colab.kernel.accessAllowed ? 'block' : 'none';\n",
              "    })();\n",
              "  </script>\n",
              "</div>\n",
              "    </div>\n",
              "  </div>\n"
            ]
          },
          "metadata": {},
          "execution_count": 6
        }
      ]
    },
    {
      "cell_type": "code",
      "source": [
        "dados.dtypes"
      ],
      "metadata": {
        "colab": {
          "base_uri": "https://localhost:8080/"
        },
        "id": "KMapiFb8zlSq",
        "outputId": "5e6e5cb2-fb97-4bdd-f168-a3b3c4fdc32f"
      },
      "execution_count": null,
      "outputs": [
        {
          "output_type": "execute_result",
          "data": {
            "text/plain": [
              "id_produto       int64\n",
              "id_voluntária    int64\n",
              "durabilidade     int64\n",
              "idade            int64\n",
              "exposicao_sol    int64\n",
              "dtype: object"
            ]
          },
          "metadata": {},
          "execution_count": 7
        }
      ]
    },
    {
      "cell_type": "code",
      "source": [
        "#distribuição das variáveis\n",
        "\n",
        "#histograma da durabildiade\n",
        "plt.hist(dados['durabilidade'], bins=10)\n",
        "plt.xlabel('Durabilidade')\n",
        "plt.ylabel('Contagem')\n",
        "plt.title('Distribuição da Durabilidade')\n",
        "plt.show()"
      ],
      "metadata": {
        "colab": {
          "base_uri": "https://localhost:8080/"
        },
        "id": "jyUSLQGb36Qc",
        "outputId": "827e947a-a18c-49c8-aa94-34088be43806"
      },
      "execution_count": null,
      "outputs": [
        {
          "output_type": "display_data",
          "data": {
            "text/plain": [
              "<Figure size 640x480 with 1 Axes>"
            ],
            "image/png": "[encoded data removed]"
          },
          "metadata": {}
        }
      ]
    },
    {
      "cell_type": "code",
      "source": [
        "#histograma da idade\n",
        "plt.hist(dados['idade'], bins=10)\n",
        "plt.xlabel('Idade')\n",
        "plt.ylabel('Contagem')\n",
        "plt.title('Distribuição da Idade')\n",
        "plt.show()"
      ],
      "metadata": {
        "colab": {
          "base_uri": "https://localhost:8080/"
        },
        "id": "x3N7ZtmQ4iAj",
        "outputId": "079c4962-3ffe-4ea4-dc6f-37240d70740c"
      },
      "execution_count": null,
      "outputs": [
        {
          "output_type": "display_data",
          "data": {
            "text/plain": [
              "<Figure size 640x480 with 1 Axes>"
            ],
            "image/png": "[encoded data removed]"
          },
          "metadata": {}
        }
      ]
    },
    {
      "cell_type": "code",
      "source": [
        "#media de durabilidade por id_produto\n",
        "\n",
        "media_durabilidade_por_produto = dados.groupby('id_produto')['durabilidade'].mean()\n",
        "media_durabilidade_por_produto"
      ],
      "metadata": {
        "colab": {
          "base_uri": "https://localhost:8080/"
        },
        "id": "NEeu8JNt6Jb9",
        "outputId": "98eb4b8a-aad7-4d6a-c28b-89a3d62b2c26"
      },
      "execution_count": null,
      "outputs": [
        {
          "output_type": "execute_result",
          "data": {
            "text/plain": [
              "id_produto\n",
              "1    15.11\n",
              "2     7.77\n",
              "3    28.52\n",
              "Name: durabilidade, dtype: float64"
            ]
          },
          "metadata": {},
          "execution_count": 10
        }
      ]
    },
    {
      "cell_type": "code",
      "source": [
        "#media de durabilidade por exposição ao sol\n",
        "\n",
        "media_durabilidade_por_exposicao = dados.groupby('exposicao_sol')['durabilidade'].mean()\n",
        "media_durabilidade_por_exposicao"
      ],
      "metadata": {
        "colab": {
          "base_uri": "https://localhost:8080/"
        },
        "id": "MTogY-GY6Jmp",
        "outputId": "4313fa82-2a10-4f4a-ddcc-d9050290ff46"
      },
      "execution_count": null,
      "outputs": [
        {
          "output_type": "execute_result",
          "data": {
            "text/plain": [
              "exposicao_sol\n",
              "0    20.577381\n",
              "1    12.750000\n",
              "Name: durabilidade, dtype: float64"
            ]
          },
          "metadata": {},
          "execution_count": 11
        }
      ]
    },
    {
      "cell_type": "code",
      "source": [
        "# quantidade por id_produto\n",
        "\n",
        "contagem_id_produtos = dados['id_produto'].value_counts().reset_index()\n",
        "contagem_id_produtos.columns = ['id_produto', 'quantidade']\n",
        "\n",
        "contagem_id_produtos"
      ],
      "metadata": {
        "colab": {
          "base_uri": "https://localhost:8080/"
        },
        "id": "OCIK1UyQvBd8",
        "outputId": "a690248e-1e5e-493a-e5ad-b50bdce1cdcc"
      },
      "execution_count": null,
      "outputs": [
        {
          "output_type": "execute_result",
          "data": {
            "text/plain": [
              "   id_produto  quantidade\n",
              "0           1         100\n",
              "1           2         100\n",
              "2           3         100"
            ],
            "text/html": [
              "\n",
              "  <div id=\"df-1bd0d898-8944-49d6-ba8a-c28ca22c6097\" class=\"colab-df-container\">\n",
              "    <div>\n",
              "<style scoped>\n",
              "    .dataframe tbody tr th:only-of-type {\n",
              "        vertical-align: middle;\n",
              "    }\n",
              "\n",
              "    .dataframe tbody tr th {\n",
              "        vertical-align: top;\n",
              "    }\n",
              "\n",
              "    .dataframe thead th {\n",
              "        text-align: right;\n",
              "    }\n",
              "</style>\n",
              "<table border=\"1\" class=\"dataframe\">\n",
              "  <thead>\n",
              "    <tr style=\"text-align: right;\">\n",
              "      <th></th>\n",
              "      <th>id_produto</th>\n",
              "      <th>quantidade</th>\n",
              "    </tr>\n",
              "  </thead>\n",
              "  <tbody>\n",
              "    <tr>\n",
              "      <th>0</th>\n",
              "      <td>1</td>\n",
              "      <td>100</td>\n",
              "    </tr>\n",
              "    <tr>\n",
              "      <th>1</th>\n",
              "      <td>2</td>\n",
              "      <td>100</td>\n",
              "    </tr>\n",
              "    <tr>\n",
              "      <th>2</th>\n",
              "      <td>3</td>\n",
              "      <td>100</td>\n",
              "    </tr>\n",
              "  </tbody>\n",
              "</table>\n",
              "</div>\n",
              "    <div class=\"colab-df-buttons\">\n",
              "\n",
              "  <div class=\"colab-df-container\">\n",
              "    <button class=\"colab-df-convert\" onclick=\"convertToInteractive('df-1bd0d898-8944-49d6-ba8a-c28ca22c6097')\"\n",
              "            title=\"Convert this dataframe to an interactive table.\"\n",
              "            style=\"display:none;\">\n",
              "\n",
              "  <svg xmlns=\"http://www.w3.org/2000/svg\" height=\"24px\" viewBox=\"0 -960 960 960\">\n",
              "    <path d=\"M120-120v-720h720v720H120Zm60-500h600v-160H180v160Zm220 220h160v-160H400v160Zm0 220h160v-160H400v160ZM180-400h160v-160H180v160Zm440 0h160v-160H620v160ZM180-180h160v-160H180v160Zm440 0h160v-160H620v160Z\"/>\n",
              "  </svg>\n",
              "    </button>\n",
              "\n",
              "  <style>\n",
              "    .colab-df-container {\n",
              "      display:flex;\n",
              "      gap: 12px;\n",
              "    }\n",
              "\n",
              "    .colab-df-convert {\n",
              "      background-color: #E8F0FE;\n",
              "      border: none;\n",
              "      border-radius: 50%;\n",
              "      cursor: pointer;\n",
              "      display: none;\n",
              "      fill: #1967D2;\n",
              "      height: 32px;\n",
              "      padding: 0 0 0 0;\n",
              "      width: 32px;\n",
              "    }\n",
              "\n",
              "    .colab-df-convert:hover {\n",
              "      background-color: #E2EBFA;\n",
              "      box-shadow: 0px 1px 2px rgba(60, 64, 67, 0.3), 0px 1px 3px 1px rgba(60, 64, 67, 0.15);\n",
              "      fill: #174EA6;\n",
              "    }\n",
              "\n",
              "    .colab-df-buttons div {\n",
              "      margin-bottom: 4px;\n",
              "    }\n",
              "\n",
              "    [theme=dark] .colab-df-convert {\n",
              "      background-color: #3B4455;\n",
              "      fill: #D2E3FC;\n",
              "    }\n",
              "\n",
              "    [theme=dark] .colab-df-convert:hover {\n",
              "      background-color: #434B5C;\n",
              "      box-shadow: 0px 1px 3px 1px rgba(0, 0, 0, 0.15);\n",
              "      filter: drop-shadow(0px 1px 2px rgba(0, 0, 0, 0.3));\n",
              "      fill: #FFFFFF;\n",
              "    }\n",
              "  </style>\n",
              "\n",
              "    <script>\n",
              "      const buttonEl =\n",
              "        document.querySelector('#df-1bd0d898-8944-49d6-ba8a-c28ca22c6097 button.colab-df-convert');\n",
              "      buttonEl.style.display =\n",
              "        google.colab.kernel.accessAllowed ? 'block' : 'none';\n",
              "\n",
              "      async function convertToInteractive(key) {\n",
              "        const element = document.querySelector('#df-1bd0d898-8944-49d6-ba8a-c28ca22c6097');\n",
              "        const dataTable =\n",
              "          await google.colab.kernel.invokeFunction('convertToInteractive',\n",
              "                                                    [key], {});\n",
              "        if (!dataTable) return;\n",
              "\n",
              "        const docLinkHtml = 'Like what you see? Visit the ' +\n",
              "          '<a target=\"_blank\" href=https://colab.research.google.com/notebooks/data_table.ipynb>data table notebook</a>'\n",
              "          + ' to learn more about interactive tables.';\n",
              "        element.innerHTML = '';\n",
              "        dataTable['output_type'] = 'display_data';\n",
              "        await google.colab.output.renderOutput(dataTable, element);\n",
              "        const docLink = document.createElement('div');\n",
              "        docLink.innerHTML = docLinkHtml;\n",
              "        element.appendChild(docLink);\n",
              "      }\n",
              "    </script>\n",
              "  </div>\n",
              "\n",
              "\n",
              "<div id=\"df-4af8e51c-66f7-4415-9942-e46d4cd3f139\">\n",
              "  <button class=\"colab-df-quickchart\" onclick=\"quickchart('df-4af8e51c-66f7-4415-9942-e46d4cd3f139')\"\n",
              "            title=\"Suggest charts\"\n",
              "            style=\"display:none;\">\n",
              "\n",
              "<svg xmlns=\"http://www.w3.org/2000/svg\" height=\"24px\"viewBox=\"0 0 24 24\"\n",
              "     width=\"24px\">\n",
              "    <g>\n",
              "        <path d=\"M19 3H5c-1.1 0-2 .9-2 2v14c0 1.1.9 2 2 2h14c1.1 0 2-.9 2-2V5c0-1.1-.9-2-2-2zM9 17H7v-7h2v7zm4 0h-2V7h2v10zm4 0h-2v-4h2v4z\"/>\n",
              "    </g>\n",
              "</svg>\n",
              "  </button>\n",
              "\n",
              "<style>\n",
              "  .colab-df-quickchart {\n",
              "      --bg-color: #E8F0FE;\n",
              "      --fill-color: #1967D2;\n",
              "      --hover-bg-color: #E2EBFA;\n",
              "      --hover-fill-color: #174EA6;\n",
              "      --disabled-fill-color: #AAA;\n",
              "      --disabled-bg-color: #DDD;\n",
              "  }\n",
              "\n",
              "  [theme=dark] .colab-df-quickchart {\n",
              "      --bg-color: #3B4455;\n",
              "      --fill-color: #D2E3FC;\n",
              "      --hover-bg-color: #434B5C;\n",
              "      --hover-fill-color: #FFFFFF;\n",
              "      --disabled-bg-color: #3B4455;\n",
              "      --disabled-fill-color: #666;\n",
              "  }\n",
              "\n",
              "  .colab-df-quickchart {\n",
              "    background-color: var(--bg-color);\n",
              "    border: none;\n",
              "    border-radius: 50%;\n",
              "    cursor: pointer;\n",
              "    display: none;\n",
              "    fill: var(--fill-color);\n",
              "    height: 32px;\n",
              "    padding: 0;\n",
              "    width: 32px;\n",
              "  }\n",
              "\n",
              "  .colab-df-quickchart:hover {\n",
              "    background-color: var(--hover-bg-color);\n",
              "    box-shadow: 0 1px 2px rgba(60, 64, 67, 0.3), 0 1px 3px 1px rgba(60, 64, 67, 0.15);\n",
              "    fill: var(--button-hover-fill-color);\n",
              "  }\n",
              "\n",
              "  .colab-df-quickchart-complete:disabled,\n",
              "  .colab-df-quickchart-complete:disabled:hover {\n",
              "    background-color: var(--disabled-bg-color);\n",
              "    fill: var(--disabled-fill-color);\n",
              "    box-shadow: none;\n",
              "  }\n",
              "\n",
              "  .colab-df-spinner {\n",
              "    border: 2px solid var(--fill-color);\n",
              "    border-color: transparent;\n",
              "    border-bottom-color: var(--fill-color);\n",
              "    animation:\n",
              "      spin 1s steps(1) infinite;\n",
              "  }\n",
              "\n",
              "  @keyframes spin {\n",
              "    0% {\n",
              "      border-color: transparent;\n",
              "      border-bottom-color: var(--fill-color);\n",
              "      border-left-color: var(--fill-color);\n",
              "    }\n",
              "    20% {\n",
              "      border-color: transparent;\n",
              "      border-left-color: var(--fill-color);\n",
              "      border-top-color: var(--fill-color);\n",
              "    }\n",
              "    30% {\n",
              "      border-color: transparent;\n",
              "      border-left-color: var(--fill-color);\n",
              "      border-top-color: var(--fill-color);\n",
              "      border-right-color: var(--fill-color);\n",
              "    }\n",
              "    40% {\n",
              "      border-color: transparent;\n",
              "      border-right-color: var(--fill-color);\n",
              "      border-top-color: var(--fill-color);\n",
              "    }\n",
              "    60% {\n",
              "      border-color: transparent;\n",
              "      border-right-color: var(--fill-color);\n",
              "    }\n",
              "    80% {\n",
              "      border-color: transparent;\n",
              "      border-right-color: var(--fill-color);\n",
              "      border-bottom-color: var(--fill-color);\n",
              "    }\n",
              "    90% {\n",
              "      border-color: transparent;\n",
              "      border-bottom-color: var(--fill-color);\n",
              "    }\n",
              "  }\n",
              "</style>\n",
              "\n",
              "  <script>\n",
              "    async function quickchart(key) {\n",
              "      const quickchartButtonEl =\n",
              "        document.querySelector('#' + key + ' button');\n",
              "      quickchartButtonEl.disabled = true;  // To prevent multiple clicks.\n",
              "      quickchartButtonEl.classList.add('colab-df-spinner');\n",
              "      try {\n",
              "        const charts = await google.colab.kernel.invokeFunction(\n",
              "            'suggestCharts', [key], {});\n",
              "      } catch (error) {\n",
              "        console.error('Error during call to suggestCharts:', error);\n",
              "      }\n",
              "      quickchartButtonEl.classList.remove('colab-df-spinner');\n",
              "      quickchartButtonEl.classList.add('colab-df-quickchart-complete');\n",
              "    }\n",
              "    (() => {\n",
              "      let quickchartButtonEl =\n",
              "        document.querySelector('#df-4af8e51c-66f7-4415-9942-e46d4cd3f139 button');\n",
              "      quickchartButtonEl.style.display =\n",
              "        google.colab.kernel.accessAllowed ? 'block' : 'none';\n",
              "    })();\n",
              "  </script>\n",
              "</div>\n",
              "    </div>\n",
              "  </div>\n"
            ]
          },
          "metadata": {},
          "execution_count": 12
        }
      ]
    },
    {
      "cell_type": "markdown",
      "source": [
        "# **Desafio 1: Cosméticos**"
      ],
      "metadata": {
        "id": "6IKSBzKjp9bW"
      }
    },
    {
      "cell_type": "markdown",
      "source": [
        "Suponha que você trabalha em uma empresa do ramo de cosméticos ou beleza. O\n",
        "Time de produtos dessa empresa está interessado criar novos batons com maior\n",
        "durabilidade. Para isso estão testando 3 diferentes fórmulas para irem a mercado.\n",
        "\n",
        "O time de produtos solicitou aos analistas de dados da\n",
        "empresa as seguintes perguntas a serem respondidas:"
      ],
      "metadata": {
        "id": "f2D3qXlzqxYe"
      }
    },
    {
      "cell_type": "markdown",
      "source": [
        "## 1 - Existe diferenca estatisticamente significativa na durabilidade dos batons com fórmulas diferentes?\n"
      ],
      "metadata": {
        "id": "wi_5VeHSq4BO"
      }
    },
    {
      "cell_type": "markdown",
      "source": [
        "### **Passo 1** - formulação das hipóteses $H_0$ e $H_1$"
      ],
      "metadata": {
        "id": "EzQgozZvopO6"
      }
    },
    {
      "cell_type": "markdown",
      "source": [
        "$H_0$: Não há diferença estatisticamente siginificativa na durabilidade entre as fórmulas 1 e 2 dos batons.\n",
        "\n",
        "$H_1$: Há diferença estatisticamente siginificativa na durabilidade das fórmulas 1 e 2"
      ],
      "metadata": {
        "id": "QUyXIcf9o_eV"
      }
    },
    {
      "cell_type": "code",
      "source": [
        "# separando o dataset de acordo com a fórmula do batom e não considerando exposição ao sol\n",
        "\n",
        "amostra_prod_1 = dados.query('id_produto == 1 & exposicao_sol == 0')\n",
        "amostra_prod_2 = dados.query('id_produto == 2 & exposicao_sol == 0')\n",
        "amostra_prod_3 = dados.query('id_produto == 3 & exposicao_sol == 0')\n",
        "n_prod_1 =len(amostra_prod_1)\n",
        "n_prod_2 =len(amostra_prod_2)\n",
        "n_prod_3 =len(amostra_prod_3)"
      ],
      "metadata": {
        "id": "DVVbDk5EstVh"
      },
      "execution_count": null,
      "outputs": []
    },
    {
      "cell_type": "code",
      "source": [
        "#verificando tamanho das amostras\n",
        "print('n1 = ', n_prod_1)\n",
        "print('n2 = ', n_prod_2)\n",
        "print('n3 = ', n_prod_3)\n",
        "\n",
        "#Verificando se n>=30\n",
        "if(n_prod_1>= 30 and n_prod_2>= 30 and  n_prod_3>= 30):\n",
        "    print('Amostra com n>= 30')\n",
        "else:\n",
        "    print('Amostra com n< 30')"
      ],
      "metadata": {
        "colab": {
          "base_uri": "https://localhost:8080/"
        },
        "id": "HRqixyK-WslA",
        "outputId": "c0757274-54de-4410-e8f4-62efcba53eea"
      },
      "execution_count": null,
      "outputs": [
        {
          "output_type": "stream",
          "name": "stdout",
          "text": [
            "n1 =  55\n",
            "n2 =  52\n",
            "n3 =  61\n",
            "Amostra com n>= 30\n"
          ]
        }
      ]
    },
    {
      "cell_type": "code",
      "source": [
        "# obtendo a média das amostras com relação à durabilidade\n",
        "media_amostra_prod_1 = amostra_prod_1['durabilidade'].mean()\n",
        "media_amostra_prod_2 = amostra_prod_2['durabilidade'].mean()\n",
        "media_amostra_prod_3 = amostra_prod_3['durabilidade'].mean()\n",
        "\n",
        "print('Média amostra 1 = ', media_amostra_prod_1)\n",
        "print('Média amostra 2 = ',media_amostra_prod_2)\n",
        "print('Média amostra 3 = ',media_amostra_prod_3)"
      ],
      "metadata": {
        "id": "ewXsm53NxZrN",
        "colab": {
          "base_uri": "https://localhost:8080/"
        },
        "outputId": "0805b381-ee00-464a-f4b3-84f37b61f81a"
      },
      "execution_count": null,
      "outputs": [
        {
          "output_type": "stream",
          "name": "stdout",
          "text": [
            "Média amostra 1 =  17.727272727272727\n",
            "Média amostra 2 =  7.961538461538462\n",
            "Média amostra 3 =  33.90163934426229\n"
          ]
        }
      ]
    },
    {
      "cell_type": "code",
      "source": [
        "# obtendo o desvio padrão das amostras com relação à durabilidade\n",
        "desvio_padrao_amostra_prod_1 = amostra_prod_1['durabilidade'].std()\n",
        "desvio_padrao_amostra_prod_2 = amostra_prod_2['durabilidade'].std()\n",
        "desvio_padrao_amostra_prod_3 = amostra_prod_3['durabilidade'].std()\n",
        "\n",
        "print('Desvio padrão amostra 1 = ', desvio_padrao_amostra_prod_1)\n",
        "print('Desvio padrão amostra 2 = ', desvio_padrao_amostra_prod_2)\n",
        "print('Desvio padrão amostra 3 = ', desvio_padrao_amostra_prod_3)"
      ],
      "metadata": {
        "id": "16uRwyR87xgF",
        "colab": {
          "base_uri": "https://localhost:8080/"
        },
        "outputId": "9ac5eaa9-e538-4873-ff4e-5ce8347e30da"
      },
      "execution_count": null,
      "outputs": [
        {
          "output_type": "stream",
          "name": "stdout",
          "text": [
            "Desvio padrão amostra 1 =  1.4963479672379814\n",
            "Desvio padrão amostra 2 =  2.057616539110511\n",
            "Desvio padrão amostra 3 =  9.098910041011848\n"
          ]
        }
      ]
    },
    {
      "cell_type": "code",
      "source": [
        "# Considerando 95 % de confiança, ou seja, 5 % de significância\n",
        "significancia = 0.05\n",
        "confianca = 1 - significancia\n",
        "D_0 = 0"
      ],
      "metadata": {
        "id": "7OWYltO38IMb"
      },
      "execution_count": null,
      "outputs": []
    },
    {
      "cell_type": "code",
      "source": [
        "#calculando o valor crítico de z\n",
        "probabilidade = (0.5 + (confianca/2))\n",
        "z_alpha_2 = norm.ppf(probabilidade)\n",
        "print('z alpha_2 = ', z_alpha_2.round(2))"
      ],
      "metadata": {
        "colab": {
          "base_uri": "https://localhost:8080/"
        },
        "id": "4kwOktCI8I1C",
        "outputId": "67e04cd4-5a35-4098-f1c4-f7adcb1ab3ad"
      },
      "execution_count": null,
      "outputs": [
        {
          "output_type": "stream",
          "name": "stdout",
          "text": [
            "z alpha_2 =  1.96\n"
          ]
        }
      ]
    },
    {
      "cell_type": "code",
      "source": [
        "#calculando a estatistica-teste para as fórmulas 1 e 2:\n",
        "numerador = (media_amostra_prod_1 - media_amostra_prod_2) - D_0\n",
        "denominador = np.sqrt((desvio_padrao_amostra_prod_1 ** 2 / n_prod_1 )) +  (desvio_padrao_amostra_prod_2 ** 2 / n_prod_2)\n",
        "z = numerador / denominador\n",
        "z"
      ],
      "metadata": {
        "id": "Qig2zmXnmPjl",
        "colab": {
          "base_uri": "https://localhost:8080/"
        },
        "outputId": "db66f930-1d49-4632-c100-617cce860f00"
      },
      "execution_count": null,
      "outputs": [
        {
          "output_type": "execute_result",
          "data": {
            "text/plain": [
              "34.48517165826842"
            ]
          },
          "metadata": {},
          "execution_count": 19
        }
      ]
    },
    {
      "cell_type": "code",
      "source": [
        "#Verificando o critério do valor crítico para fórmulas 1 e 2:\n",
        "if(z <= -z_alpha_2 or z >= z_alpha_2 ):\n",
        "    print('Rejeitar H0')\n",
        "else:\n",
        "    print('Aceitar H0')"
      ],
      "metadata": {
        "colab": {
          "base_uri": "https://localhost:8080/"
        },
        "id": "y3inY89ngq00",
        "outputId": "92a04dbd-bf74-45f6-9bc4-1ffd37206c8a"
      },
      "execution_count": null,
      "outputs": [
        {
          "output_type": "stream",
          "name": "stdout",
          "text": [
            "Rejeitar H0\n"
          ]
        }
      ]
    },
    {
      "cell_type": "markdown",
      "source": [
        "Conclusão: Com um nível de confiança de 95% rejeitamos $H_0$, isto é, concluímos que a média da durabilidade da fórmula 1 não é igual à durabilidade da fórmula 2. Como a média da durabilidade da fórmula 1 é maior, podemos concluir que o batom com a fórmula 1 possui maior durabilidade do que o batom com fórmula 2."
      ],
      "metadata": {
        "id": "_q1DhHWJcnXN"
      }
    },
    {
      "cell_type": "markdown",
      "source": [
        "**Segundo teste:**\n",
        "\n",
        "$H_0$: Não há diferença estatisticamente siginificativa na durabilidade entre as fórmulas 1 e 3 dos batons.\n",
        "\n",
        "$H_1$: Há diferença estatisticamente siginificativa na durabilidade das fórmulas 1 e 3"
      ],
      "metadata": {
        "id": "EWMOdtPpiT14"
      }
    },
    {
      "cell_type": "code",
      "source": [
        "#calculando a estatistica-teste para as fórmulas 1 e 3:\n",
        "numerador = (media_amostra_prod_1 - media_amostra_prod_3) - D_0\n",
        "denominador = np.sqrt((desvio_padrao_amostra_prod_1 ** 2 / n_prod_1 )) +  (desvio_padrao_amostra_prod_3 ** 2 / n_prod_3)\n",
        "z = numerador / denominador\n",
        "z"
      ],
      "metadata": {
        "colab": {
          "base_uri": "https://localhost:8080/"
        },
        "id": "GTScirigjXFj",
        "outputId": "b0703607-275f-4982-f4d7-701d6d3b8f68"
      },
      "execution_count": null,
      "outputs": [
        {
          "output_type": "execute_result",
          "data": {
            "text/plain": [
              "-10.374945260594558"
            ]
          },
          "metadata": {},
          "execution_count": 21
        }
      ]
    },
    {
      "cell_type": "code",
      "source": [
        "#Verificando o critério do valor crítico para fórmulas 1 e 3:\n",
        "if(z <= -z_alpha_2 or z >= z_alpha_2 ):\n",
        "    print('Rejeitar H0')\n",
        "else:\n",
        "    print('Aceitar H0')"
      ],
      "metadata": {
        "colab": {
          "base_uri": "https://localhost:8080/"
        },
        "id": "814VDLePktQn",
        "outputId": "4197cc0a-7ac1-4daa-b8c5-5feafd466bbe"
      },
      "execution_count": null,
      "outputs": [
        {
          "output_type": "stream",
          "name": "stdout",
          "text": [
            "Rejeitar H0\n"
          ]
        }
      ]
    },
    {
      "cell_type": "markdown",
      "source": [
        "Conclusão: Com um nível de confiança de 95% rejeitamos $H_0$, isto é, concluímos que a média da durabilidade da fórmula 1 não é igual à durabilidade da fórmula 3. Como a média da durabilidade da fórmula 3 é maior, podemos concluir que o batom com a fórmula 3 possui maior durabilidade do que o batom com fórmula 1. Desta forma, em termos de durabilidade temos: Fórmula3>Fórmula1>Fórmula2"
      ],
      "metadata": {
        "id": "7KACoKlAlFhP"
      }
    },
    {
      "cell_type": "markdown",
      "source": [
        "## 2 - Essa diferença persiste ou não quando a voluntária se expõe ao sol? E com relação à idade?\n"
      ],
      "metadata": {
        "id": "4itNfR4Iq4Iu"
      }
    },
    {
      "cell_type": "markdown",
      "source": [
        " EXPOSIÇÃO AO SOL"
      ],
      "metadata": {
        "id": "Q5qGLitG2GTi"
      }
    },
    {
      "cell_type": "code",
      "source": [
        "# separando o dataset de acordo com a fórmula do batom e considerando a exposição ao sol\n",
        "\n",
        "amostra_prod_1_exp = dados.query('id_produto == 1 & exposicao_sol == 1')\n",
        "amostra_prod_2_exp = dados.query('id_produto == 2 & exposicao_sol == 1')\n",
        "amostra_prod_3_exp = dados.query('id_produto == 3 & exposicao_sol == 1')\n",
        "n_prod_1_exp =len(amostra_prod_1_exp)\n",
        "n_prod_2_exp =len(amostra_prod_2_exp)\n",
        "n_prod_3_exp =len(amostra_prod_3_exp)\n"
      ],
      "metadata": {
        "id": "sPLNEoyUmwWJ"
      },
      "execution_count": null,
      "outputs": []
    },
    {
      "cell_type": "code",
      "source": [
        "#verificando tamanho das amostras\n",
        "print('n1 = ', n_prod_1_exp)\n",
        "print('n2 = ', n_prod_2_exp)\n",
        "print('n3 = ', n_prod_3_exp)\n",
        "\n",
        "#Verificando se n>=30\n",
        "if(n_prod_1_exp>= 30 and n_prod_2_exp >= 30 and  n_prod_3_exp >= 30 ):\n",
        "    print('Amostra com n>= 30')\n",
        "else:\n",
        "    print('Amostra com n< 30')"
      ],
      "metadata": {
        "colab": {
          "base_uri": "https://localhost:8080/"
        },
        "id": "OvrjJzHzoExO",
        "outputId": "65bc17eb-5e79-44a3-d7c5-bfda64639d0c"
      },
      "execution_count": null,
      "outputs": [
        {
          "output_type": "stream",
          "name": "stdout",
          "text": [
            "n1 =  45\n",
            "n2 =  48\n",
            "n3 =  39\n",
            "Amostra com n>= 30\n"
          ]
        }
      ]
    },
    {
      "cell_type": "code",
      "source": [
        "# obtendo a média das amostras com relação à durabilidade\n",
        "media_amostra_prod_1_exp = amostra_prod_1_exp['durabilidade'].mean()\n",
        "media_amostra_prod_2_exp = amostra_prod_2_exp['durabilidade'].mean()\n",
        "media_amostra_prod_3_exp = amostra_prod_3_exp['durabilidade'].mean()\n",
        "\n",
        "print('Média amostra 1 = ', media_amostra_prod_1_exp)\n",
        "print('Média amostra 2 = ',media_amostra_prod_2_exp)\n",
        "print('Média amostra 3 = ',media_amostra_prod_3_exp)"
      ],
      "metadata": {
        "colab": {
          "base_uri": "https://localhost:8080/"
        },
        "id": "nd0ooHPFvLmg",
        "outputId": "65a209c6-d01d-4bf1-de75-2f006e56aca2"
      },
      "execution_count": null,
      "outputs": [
        {
          "output_type": "stream",
          "name": "stdout",
          "text": [
            "Média amostra 1 =  11.911111111111111\n",
            "Média amostra 2 =  7.5625\n",
            "Média amostra 3 =  20.102564102564102\n"
          ]
        }
      ]
    },
    {
      "cell_type": "code",
      "source": [
        "# obtendo a desvio padrão das amostras com relação à durabilidade\n",
        "desvio_padrao_amostra_prod_1_exp = amostra_prod_1_exp['durabilidade'].std()\n",
        "desvio_padrao_amostra_prod_2_exp = amostra_prod_2_exp['durabilidade'].std()\n",
        "desvio_padrao_amostra_prod_3_exp = amostra_prod_3_exp['durabilidade'].std()\n",
        "\n",
        "print('Desvio padrão amostra 1 = ', desvio_padrao_amostra_prod_1_exp)\n",
        "print('Desvio padrão amostra 2 = ', desvio_padrao_amostra_prod_2_exp)\n",
        "print('Desvio padrão amostra 3 = ', desvio_padrao_amostra_prod_3_exp)"
      ],
      "metadata": {
        "colab": {
          "base_uri": "https://localhost:8080/"
        },
        "id": "SninEmV3vu9T",
        "outputId": "5a589f75-6739-44ae-d239-8234488a78ec"
      },
      "execution_count": null,
      "outputs": [
        {
          "output_type": "stream",
          "name": "stdout",
          "text": [
            "Desvio padrão amostra 1 =  1.5785813859029225\n",
            "Desvio padrão amostra 2 =  1.8090346549966154\n",
            "Desvio padrão amostra 3 =  8.466015255419356\n"
          ]
        }
      ]
    },
    {
      "cell_type": "markdown",
      "source": [
        "### **Primeiro teste** - formulação das hipóteses $H_0$ e $H_1$"
      ],
      "metadata": {
        "id": "aS-_sJ1l2YsL"
      }
    },
    {
      "cell_type": "markdown",
      "source": [
        "$H_0$: Não há diferença estatisticamente siginificativa na durabilidade entre as fórmulas 1 e 2 dos batons considerando exposição ao sol.\n",
        "\n",
        "$H_1$: Há diferença estatisticamente siginificativa na durabilidade das fórmulas 1 e 2 dos batons considerando exposição ao sol."
      ],
      "metadata": {
        "id": "kXww5oSY2dh9"
      }
    },
    {
      "cell_type": "code",
      "source": [
        "#calculando a estatistica-teste para as fórmulas 1 e 2:\n",
        "numerador = (media_amostra_prod_1_exp - media_amostra_prod_2_exp) - D_0\n",
        "denominador = np.sqrt((desvio_padrao_amostra_prod_1_exp ** 2 / n_prod_1_exp )) +  (desvio_padrao_amostra_prod_2_exp ** 2 / n_prod_2_exp)\n",
        "z = numerador / denominador\n",
        "z"
      ],
      "metadata": {
        "colab": {
          "base_uri": "https://localhost:8080/"
        },
        "id": "0wBgsbNkwM7b",
        "outputId": "68a419f7-7af9-4275-a236-e340c361fb10"
      },
      "execution_count": null,
      "outputs": [
        {
          "output_type": "execute_result",
          "data": {
            "text/plain": [
              "14.328192895184829"
            ]
          },
          "metadata": {},
          "execution_count": 27
        }
      ]
    },
    {
      "cell_type": "code",
      "source": [
        "#Verificando o critério do valor crítico para fórmulas 1 e 2:\n",
        "if(z <= -z_alpha_2 or z >= z_alpha_2 ):\n",
        "    print('Rejeitar H0')\n",
        "else:\n",
        "    print('Aceitar H0')"
      ],
      "metadata": {
        "colab": {
          "base_uri": "https://localhost:8080/"
        },
        "id": "gzG_luK6wanq",
        "outputId": "ddbad485-c30e-436b-d8cd-e31b5e67acfc"
      },
      "execution_count": null,
      "outputs": [
        {
          "output_type": "stream",
          "name": "stdout",
          "text": [
            "Rejeitar H0\n"
          ]
        }
      ]
    },
    {
      "cell_type": "markdown",
      "source": [
        "Conclusão: Com um nível de confiança de 95% rejeitamos $H_0$, isto é, concluímos que a média da durabilidade da fórmula 1 não é igual à durabilidade da fórmula 2. Como a média da durabilidade da fórmula 1 é maior, podemos concluir que o batom com a fórmula 1 possui maior durabilidade do que o batom com fórmula 2, mesmo sob exposição ao sol"
      ],
      "metadata": {
        "id": "JLUAe5orwhTL"
      }
    },
    {
      "cell_type": "markdown",
      "source": [
        "### **Segundo teste** - formulação das hipóteses $H_0$ e $H_1$"
      ],
      "metadata": {
        "id": "ZhOiQbcryKs9"
      }
    },
    {
      "cell_type": "markdown",
      "source": [
        "$H_0$: Não há diferença estatisticamente siginificativa na durabilidade entre as fórmulas 1 e 3 dos batons considerando exposição ao sol.\n",
        "\n",
        "$H_1$: Há diferença estatisticamente siginificativa na durabilidade das fórmulas 1 e 3 dos batons considerando exposição ao sol."
      ],
      "metadata": {
        "id": "UkWa-C--yeX7"
      }
    },
    {
      "cell_type": "code",
      "source": [
        "#calculando a estatistica-teste para as fórmulas 1 e 3:\n",
        "numerador = (media_amostra_prod_1_exp - media_amostra_prod_3_exp) - D_0\n",
        "denominador = np.sqrt((desvio_padrao_amostra_prod_1_exp ** 2 / n_prod_1_exp )) +  (desvio_padrao_amostra_prod_3_exp ** 2 / n_prod_3_exp)\n",
        "z = numerador / denominador\n",
        "z"
      ],
      "metadata": {
        "colab": {
          "base_uri": "https://localhost:8080/"
        },
        "id": "16IM7HVQyyJB",
        "outputId": "413e6976-540e-400b-aadf-d8a58b23d8ed"
      },
      "execution_count": null,
      "outputs": [
        {
          "output_type": "execute_result",
          "data": {
            "text/plain": [
              "-3.9513045880888353"
            ]
          },
          "metadata": {},
          "execution_count": 29
        }
      ]
    },
    {
      "cell_type": "code",
      "source": [
        "#Verificando o critério do valor crítico para fórmulas 1 e 3:\n",
        "if(z <= -z_alpha_2 or z >= z_alpha_2 ):\n",
        "    print('Rejeitar H0')\n",
        "else:\n",
        "    print('Aceitar H0')"
      ],
      "metadata": {
        "id": "PVcK7mIm12t1",
        "colab": {
          "base_uri": "https://localhost:8080/"
        },
        "outputId": "40fda03b-3c94-4849-ec16-0f88566a79d8"
      },
      "execution_count": null,
      "outputs": [
        {
          "output_type": "stream",
          "name": "stdout",
          "text": [
            "Rejeitar H0\n"
          ]
        }
      ]
    },
    {
      "cell_type": "markdown",
      "source": [
        "Conclusão: Com um nível de confiança de 95% rejeitamos $H_0$, isto é, concluímos que a média da durabilidade da fórmula 1 não é igual à durabilidade da fórmula 3. Como a média da durabilidade da fórmula 3 é maior, podemos concluir que o batom com a fórmula 3 possui maior durabilidade do que o batom com fórmula 1. Desta forma, em termos de durabilidade mantemos: Fórmula3>Fórmula1>Fórmula2"
      ],
      "metadata": {
        "id": "JHmTsMCkzSXZ"
      }
    },
    {
      "cell_type": "code",
      "source": [
        "## Boxplot para facilitar a visualização e comparação dos dados de durabilidade e exposição ao sol\n",
        "\n",
        "ax = sns.boxplot(data=dados, x='id_produto', y='durabilidade', hue ='exposicao_sol')\n",
        "ax.figure.set_size_inches(6, 6)\n",
        "ax.set_title('Comparação da durabilidade dos produtos com a exposição ao sol', fontsize=16)\n",
        "ax.set_xlabel('Produto', fontsize=12)\n",
        "ax.set_ylabel('Durabilidade em Horas', fontsize=12)\n",
        "ax.set_xticklabels(['Produto 1', 'Produto 2', 'Produto 3'])\n",
        "handles, _ = ax.get_legend_handles_labels()\n",
        "ax.legend(handles, ['Sem exposição','com exposição'], fontsize=10)\n",
        "ax"
      ],
      "metadata": {
        "id": "g_aYElC9BR2z",
        "colab": {
          "base_uri": "https://localhost:8080/",
          "height": 605
        },
        "outputId": "8a1d8285-f524-4a75-c29c-686ad3cba660"
      },
      "execution_count": null,
      "outputs": [
        {
          "output_type": "execute_result",
          "data": {
            "text/plain": [
              "<Axes: title={'center': 'Comparação da durabilidade dos produtos com a exposição ao sol'}, xlabel='Produto', ylabel='Durabilidade em Horas'>"
            ]
          },
          "metadata": {},
          "execution_count": 31
        },
        {
          "output_type": "display_data",
          "data": {
            "text/plain": [
              "<Figure size 600x600 with 1 Axes>"
            ],
            "image/png": "[encoded data removed]"
          },
          "metadata": {}
        }
      ]
    },
    {
      "cell_type": "markdown",
      "source": [
        "AVALIAÇÃO: é possível perceber que não existe uma grande dispersão dos dados para os produtos do tipo 1 e 2, diferente dos dados do produto 3, que possuem uma maior dispersão.\n",
        "\n",
        "Levando em consideração a exposição ao sol e a não exposição, o produto 1 apresentou uma melhor durabilidade ao se comparar com o produto 2, em ambos os casos. E percebe-se que ele se comportou ainda melhor naqueles que não se expuseram ao sol.\n",
        "\n",
        "Já o produto 3 foi o que demonstrou melhor performance, tanto nas pessoas que não foram expostas ao sol, quanto nas pessoas que foram. A diferença de durabilidade desse produto para os demais foi bem visível e significativa."
      ],
      "metadata": {
        "id": "uuO62WNvWC5p"
      }
    },
    {
      "cell_type": "markdown",
      "source": [
        "IDADE"
      ],
      "metadata": {
        "id": "fr9fgEHw2O9_"
      }
    },
    {
      "cell_type": "code",
      "source": [
        "#Analisando a variação dos valores de idade\n",
        "print('Idades variam de %s até %s' % (\n",
        "    dados['idade'].min(), dados['idade'].max()))"
      ],
      "metadata": {
        "id": "aIcr7XSc1GjD",
        "colab": {
          "base_uri": "https://localhost:8080/"
        },
        "outputId": "60d4ffeb-5473-4b23-9078-67a7dce8dab7"
      },
      "execution_count": null,
      "outputs": [
        {
          "output_type": "stream",
          "name": "stdout",
          "text": [
            "Idades variam de 18 até 60\n"
          ]
        }
      ]
    },
    {
      "cell_type": "code",
      "source": [
        "#Idade média do dataset\n",
        "dados['idade'].mean()"
      ],
      "metadata": {
        "colab": {
          "base_uri": "https://localhost:8080/"
        },
        "id": "t0J09KOg5uN1",
        "outputId": "fac32bf7-1dea-4db7-e2b5-462976711936"
      },
      "execution_count": null,
      "outputs": [
        {
          "output_type": "execute_result",
          "data": {
            "text/plain": [
              "36.88666666666666"
            ]
          },
          "metadata": {},
          "execution_count": 33
        }
      ]
    },
    {
      "cell_type": "code",
      "source": [
        "# separando o dataset para idades abaixo e acima de 25 anos\n",
        "\n",
        "amostra_prod_3_jovem = amostra_prod_3.query('idade <= 25')\n",
        "amostra_prod_3_madura = amostra_prod_3.query('idade > 25')\n",
        "n_prod_3_jovem =len(amostra_prod_3_jovem)\n",
        "n_prod_3_madura =len(amostra_prod_3_madura)\n"
      ],
      "metadata": {
        "id": "fAedklA_39mD"
      },
      "execution_count": null,
      "outputs": []
    },
    {
      "cell_type": "markdown",
      "source": [
        " **Passo 1** - formulação das hipóteses $H_0$ e $H_1$"
      ],
      "metadata": {
        "id": "4n7vbX8u2nrN"
      }
    },
    {
      "cell_type": "markdown",
      "source": [
        "$H_0$: Valores de durabilidade do público com menos de 25 anos é igual ao público de mais de 25 anos\n",
        "\n",
        "$H_1$: Valores de durabilidade do público com menos de 25 anos é diferente ao público de mais de 25 anos"
      ],
      "metadata": {
        "id": "Gvhxkg4v2pSj"
      }
    },
    {
      "cell_type": "code",
      "source": [
        "#verificando tamanho das amostras\n",
        "print('njovem = ', n_prod_3_jovem)\n",
        "print('nmadura = ', n_prod_3_madura)\n",
        "\n",
        "#Verificando se n>=30\n",
        "if((n_prod_3_jovem + n_prod_3_madura) >= 30 ):\n",
        "    print('Amostra com n>= 30')\n",
        "else:\n",
        "    print('Amostra com n< 30')"
      ],
      "metadata": {
        "colab": {
          "base_uri": "https://localhost:8080/"
        },
        "id": "wqnW1dgM40_x",
        "outputId": "bed5618a-1f8a-446d-c118-25237f72cecd"
      },
      "execution_count": null,
      "outputs": [
        {
          "output_type": "stream",
          "name": "stdout",
          "text": [
            "njovem =  34\n",
            "nmadura =  27\n",
            "Amostra com n>= 30\n"
          ]
        }
      ]
    },
    {
      "cell_type": "code",
      "source": [
        "# obtendo a média das amostras com relação à idade\n",
        "media_amostra_jovem = amostra_prod_3_jovem['durabilidade'].mean()\n",
        "media_amostra_madura = amostra_prod_3_madura['durabilidade'].mean()\n",
        "\n",
        "print('Média amostra jovem = ', media_amostra_jovem)\n",
        "print('Média amostra madura = ',media_amostra_madura)\n"
      ],
      "metadata": {
        "colab": {
          "base_uri": "https://localhost:8080/"
        },
        "id": "t6alczh9AkDH",
        "outputId": "a62e695b-4efd-4b63-8901-a505b9c8ac4e"
      },
      "execution_count": null,
      "outputs": [
        {
          "output_type": "stream",
          "name": "stdout",
          "text": [
            "Média amostra jovem =  35.73529411764706\n",
            "Média amostra madura =  31.59259259259259\n"
          ]
        }
      ]
    },
    {
      "cell_type": "code",
      "source": [
        "# obtendo a desvio padrão das amostras com relação à idade\n",
        "desvio_padrao_jovem = amostra_prod_3_jovem['durabilidade'].std()\n",
        "desvio_padrao_madura = amostra_prod_3_madura['durabilidade'].std()\n",
        "\n",
        "print('Desvio jovem = ', desvio_padrao_jovem)\n",
        "print('Desvio madura = ', desvio_padrao_madura)"
      ],
      "metadata": {
        "colab": {
          "base_uri": "https://localhost:8080/"
        },
        "id": "yvxIcV3OBBfH",
        "outputId": "600e9430-f8ac-4c9d-86dd-38e3006cefe9"
      },
      "execution_count": null,
      "outputs": [
        {
          "output_type": "stream",
          "name": "stdout",
          "text": [
            "Desvio jovem =  7.080955352122496\n",
            "Desvio madura =  10.838887465117509\n"
          ]
        }
      ]
    },
    {
      "cell_type": "code",
      "source": [
        "#calculando a estatistica-teste para as diferentes idades:\n",
        "numerador = (media_amostra_jovem - media_amostra_madura) - D_0\n",
        "denominador = np.sqrt((desvio_padrao_jovem ** 2 / n_prod_3_jovem )) +  (desvio_padrao_madura ** 2 / n_prod_3_madura)\n",
        "z = numerador / denominador\n",
        "z"
      ],
      "metadata": {
        "colab": {
          "base_uri": "https://localhost:8080/"
        },
        "id": "avLkVfjpAZYc",
        "outputId": "9180860e-74eb-4849-a991-7d0c15f2af34"
      },
      "execution_count": null,
      "outputs": [
        {
          "output_type": "execute_result",
          "data": {
            "text/plain": [
              "0.7443485573900857"
            ]
          },
          "metadata": {},
          "execution_count": 38
        }
      ]
    },
    {
      "cell_type": "code",
      "source": [
        "#Verificando o critério do valor crítico para fórmulas 1 e 3:\n",
        "if(z <= -z_alpha_2 or z >= z_alpha_2 ):\n",
        "    print('Rejeitar H0')\n",
        "else:\n",
        "    print('Aceitar H0')"
      ],
      "metadata": {
        "colab": {
          "base_uri": "https://localhost:8080/"
        },
        "id": "kd9ikey9CE5F",
        "outputId": "9c98d77f-b888-403b-a844-53b0e2e2134a"
      },
      "execution_count": null,
      "outputs": [
        {
          "output_type": "stream",
          "name": "stdout",
          "text": [
            "Aceitar H0\n"
          ]
        }
      ]
    },
    {
      "cell_type": "markdown",
      "source": [
        "Conclusão: Com um nível de confiança de 95% aceitamos $H_0$, isto é, concluímos que a média da durabilidade da fórmula 3, incluindo a exposição ao sol, em jovens é igual à durabilidade em pessoas maduras"
      ],
      "metadata": {
        "id": "sUQgk3uMCa-1"
      }
    },
    {
      "cell_type": "markdown",
      "source": [
        "## 3- Qual fórmula de batom voce indicaria para consumidores que buscam maior durabilidade e exposição ao sol?"
      ],
      "metadata": {
        "id": "qj2wchIzq4Mv"
      }
    },
    {
      "cell_type": "markdown",
      "source": [
        "$H_0$: Não há diferença estatisticamente siginificativa na durabilidade entre as fórmulas 3 e 1 dos batons CONSIDERANDO exposição ao sol.\n",
        "\n",
        "$H_1$: Há diferença estatisticamente siginificativa na durabilidade das fórmulas 3 e 1 dos batons CONSIDERANDO exposição ao sol."
      ],
      "metadata": {
        "id": "EjL5xDUZ0Fv2"
      }
    },
    {
      "cell_type": "code",
      "source": [
        "#calculando a estatistica-teste para as fórmulas 3 com exposição:\n",
        "numerador = (media_amostra_prod_3 - media_amostra_prod_3_exp) - D_0\n",
        "denominador = np.sqrt((desvio_padrao_amostra_prod_3 ** 2 / n_prod_3 )) +  (desvio_padrao_amostra_prod_3_exp ** 2 / n_prod_3_exp)\n",
        "z = numerador / denominador\n",
        "z"
      ],
      "metadata": {
        "colab": {
          "base_uri": "https://localhost:8080/"
        },
        "id": "P2Ls_QpQujzo",
        "outputId": "3e6e8363-c209-4789-dab5-c712e3dbfa50"
      },
      "execution_count": null,
      "outputs": [
        {
          "output_type": "execute_result",
          "data": {
            "text/plain": [
              "4.595439577164722"
            ]
          },
          "metadata": {},
          "execution_count": 40
        }
      ]
    },
    {
      "cell_type": "code",
      "source": [
        "#Verificando o critério do valor crítico para fórmulas 3 sem exposição:\n",
        "if(z <= -z_alpha_2 or z >= z_alpha_2 ):\n",
        "    print('Rejeitar H0')\n",
        "else:\n",
        "    print('Aceitar H0')"
      ],
      "metadata": {
        "colab": {
          "base_uri": "https://localhost:8080/"
        },
        "id": "LdjUL4xXw-Aa",
        "outputId": "5c799448-f7c5-4c93-99dc-e85bed42f4d4"
      },
      "execution_count": null,
      "outputs": [
        {
          "output_type": "stream",
          "name": "stdout",
          "text": [
            "Rejeitar H0\n"
          ]
        }
      ]
    },
    {
      "cell_type": "markdown",
      "source": [
        "Conclusão: Com um nível de confiança de 95% rejeitamos $H_0$, isto é, concluímos que a média da durabilidade da fórmula 3 não é igual à durabilidade da fórmula 1. Como a média da durabilidade da fórmula 3 é maior, podemos concluir que o batom com a fórmula 3 possui maior durabilidade sob exposição ao sol ou não. Por conta disso recomendaria a fórmula 3!"
      ],
      "metadata": {
        "id": "ruENOXQDznXH"
      }
    },
    {
      "cell_type": "markdown",
      "source": [
        "# **Desafio 2**"
      ],
      "metadata": {
        "id": "pgRDtoXIp9eQ"
      }
    },
    {
      "cell_type": "markdown",
      "source": [
        "Imagine que voce trabalha em uma empresa do setor alimentício, e o preço de\n",
        "determinado produto, um novo picolé, tem uma distribuição normal com média igual a\n",
        "RS7,85 e desvio padrão igual a RS3,32. Suspeita-se que devido ao verão, em\n",
        "determinadas localidades de praia o preco do picolé esteja mais caro.\n",
        "\n",
        "Para verificar se esse efeito é estatisticamente significativo, contactaram voce, analista\n",
        "de dados.\n",
        "Suponha que para realizar essa análise voce tenha dados de 45 lojas em cidades do\n",
        "litoral, escolhidas aleatoriamente. E constatou que o preço médio do picolé nessas\n",
        "cidades é de RS11,52.\n"
      ],
      "metadata": {
        "id": "9E31RUtlq52R"
      }
    },
    {
      "cell_type": "markdown",
      "source": [
        "## 1. Você pode concluir que existe diferença de preços estatisticamente relevante com 5% de significância?\n"
      ],
      "metadata": {
        "id": "4U1BZFjiq5on"
      }
    },
    {
      "cell_type": "markdown",
      "source": [
        "\n",
        "\n",
        "**Hipóteses:**\n",
        "\n",
        "$H_0$: Não existe diferença significativa de preço ( μ1 = μ2 )\n",
        "\n",
        "$H_1$: Existe diferença significativa de preço ( μ1 =! μ2 )\n"
      ],
      "metadata": {
        "id": "YqvHs4kM10W7"
      }
    },
    {
      "cell_type": "code",
      "source": [
        "## declaração das variáveis, segundo o enunciado\n",
        "\n",
        "media = 7.85\n",
        "sigma = 3.32\n",
        "n = 45\n",
        "media_amostras = 11.52\n",
        "significancia = 0.05\n",
        "confianca = 1 - significancia"
      ],
      "metadata": {
        "id": "GcNxVbNXBfO6"
      },
      "execution_count": null,
      "outputs": []
    },
    {
      "cell_type": "code",
      "source": [
        "#fórmula para encontrar a probabilidade\n",
        "\n",
        "probabilidade = (0.5 + (confianca/2))\n",
        "probabilidade"
      ],
      "metadata": {
        "colab": {
          "base_uri": "https://localhost:8080/"
        },
        "id": "LdeTLZJPPQIw",
        "outputId": "c3c832ce-3987-4440-d3c7-5814b88b06cf"
      },
      "execution_count": null,
      "outputs": [
        {
          "output_type": "execute_result",
          "data": {
            "text/plain": [
              "0.975"
            ]
          },
          "metadata": {},
          "execution_count": 43
        }
      ]
    },
    {
      "cell_type": "code",
      "source": [
        "## encontrando o Z alpha\n",
        "\n",
        "from scipy.stats import norm\n",
        "\n",
        "z_alpha_2 = norm.ppf(probabilidade)\n",
        "z_alpha_2"
      ],
      "metadata": {
        "colab": {
          "base_uri": "https://localhost:8080/"
        },
        "id": "aemkd-UzPQ3h",
        "outputId": "89641652-6524-4ce0-8a1f-7b674a5cbcf2"
      },
      "execution_count": null,
      "outputs": [
        {
          "output_type": "execute_result",
          "data": {
            "text/plain": [
              "1.959963984540054"
            ]
          },
          "metadata": {},
          "execution_count": 44
        }
      ]
    },
    {
      "cell_type": "code",
      "source": [
        "## encontrando z\n",
        "\n",
        "z = (media_amostras - media) / (sigma / np.sqrt(n))\n",
        "z"
      ],
      "metadata": {
        "colab": {
          "base_uri": "https://localhost:8080/"
        },
        "id": "NJ9NB7UBPS6Y",
        "outputId": "ce393746-99f0-45f1-eb02-0a28aecf88b8"
      },
      "execution_count": null,
      "outputs": [
        {
          "output_type": "execute_result",
          "data": {
            "text/plain": [
              "7.415394106106231"
            ]
          },
          "metadata": {},
          "execution_count": 45
        }
      ]
    },
    {
      "cell_type": "code",
      "source": [
        "#Verificando o critério do valor crítico:\n",
        "\n",
        "if(z <= -(z_alpha_2) or z >= z_alpha_2 ):\n",
        "    print('Rejeitar H0')\n",
        "else:\n",
        "    print('Aceitar H0')"
      ],
      "metadata": {
        "colab": {
          "base_uri": "https://localhost:8080/"
        },
        "id": "vh3yyXk0PVrW",
        "outputId": "39346f85-3e2f-4c53-abeb-a13ccfc2eb15"
      },
      "execution_count": null,
      "outputs": [
        {
          "output_type": "stream",
          "name": "stdout",
          "text": [
            "Rejeitar H0\n"
          ]
        }
      ]
    },
    {
      "cell_type": "markdown",
      "source": [
        "CONCLUSÃO: a hipotese nula nos dizia que não existe uma diferença significativa. Com nossa análise estátistica, nós descartamos essa hipótese e concluimos que **existe uma diferença de preços relevante com 5% de significancia.**"
      ],
      "metadata": {
        "id": "3ZdRSrq0QhOT"
      }
    },
    {
      "cell_type": "markdown",
      "source": [
        "## 2. Qual o valor da variável teste, o intervalo de confiança e o p-valor?"
      ],
      "metadata": {
        "id": "MQaTjnhdq5lm"
      }
    },
    {
      "cell_type": "code",
      "source": [
        "## calculando variável teste\n",
        "z"
      ],
      "metadata": {
        "id": "oiFcK0L7zVfB",
        "colab": {
          "base_uri": "https://localhost:8080/"
        },
        "outputId": "cc4a58ec-6d50-4b8a-e219-4c29e1c29ffe"
      },
      "execution_count": null,
      "outputs": [
        {
          "output_type": "execute_result",
          "data": {
            "text/plain": [
              "7.415394106106231"
            ]
          },
          "metadata": {},
          "execution_count": 47
        }
      ]
    },
    {
      "cell_type": "code",
      "source": [
        "## calculando intervalo de confiança (em reais preço mínimo e maximo)\n",
        "\n",
        "intervalo = norm.interval(confidence=0.95, loc = media, scale = sigma/np.sqrt(n))\n",
        "intervalo"
      ],
      "metadata": {
        "id": "4MJ33WIYBfk1",
        "colab": {
          "base_uri": "https://localhost:8080/"
        },
        "outputId": "f5ca9d64-ed0b-47b4-962f-1365c33c8bac"
      },
      "execution_count": null,
      "outputs": [
        {
          "output_type": "execute_result",
          "data": {
            "text/plain": [
              "(6.879981721761916, 8.820018278238082)"
            ]
          },
          "metadata": {},
          "execution_count": 48
        }
      ]
    },
    {
      "cell_type": "code",
      "source": [
        "## calculando p-valor\n",
        "\n",
        "p_valor = 2 * (norm.sf(z))\n",
        "p_valor"
      ],
      "metadata": {
        "colab": {
          "base_uri": "https://localhost:8080/"
        },
        "id": "A1Pwsf4dzSwi",
        "outputId": "052242c9-ee94-4cae-de5b-f437f459304a"
      },
      "execution_count": null,
      "outputs": [
        {
          "output_type": "execute_result",
          "data": {
            "text/plain": [
              "1.2126366281061861e-13"
            ]
          },
          "metadata": {},
          "execution_count": 49
        }
      ]
    },
    {
      "cell_type": "code",
      "source": [
        "#Verificando o critério do p_valor:\n",
        "if(p_valor <= significancia):\n",
        "    print('Rejeitar H0')\n",
        "else:\n",
        "    print('Aceitar H0')\n",
        "\n"
      ],
      "metadata": {
        "colab": {
          "base_uri": "https://localhost:8080/"
        },
        "id": "_EkYgc2HHoJA",
        "outputId": "899ef8dc-510c-479b-e5e4-2dc9b815d9ce"
      },
      "execution_count": null,
      "outputs": [
        {
          "output_type": "stream",
          "name": "stdout",
          "text": [
            "Rejeitar H0\n"
          ]
        }
      ]
    },
    {
      "cell_type": "markdown",
      "source": [
        "Como rejeitou-se H0, conclui-se que o preço de 11.52 é absusivo (significativamente diferente) comparado às médias das outras lojas de sorvete, além de estar fora do intervalo de confiança\n",
        "\n"
      ],
      "metadata": {
        "id": "xTFFnz745KsI"
      }
    }
  ]
}